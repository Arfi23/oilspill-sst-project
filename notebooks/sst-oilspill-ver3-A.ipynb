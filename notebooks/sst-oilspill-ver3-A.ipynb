{
 "cells": [
  {
   "cell_type": "markdown",
   "id": "f9f521e2-9e47-4596-9564-3b120a4c2c96",
   "metadata": {},
   "source": [
    "## __Versi 3a__\n",
    "---\n",
    "\n",
    "_(Basis implementasi bersumber dari versi 2)_\n",
    "\n",
    "Ketentuan khusus versi 3A :\n",
    "- Fokus pada Projection Head yang menerima hasil Transformer dengan shape (B, 99, 256)\n",
    "- Melakukan GAP pada dim=1 di Projection Head (Cell 5)\n",
    "- Melakukan proyeksi linear layer 256-128 di Projection Head (Cell 5)\n",
    "\n",
    "Beberapa perubahan yang ditambahkan (ketentuan bersama) :\n",
    "\n",
    "(PRETRAINING)\n",
    "- Linear layer pada projection head diubah dari 256-512-128 menjadi 256-128\n",
    "- Pada transformer, num_layers = 2 ditingkatkan menjadi num_layers = 5\n",
    "- Menambahkan mekanisme early stopping dengan patience = 50 dan epoch = 200\n",
    "\n",
    "(FINE-TUNING)\n",
    "- Melakukan freeze pada 3D conv encoder, transformer, dan projection head\n",
    "- Melatih classifier head saja\n",
    "\n",
    "(EVALUASI)\n",
    "- Hasil akhir berupa classification map\n",
    "\n",
    "---\n",
    "\n",
    "Cell yang terdampak modifikasi : \n",
    "- Cell 4 : Transformer\n",
    "- Cell 5 : Projection Head\n",
    "- Cell 11 : Inisialisasi\n",
    "- Cell 12 : Training Loop\n",
    "---"
   ]
  },
  {
   "cell_type": "code",
   "execution_count": 1,
   "id": "5b7439b2-1873-44d0-aef1-53f7862bbb29",
   "metadata": {},
   "outputs": [],
   "source": [
    "# Cell 1\n",
    "# Import semua library dasar yang dibutuhkan\n",
    "\n",
    "import torch\n",
    "import torch.nn as nn\n",
    "import torch.optim as optim\n",
    "from torch.utils.data import DataLoader, TensorDataset, random_split\n",
    "import torch.nn.functional as F\n",
    "import numpy as np\n",
    "import matplotlib.pyplot as plt\n"
   ]
  },
  {
   "cell_type": "code",
   "execution_count": 2,
   "id": "4649cf59-3706-4785-a6c7-9c11f813d8c1",
   "metadata": {},
   "outputs": [],
   "source": [
    "# Cell 2\n",
    "# Encoder 3D: bertugas mengekstraksi fitur spasial dan spektral dari patch hyperspectral.\n",
    "\n",
    "# Tujuan: menghasilkan 99 token (3×3×11) berukuran embedding 256\n",
    "# dari satu patch input berukuran (9×9×224)\n",
    "\n",
    "class SpectralSpatialEncoder3D(nn.Module):\n",
    "    def __init__(self, embedding_dim=256, init_channels=32):\n",
    "        super().__init__()\n",
    "        # -------------------------------------------------------\n",
    "        # Konvolusi pertama:\n",
    "        # - Kernel 3x3x20, stride sama (3x3x20)\n",
    "        # - Non-overlapping, agar setiap kernel mencakup satu subpatch\n",
    "        #   spasial-spektral unik\n",
    "        # Output: (B, 32, 11, 3, 3)\n",
    "        # -------------------------------------------------------\n",
    "        self.conv1 = nn.Conv3d(\n",
    "            in_channels=1,\n",
    "            out_channels=init_channels,\n",
    "            kernel_size=(20,3,3),\n",
    "            stride=(20,3,3),\n",
    "            padding=0\n",
    "        )\n",
    "        self.bn1 = nn.BatchNorm3d(init_channels)\n",
    "        self.relu1 = nn.ReLU(inplace=True)\n",
    "\n",
    "        # -------------------------------------------------------\n",
    "        # Konvolusi kedua:\n",
    "        # - Kernel 1x1x1, tanpa mengubah spasial/spektral\n",
    "        # - Berfungsi sebagai \"linear projection\" ke embedding dim 256\n",
    "        # Output: (B, 256, 11, 3, 3)\n",
    "        # -------------------------------------------------------\n",
    "        self.conv2 = nn.Conv3d(\n",
    "            in_channels=init_channels,\n",
    "            out_channels=embedding_dim,\n",
    "            kernel_size=(1,1,1),\n",
    "            stride=(1,1,1),\n",
    "            padding=0\n",
    "        )\n",
    "        self.bn2 = nn.BatchNorm3d(embedding_dim)\n",
    "        self.relu2 = nn.ReLU(inplace=True)\n",
    "    \n",
    "    def forward(self, x):\n",
    "        # x: tensor input (B, 1, 224, 9, 9)\n",
    "        x = self.relu1(self.bn1(self.conv1(x)))   # (B, 32, 11, 3, 3)\n",
    "        x = self.relu2(self.bn2(self.conv2(x)))   # (B, 256, 11, 3, 3)\n",
    "\n",
    "        # -------------------------------------------------------\n",
    "        # Ubah urutan dimensi agar token berada dalam satu dimensi\n",
    "        # Dari (B, 256, 11, 3, 3) ke (B, 11, 3, 3, 256)\n",
    "        # Lalu diratakan menjadi (B, 99, 256)\n",
    "        # -------------------------------------------------------\n",
    "        B, C, D, H, W = x.shape\n",
    "\n",
    "        # print(\"Encoder output before reshape:\", x.shape)  # ← untuk debug\n",
    "        x = x.permute(0,2,3,4,1).contiguous().view(x.size(0), -1, x.size(1)) # (B, 11, 3, 3, 256) lalu flatten ke (B, 99, 256)\n",
    "        # print(\"Encoder output after reshape:\", x.shape)   # ← untuk debug\n",
    "        return x\n"
   ]
  },
  {
   "cell_type": "code",
   "execution_count": 3,
   "id": "23c0b34e-4bda-413f-a83a-93c5eb311617",
   "metadata": {},
   "outputs": [],
   "source": [
    "# Cell 3\n",
    "# Fungsi ini menambahkan noise Gaussian ke vektor embedding hasil encoder (featoken)\n",
    "# untuk menghasilkan pasangan positif (positive key)\n",
    "\n",
    "class LatentAugmentor:\n",
    "    def __init__(self, sigma=0.1, device='cpu'):\n",
    "        self.sigma = sigma\n",
    "        self.device = device\n",
    "\n",
    "    def __call__(self, featoken):\n",
    "        \"\"\"\n",
    "        featoken: tensor berukuran (B, T, D)\n",
    "        menghasilkan augmented_featoken: (B, T, D)\n",
    "        \"\"\"\n",
    "        noise = torch.randn_like(featoken, device=featoken.device) * self.sigma\n",
    "        return featoken + noise\n"
   ]
  },
  {
   "cell_type": "code",
   "execution_count": 4,
   "id": "99f3a71e-9c93-44ac-9247-d16a0034fc9c",
   "metadata": {},
   "outputs": [],
   "source": [
    "# Cell 4\n",
    "# Transformer Encoder sederhana.\n",
    "# Menerima input dalam bentuk (batch, jumlah_token, dimensi_embedding) atau (B, T, D)\n",
    "# Dalam desain sekarang, jumlah_token = T (karena 1 patch bisa menghasilkan token sebanyak T, yaitu 99)\n",
    "\n",
    "class SimpleTransformerEncoder(nn.Module):\n",
    "    def __init__(self, embed_dim=256, num_heads=8, num_layers=5, mlp_dim=512, dropout=0.1): # num_layer = 2 sudah diganti jadi 5\n",
    "        super().__init__()\n",
    "        layer = nn.TransformerEncoderLayer(\n",
    "            d_model=embed_dim,\n",
    "            nhead=num_heads,\n",
    "            dim_feedforward=mlp_dim,\n",
    "            dropout=dropout,\n",
    "            batch_first=True\n",
    "        )\n",
    "        self.transformer = nn.TransformerEncoder(layer, num_layers=num_layers)\n",
    "\n",
    "    def forward(self, x):\n",
    "        \"\"\"\n",
    "        x: tensor (B, T, D)\n",
    "        T = jumlah token\n",
    "        \"\"\"\n",
    "        return self.transformer(x)\n"
   ]
  },
  {
   "cell_type": "code",
   "execution_count": 5,
   "id": "6111d607-048d-4ed3-aec1-cd1b2d3e9836",
   "metadata": {},
   "outputs": [],
   "source": [
    "# Cell 5\n",
    "# Projection head memetakan output dari transformer ke dimensi ruang latent\n",
    "# ruang latent adalah tempat dilakukan perhitungan kesamaan (cosine similarity).\n",
    "\n",
    "# Ketentuan versi A ini : \n",
    "# - Proyeksi dilakukan dari 256 langsung ke 128\n",
    "# - Pooling pada dim=1 dulu, lalu proyeksi 256 ke 128\n",
    "\n",
    "class ProjectionHead_A(nn.Module): # ditambah tulisan \"_A\"\n",
    "    def __init__(self, in_dim=256, proj_dim=128):\n",
    "        super().__init__()\n",
    "        self.net = nn.Linear(in_dim, proj_dim)\n",
    "\n",
    "    def forward(self, x):\n",
    "        \"\"\"\n",
    "        x shape: (B, 99, 256) dari transformer\n",
    "        GAP antar token sehingga diperoleh hasil (B, 256)\n",
    "        \"\"\"\n",
    "        x = x.mean(dim=1)  # Global Average Pool tiap dimensi embedding (secara horizontal - intertoken)\n",
    "        return self.net(x)  # -> (B, 128)\n"
   ]
  },
  {
   "cell_type": "code",
   "execution_count": 6,
   "id": "84d9db65-cef4-4b45-83ba-8b0e433aefdb",
   "metadata": {},
   "outputs": [],
   "source": [
    "# Cell 6\n",
    "# Implementasi fungsi loss InfoNCE\n",
    "# Mengukur kemiripan antar pasangan (query, positive key) dalam satu batch\n",
    "\n",
    "def info_nce_loss(q, k, temperature=0.1):\n",
    "    \"\"\"\n",
    "    q: queries (B, D)\n",
    "    k: positive keys (B, D)\n",
    "    \"\"\"\n",
    "    # Normalisasi\n",
    "    q = F.normalize(q, dim=1)\n",
    "    k = F.normalize(k, dim=1)\n",
    "\n",
    "    # Hitung kesamaan antar semua pasangan dalam batch\n",
    "    logits = torch.matmul(q, k.t()) / temperature\n",
    "    labels = torch.arange(logits.size(0), device=logits.device)\n",
    "    loss = F.cross_entropy(logits, labels)\n",
    "    return loss\n"
   ]
  },
  {
   "cell_type": "code",
   "execution_count": 7,
   "id": "615724e9-511f-4618-b301-9fe86e66622e",
   "metadata": {},
   "outputs": [
    {
     "name": "stdout",
     "output_type": "stream",
     "text": [
      "Class 0 shape: (5, 9, 9, 224)\n",
      "Class 1 shape: (5, 9, 9, 224)\n"
     ]
    }
   ],
   "source": [
    "# Cell 7\n",
    "# Load dataset hasil preprocessing\n",
    "\n",
    "import os\n",
    "\n",
    "data_dir = \"../data/processed\"\n",
    "patch_class0_path = os.path.join(data_dir, \"patch_class0.npy\")\n",
    "patch_class1_path = os.path.join(data_dir, \"patch_class1.npy\")\n",
    "\n",
    "# Pastikan file ada\n",
    "assert os.path.exists(patch_class0_path), f\"File tidak ditemukan: {patch_class0_path}\"\n",
    "assert os.path.exists(patch_class1_path), f\"File tidak ditemukan: {patch_class1_path}\"\n",
    "\n",
    "# Load file .npy\n",
    "patch_class0 = np.load(patch_class0_path) # kelas non oil spill\n",
    "patch_class1 = np.load(patch_class1_path) # kelas oil spill\n",
    "\n",
    "# Cek ukuran masing-masing dataset\n",
    "print(\"Class 0 shape:\", patch_class0.shape)\n",
    "print(\"Class 1 shape:\", patch_class1.shape)"
   ]
  },
  {
   "cell_type": "code",
   "execution_count": 8,
   "id": "73800f29-d7e9-4d2c-8e97-a5b0203366e7",
   "metadata": {},
   "outputs": [
    {
     "name": "stdout",
     "output_type": "stream",
     "text": [
      "Total samples: 10\n",
      "Labels shape: (10,)\n"
     ]
    }
   ],
   "source": [
    "# Cell 8\n",
    "# Gabungkan semua patch menjadi satu array\n",
    "X_all = np.concatenate([patch_class0, patch_class1], axis=0)\n",
    "\n",
    "# Buat label\n",
    "y_all = np.concatenate([\n",
    "    np.zeros(len(patch_class0)),  # label 0 untuk class 0\n",
    "    np.ones(len(patch_class1))    # label 1 untuk class 1\n",
    "])\n",
    "\n",
    "print(\"Total samples:\", X_all.shape[0])\n",
    "print(\"Labels shape:\", y_all.shape)\n"
   ]
  },
  {
   "cell_type": "code",
   "execution_count": 9,
   "id": "a656f6e9-4b84-4003-a8ec-7c427e1978d2",
   "metadata": {},
   "outputs": [
    {
     "name": "stdout",
     "output_type": "stream",
     "text": [
      "Tensor shape setelah permute: torch.Size([10, 1, 224, 9, 9])\n"
     ]
    }
   ],
   "source": [
    "# Cell 9\n",
    "# Ubah dari numpy ke tensor\n",
    "X_tensor = torch.tensor(X_all, dtype=torch.float32)\n",
    "y_tensor = torch.tensor(y_all, dtype=torch.long)\n",
    "\n",
    "# Ubah bentuk ke format Conv3D (N, C, D, H, W)\n",
    "X_tensor = X_tensor.unsqueeze(1).permute(0, 1, 4, 2, 3)\n",
    "\n",
    "print(\"Tensor shape setelah permute:\", X_tensor.shape)\n"
   ]
  },
  {
   "cell_type": "code",
   "execution_count": 10,
   "id": "c2800308-d36a-4f8e-9500-11ac2d75d882",
   "metadata": {},
   "outputs": [
    {
     "name": "stdout",
     "output_type": "stream",
     "text": [
      "Train samples: 8 | Validation samples: 2\n"
     ]
    }
   ],
   "source": [
    "# Cell 10\n",
    "# Split train dan validation\n",
    "\n",
    "# Tentukan ukuran train dan validation\n",
    "train_size = int(0.8 * len(X_tensor))\n",
    "val_size = len(X_tensor) - train_size\n",
    "\n",
    "# Buat indeks acak untuk memastikan X dan y sejajar\n",
    "indices = torch.randperm(len(X_tensor))\n",
    "train_idx = indices[:train_size]\n",
    "val_idx = indices[train_size:]\n",
    "\n",
    "# Bagi data berdasarkan indeks yang sama\n",
    "train_X = X_tensor[train_idx]\n",
    "train_y = y_tensor[train_idx]\n",
    "val_X = X_tensor[val_idx]\n",
    "val_y = y_tensor[val_idx]\n",
    "\n",
    "# Buat TensorDataset\n",
    "train_dataset = TensorDataset(train_X, train_y)\n",
    "val_dataset = TensorDataset(val_X, val_y)\n",
    "\n",
    "# Buat DataLoader\n",
    "train_loader = DataLoader(train_dataset, batch_size=32, shuffle=True)\n",
    "val_loader = DataLoader(val_dataset, batch_size=32, shuffle=False)\n",
    "\n",
    "print(f\"Train samples: {len(train_dataset)} | Validation samples: {len(val_dataset)}\")\n"
   ]
  },
  {
   "cell_type": "code",
   "execution_count": 11,
   "id": "26317425-d937-4089-875e-d8e0c8e4000e",
   "metadata": {},
   "outputs": [],
   "source": [
    "# Cell 11\n",
    "# Inisialisasi perangkat dan model\n",
    "# Inisialisasi perangkat\n",
    "device = 'cuda' if torch.cuda.is_available() else 'cpu'\n",
    "\n",
    "# Inisialisasi model\n",
    "encoder = SpectralSpatialEncoder3D(embedding_dim=256).to(device)\n",
    "augmentor = LatentAugmentor(sigma=0.08) # tidak .to(device) karena tidak trainable\n",
    "transformer = SimpleTransformerEncoder(embed_dim=256).to(device)\n",
    "\n",
    "proj_head = ProjectionHead_A(in_dim=256, proj_dim=128).to(device)  # menggunakan ProjectionHead_A\n",
    "   \n",
    "\n",
    "# Parameter dan optimizer\n",
    "params = list(encoder.parameters()) + list(transformer.parameters()) + list(proj_head.parameters())\n",
    "optimizer = optim.AdamW(params, lr=1e-4, weight_decay=0.01)\n",
    "\n"
   ]
  },
  {
   "cell_type": "code",
   "execution_count": 12,
   "id": "d382316c-fcd0-4aa8-be01-9f31cd08046e",
   "metadata": {},
   "outputs": [
    {
     "name": "stdout",
     "output_type": "stream",
     "text": [
      "[MAAF] Tidak ditemukan checkpoint. Memulai training dari awal.\n"
     ]
    },
    {
     "name": "stderr",
     "output_type": "stream",
     "text": [
      "Epoch 1/200 [Train]: 100%|████████████████████████████████████████████| 1/1 [00:00<00:00,  1.83it/s, Train Loss=1.0726]\n"
     ]
    },
    {
     "name": "stdout",
     "output_type": "stream",
     "text": [
      "Epoch [1/200] Train Loss: 1.0726 | Val Loss: 0.1779 | Time: 0.58s\n",
      "OK Model terbaik disimpan.\n"
     ]
    },
    {
     "name": "stderr",
     "output_type": "stream",
     "text": [
      "Epoch 2/200 [Train]: 100%|████████████████████████████████████████████| 1/1 [00:00<00:00, 11.29it/s, Train Loss=0.7160]\n"
     ]
    },
    {
     "name": "stdout",
     "output_type": "stream",
     "text": [
      "Epoch [2/200] Train Loss: 0.7160 | Val Loss: 0.0834 | Time: 0.09s\n",
      "OK Model terbaik disimpan.\n"
     ]
    },
    {
     "name": "stderr",
     "output_type": "stream",
     "text": [
      "Epoch 3/200 [Train]: 100%|████████████████████████████████████████████| 1/1 [00:00<00:00, 22.95it/s, Train Loss=0.4762]\n"
     ]
    },
    {
     "name": "stdout",
     "output_type": "stream",
     "text": [
      "Epoch [3/200] Train Loss: 0.4762 | Val Loss: 0.0379 | Time: 0.07s\n",
      "OK Model terbaik disimpan.\n"
     ]
    },
    {
     "name": "stderr",
     "output_type": "stream",
     "text": [
      "Epoch 4/200 [Train]: 100%|████████████████████████████████████████████| 1/1 [00:00<00:00, 34.36it/s, Train Loss=0.3111]\n"
     ]
    },
    {
     "name": "stdout",
     "output_type": "stream",
     "text": [
      "Epoch [4/200] Train Loss: 0.3111 | Val Loss: 0.0163 | Time: 0.05s\n",
      "OK Model terbaik disimpan.\n"
     ]
    },
    {
     "name": "stderr",
     "output_type": "stream",
     "text": [
      "Epoch 5/200 [Train]: 100%|████████████████████████████████████████████| 1/1 [00:00<00:00, 21.42it/s, Train Loss=0.2090]"
     ]
    },
    {
     "name": "stdout",
     "output_type": "stream",
     "text": [
      "Epoch [5/200] Train Loss: 0.2090 | Val Loss: 0.0113 | Time: 0.05s\n"
     ]
    },
    {
     "name": "stderr",
     "output_type": "stream",
     "text": [
      "\n"
     ]
    },
    {
     "name": "stdout",
     "output_type": "stream",
     "text": [
      "OK Model terbaik disimpan.\n"
     ]
    },
    {
     "name": "stderr",
     "output_type": "stream",
     "text": [
      "Epoch 6/200 [Train]: 100%|████████████████████████████████████████████| 1/1 [00:00<00:00, 27.86it/s, Train Loss=0.1353]\n"
     ]
    },
    {
     "name": "stdout",
     "output_type": "stream",
     "text": [
      "Epoch [6/200] Train Loss: 0.1353 | Val Loss: 0.0096 | Time: 0.05s\n",
      "OK Model terbaik disimpan.\n"
     ]
    },
    {
     "name": "stderr",
     "output_type": "stream",
     "text": [
      "Epoch 7/200 [Train]: 100%|████████████████████████████████████████████| 1/1 [00:00<00:00, 28.05it/s, Train Loss=0.0961]"
     ]
    },
    {
     "name": "stdout",
     "output_type": "stream",
     "text": [
      "Epoch [7/200] Train Loss: 0.0961 | Val Loss: 0.0099 | Time: 0.06s\n"
     ]
    },
    {
     "name": "stderr",
     "output_type": "stream",
     "text": [
      "\n"
     ]
    },
    {
     "name": "stdout",
     "output_type": "stream",
     "text": [
      "[Epoch 7] No improvement 1/50.\n"
     ]
    },
    {
     "name": "stderr",
     "output_type": "stream",
     "text": [
      "Epoch 8/200 [Train]: 100%|████████████████████████████████████████████| 1/1 [00:00<00:00, 24.26it/s, Train Loss=0.0576]\n"
     ]
    },
    {
     "name": "stdout",
     "output_type": "stream",
     "text": [
      "Epoch [8/200] Train Loss: 0.0576 | Val Loss: 0.0157 | Time: 0.05s\n",
      "[Epoch 8] No improvement 2/50.\n"
     ]
    },
    {
     "name": "stderr",
     "output_type": "stream",
     "text": [
      "Epoch 9/200 [Train]: 100%|████████████████████████████████████████████| 1/1 [00:00<00:00, 23.76it/s, Train Loss=0.0316]"
     ]
    },
    {
     "name": "stdout",
     "output_type": "stream",
     "text": [
      "Epoch [9/200] Train Loss: 0.0316 | Val Loss: 0.0174 | Time: 0.06s\n"
     ]
    },
    {
     "name": "stderr",
     "output_type": "stream",
     "text": [
      "\n"
     ]
    },
    {
     "name": "stdout",
     "output_type": "stream",
     "text": [
      "[Epoch 9] No improvement 3/50.\n"
     ]
    },
    {
     "name": "stderr",
     "output_type": "stream",
     "text": [
      "Epoch 10/200 [Train]: 100%|███████████████████████████████████████████| 1/1 [00:00<00:00, 28.54it/s, Train Loss=0.0175]\n"
     ]
    },
    {
     "name": "stdout",
     "output_type": "stream",
     "text": [
      "Epoch [10/200] Train Loss: 0.0175 | Val Loss: 0.0243 | Time: 0.04s\n",
      "[Epoch 10] No improvement 4/50.\n"
     ]
    },
    {
     "name": "stderr",
     "output_type": "stream",
     "text": [
      "Epoch 11/200 [Train]: 100%|███████████████████████████████████████████| 1/1 [00:00<00:00, 40.41it/s, Train Loss=0.0135]"
     ]
    },
    {
     "name": "stdout",
     "output_type": "stream",
     "text": [
      "Epoch [11/200] Train Loss: 0.0135 | Val Loss: 0.0241 | Time: 0.04s\n"
     ]
    },
    {
     "name": "stderr",
     "output_type": "stream",
     "text": [
      "\n"
     ]
    },
    {
     "name": "stdout",
     "output_type": "stream",
     "text": [
      "[Epoch 11] No improvement 5/50.\n"
     ]
    },
    {
     "name": "stderr",
     "output_type": "stream",
     "text": [
      "Epoch 12/200 [Train]: 100%|███████████████████████████████████████████| 1/1 [00:00<00:00, 23.53it/s, Train Loss=0.0109]\n"
     ]
    },
    {
     "name": "stdout",
     "output_type": "stream",
     "text": [
      "Epoch [12/200] Train Loss: 0.0109 | Val Loss: 0.0307 | Time: 0.04s\n",
      "[Epoch 12] No improvement 6/50.\n"
     ]
    },
    {
     "name": "stderr",
     "output_type": "stream",
     "text": [
      "Epoch 13/200 [Train]: 100%|███████████████████████████████████████████| 1/1 [00:00<00:00, 21.54it/s, Train Loss=0.0094]"
     ]
    },
    {
     "name": "stdout",
     "output_type": "stream",
     "text": [
      "Epoch [13/200] Train Loss: 0.0094 | Val Loss: 0.0275 | Time: 0.06s\n"
     ]
    },
    {
     "name": "stderr",
     "output_type": "stream",
     "text": [
      "\n"
     ]
    },
    {
     "name": "stdout",
     "output_type": "stream",
     "text": [
      "[Epoch 13] No improvement 7/50.\n"
     ]
    },
    {
     "name": "stderr",
     "output_type": "stream",
     "text": [
      "Epoch 14/200 [Train]: 100%|███████████████████████████████████████████| 1/1 [00:00<00:00, 29.92it/s, Train Loss=0.0097]\n"
     ]
    },
    {
     "name": "stdout",
     "output_type": "stream",
     "text": [
      "Epoch [14/200] Train Loss: 0.0097 | Val Loss: 0.0244 | Time: 0.06s\n",
      "[Epoch 14] No improvement 8/50.\n"
     ]
    },
    {
     "name": "stderr",
     "output_type": "stream",
     "text": [
      "Epoch 15/200 [Train]: 100%|███████████████████████████████████████████| 1/1 [00:00<00:00, 26.08it/s, Train Loss=0.0083]\n"
     ]
    },
    {
     "name": "stdout",
     "output_type": "stream",
     "text": [
      "Epoch [15/200] Train Loss: 0.0083 | Val Loss: 0.0189 | Time: 0.06s\n",
      "[Epoch 15] No improvement 9/50.\n"
     ]
    },
    {
     "name": "stderr",
     "output_type": "stream",
     "text": [
      "Epoch 16/200 [Train]: 100%|███████████████████████████████████████████| 1/1 [00:00<00:00, 23.07it/s, Train Loss=0.0065]"
     ]
    },
    {
     "name": "stdout",
     "output_type": "stream",
     "text": [
      "Epoch [16/200] Train Loss: 0.0065 | Val Loss: 0.0093 | Time: 0.05s\n"
     ]
    },
    {
     "name": "stderr",
     "output_type": "stream",
     "text": [
      "\n"
     ]
    },
    {
     "name": "stdout",
     "output_type": "stream",
     "text": [
      "OK Model terbaik disimpan.\n"
     ]
    },
    {
     "name": "stderr",
     "output_type": "stream",
     "text": [
      "Epoch 17/200 [Train]: 100%|███████████████████████████████████████████| 1/1 [00:00<00:00, 29.29it/s, Train Loss=0.0053]"
     ]
    },
    {
     "name": "stdout",
     "output_type": "stream",
     "text": [
      "Epoch [17/200] Train Loss: 0.0053 | Val Loss: 0.0062 | Time: 0.05s\n"
     ]
    },
    {
     "name": "stderr",
     "output_type": "stream",
     "text": [
      "\n"
     ]
    },
    {
     "name": "stdout",
     "output_type": "stream",
     "text": [
      "OK Model terbaik disimpan.\n"
     ]
    },
    {
     "name": "stderr",
     "output_type": "stream",
     "text": [
      "Epoch 18/200 [Train]: 100%|███████████████████████████████████████████| 1/1 [00:00<00:00, 37.02it/s, Train Loss=0.0048]\n"
     ]
    },
    {
     "name": "stdout",
     "output_type": "stream",
     "text": [
      "Epoch [18/200] Train Loss: 0.0048 | Val Loss: 0.0033 | Time: 0.04s\n",
      "OK Model terbaik disimpan.\n"
     ]
    },
    {
     "name": "stderr",
     "output_type": "stream",
     "text": [
      "Epoch 19/200 [Train]: 100%|███████████████████████████████████████████| 1/1 [00:00<00:00, 30.20it/s, Train Loss=0.0048]"
     ]
    },
    {
     "name": "stdout",
     "output_type": "stream",
     "text": [
      "Epoch [19/200] Train Loss: 0.0048 | Val Loss: 0.0021 | Time: 0.04s\n"
     ]
    },
    {
     "name": "stderr",
     "output_type": "stream",
     "text": [
      "\n"
     ]
    },
    {
     "name": "stdout",
     "output_type": "stream",
     "text": [
      "OK Model terbaik disimpan.\n"
     ]
    },
    {
     "name": "stderr",
     "output_type": "stream",
     "text": [
      "Epoch 20/200 [Train]: 100%|███████████████████████████████████████████| 1/1 [00:00<00:00, 31.75it/s, Train Loss=0.0054]\n"
     ]
    },
    {
     "name": "stdout",
     "output_type": "stream",
     "text": [
      "Epoch [20/200] Train Loss: 0.0054 | Val Loss: 0.0014 | Time: 0.05s\n",
      "OK Model terbaik disimpan.\n"
     ]
    },
    {
     "name": "stderr",
     "output_type": "stream",
     "text": [
      "Epoch 21/200 [Train]: 100%|███████████████████████████████████████████| 1/1 [00:00<00:00, 22.26it/s, Train Loss=0.0047]"
     ]
    },
    {
     "name": "stdout",
     "output_type": "stream",
     "text": [
      "Epoch [21/200] Train Loss: 0.0047 | Val Loss: 0.0013 | Time: 0.06s\n"
     ]
    },
    {
     "name": "stderr",
     "output_type": "stream",
     "text": [
      "\n"
     ]
    },
    {
     "name": "stdout",
     "output_type": "stream",
     "text": [
      "OK Model terbaik disimpan.\n"
     ]
    },
    {
     "name": "stderr",
     "output_type": "stream",
     "text": [
      "Epoch 22/200 [Train]: 100%|███████████████████████████████████████████| 1/1 [00:00<00:00, 21.30it/s, Train Loss=0.0043]\n"
     ]
    },
    {
     "name": "stdout",
     "output_type": "stream",
     "text": [
      "Epoch [22/200] Train Loss: 0.0043 | Val Loss: 0.0010 | Time: 0.05s\n",
      "OK Model terbaik disimpan.\n"
     ]
    },
    {
     "name": "stderr",
     "output_type": "stream",
     "text": [
      "Epoch 23/200 [Train]: 100%|███████████████████████████████████████████| 1/1 [00:00<00:00, 31.52it/s, Train Loss=0.0040]\n"
     ]
    },
    {
     "name": "stdout",
     "output_type": "stream",
     "text": [
      "Epoch [23/200] Train Loss: 0.0040 | Val Loss: 0.0006 | Time: 0.03s\n",
      "OK Model terbaik disimpan.\n"
     ]
    },
    {
     "name": "stderr",
     "output_type": "stream",
     "text": [
      "Epoch 24/200 [Train]: 100%|███████████████████████████████████████████| 1/1 [00:00<00:00, 21.36it/s, Train Loss=0.0034]\n"
     ]
    },
    {
     "name": "stdout",
     "output_type": "stream",
     "text": [
      "Epoch [24/200] Train Loss: 0.0034 | Val Loss: 0.0006 | Time: 0.05s\n",
      "OK Model terbaik disimpan.\n"
     ]
    },
    {
     "name": "stderr",
     "output_type": "stream",
     "text": [
      "Epoch 25/200 [Train]: 100%|███████████████████████████████████████████| 1/1 [00:00<00:00, 32.06it/s, Train Loss=0.0035]\n"
     ]
    },
    {
     "name": "stdout",
     "output_type": "stream",
     "text": [
      "Epoch [25/200] Train Loss: 0.0035 | Val Loss: 0.0004 | Time: 0.05s\n",
      "OK Model terbaik disimpan.\n"
     ]
    },
    {
     "name": "stderr",
     "output_type": "stream",
     "text": [
      "Epoch 26/200 [Train]: 100%|███████████████████████████████████████████| 1/1 [00:00<00:00, 21.48it/s, Train Loss=0.0030]"
     ]
    },
    {
     "name": "stdout",
     "output_type": "stream",
     "text": [
      "Epoch [26/200] Train Loss: 0.0030 | Val Loss: 0.0003 | Time: 0.06s\n"
     ]
    },
    {
     "name": "stderr",
     "output_type": "stream",
     "text": [
      "\n"
     ]
    },
    {
     "name": "stdout",
     "output_type": "stream",
     "text": [
      "OK Model terbaik disimpan.\n"
     ]
    },
    {
     "name": "stderr",
     "output_type": "stream",
     "text": [
      "Epoch 27/200 [Train]: 100%|███████████████████████████████████████████| 1/1 [00:00<00:00, 20.89it/s, Train Loss=0.0029]"
     ]
    },
    {
     "name": "stdout",
     "output_type": "stream",
     "text": [
      "Epoch [27/200] Train Loss: 0.0029 | Val Loss: 0.0002 | Time: 0.06s\n"
     ]
    },
    {
     "name": "stderr",
     "output_type": "stream",
     "text": [
      "\n"
     ]
    },
    {
     "name": "stdout",
     "output_type": "stream",
     "text": [
      "OK Model terbaik disimpan.\n"
     ]
    },
    {
     "name": "stderr",
     "output_type": "stream",
     "text": [
      "Epoch 28/200 [Train]: 100%|███████████████████████████████████████████| 1/1 [00:00<00:00, 20.46it/s, Train Loss=0.0026]\n"
     ]
    },
    {
     "name": "stdout",
     "output_type": "stream",
     "text": [
      "Epoch [28/200] Train Loss: 0.0026 | Val Loss: 0.0002 | Time: 0.05s\n",
      "[Epoch 28] No improvement 1/50.\n"
     ]
    },
    {
     "name": "stderr",
     "output_type": "stream",
     "text": [
      "Epoch 29/200 [Train]: 100%|███████████████████████████████████████████| 1/1 [00:00<00:00, 15.95it/s, Train Loss=0.0025]\n"
     ]
    },
    {
     "name": "stdout",
     "output_type": "stream",
     "text": [
      "Epoch [29/200] Train Loss: 0.0025 | Val Loss: 0.0001 | Time: 0.08s\n",
      "OK Model terbaik disimpan.\n"
     ]
    },
    {
     "name": "stderr",
     "output_type": "stream",
     "text": [
      "Epoch 30/200 [Train]: 100%|███████████████████████████████████████████| 1/1 [00:00<00:00, 19.99it/s, Train Loss=0.0025]"
     ]
    },
    {
     "name": "stdout",
     "output_type": "stream",
     "text": [
      "Epoch [30/200] Train Loss: 0.0025 | Val Loss: 0.0001 | Time: 0.06s\n"
     ]
    },
    {
     "name": "stderr",
     "output_type": "stream",
     "text": [
      "\n"
     ]
    },
    {
     "name": "stdout",
     "output_type": "stream",
     "text": [
      "OK Model terbaik disimpan.\n"
     ]
    },
    {
     "name": "stderr",
     "output_type": "stream",
     "text": [
      "Epoch 31/200 [Train]: 100%|███████████████████████████████████████████| 1/1 [00:00<00:00, 15.92it/s, Train Loss=0.0024]"
     ]
    },
    {
     "name": "stdout",
     "output_type": "stream",
     "text": [
      "Epoch [31/200] Train Loss: 0.0024 | Val Loss: 0.0001 | Time: 0.07s\n"
     ]
    },
    {
     "name": "stderr",
     "output_type": "stream",
     "text": [
      "\n"
     ]
    },
    {
     "name": "stdout",
     "output_type": "stream",
     "text": [
      "OK Model terbaik disimpan.\n"
     ]
    },
    {
     "name": "stderr",
     "output_type": "stream",
     "text": [
      "Epoch 32/200 [Train]: 100%|███████████████████████████████████████████| 1/1 [00:00<00:00, 31.06it/s, Train Loss=0.0026]"
     ]
    },
    {
     "name": "stdout",
     "output_type": "stream",
     "text": [
      "Epoch [32/200] Train Loss: 0.0026 | Val Loss: 0.0001 | Time: 0.06s\n"
     ]
    },
    {
     "name": "stderr",
     "output_type": "stream",
     "text": [
      "\n"
     ]
    },
    {
     "name": "stdout",
     "output_type": "stream",
     "text": [
      "OK Model terbaik disimpan.\n"
     ]
    },
    {
     "name": "stderr",
     "output_type": "stream",
     "text": [
      "Epoch 33/200 [Train]: 100%|███████████████████████████████████████████| 1/1 [00:00<00:00, 19.47it/s, Train Loss=0.0022]"
     ]
    },
    {
     "name": "stdout",
     "output_type": "stream",
     "text": [
      "Epoch [33/200] Train Loss: 0.0022 | Val Loss: 0.0001 | Time: 0.06s\n"
     ]
    },
    {
     "name": "stderr",
     "output_type": "stream",
     "text": [
      "\n"
     ]
    },
    {
     "name": "stdout",
     "output_type": "stream",
     "text": [
      "OK Model terbaik disimpan.\n"
     ]
    },
    {
     "name": "stderr",
     "output_type": "stream",
     "text": [
      "Epoch 34/200 [Train]: 100%|███████████████████████████████████████████| 1/1 [00:00<00:00, 15.99it/s, Train Loss=0.0020]"
     ]
    },
    {
     "name": "stdout",
     "output_type": "stream",
     "text": [
      "Epoch [34/200] Train Loss: 0.0020 | Val Loss: 0.0001 | Time: 0.06s\n"
     ]
    },
    {
     "name": "stderr",
     "output_type": "stream",
     "text": [
      "\n"
     ]
    },
    {
     "name": "stdout",
     "output_type": "stream",
     "text": [
      "OK Model terbaik disimpan.\n"
     ]
    },
    {
     "name": "stderr",
     "output_type": "stream",
     "text": [
      "Epoch 35/200 [Train]: 100%|███████████████████████████████████████████| 1/1 [00:00<00:00, 17.63it/s, Train Loss=0.0017]"
     ]
    },
    {
     "name": "stdout",
     "output_type": "stream",
     "text": [
      "Epoch [35/200] Train Loss: 0.0017 | Val Loss: 0.0001 | Time: 0.06s\n"
     ]
    },
    {
     "name": "stderr",
     "output_type": "stream",
     "text": [
      "\n"
     ]
    },
    {
     "name": "stdout",
     "output_type": "stream",
     "text": [
      "OK Model terbaik disimpan.\n"
     ]
    },
    {
     "name": "stderr",
     "output_type": "stream",
     "text": [
      "Epoch 36/200 [Train]: 100%|███████████████████████████████████████████| 1/1 [00:00<00:00, 18.39it/s, Train Loss=0.0017]"
     ]
    },
    {
     "name": "stdout",
     "output_type": "stream",
     "text": [
      "Epoch [36/200] Train Loss: 0.0017 | Val Loss: 0.0000 | Time: 0.05s\n"
     ]
    },
    {
     "name": "stderr",
     "output_type": "stream",
     "text": [
      "\n"
     ]
    },
    {
     "name": "stdout",
     "output_type": "stream",
     "text": [
      "OK Model terbaik disimpan.\n"
     ]
    },
    {
     "name": "stderr",
     "output_type": "stream",
     "text": [
      "Epoch 37/200 [Train]: 100%|███████████████████████████████████████████| 1/1 [00:00<00:00, 16.02it/s, Train Loss=0.0016]"
     ]
    },
    {
     "name": "stdout",
     "output_type": "stream",
     "text": [
      "Epoch [37/200] Train Loss: 0.0016 | Val Loss: 0.0000 | Time: 0.08s\n"
     ]
    },
    {
     "name": "stderr",
     "output_type": "stream",
     "text": [
      "\n"
     ]
    },
    {
     "name": "stdout",
     "output_type": "stream",
     "text": [
      "OK Model terbaik disimpan.\n"
     ]
    },
    {
     "name": "stderr",
     "output_type": "stream",
     "text": [
      "Epoch 38/200 [Train]: 100%|███████████████████████████████████████████| 1/1 [00:00<00:00, 17.51it/s, Train Loss=0.0015]"
     ]
    },
    {
     "name": "stdout",
     "output_type": "stream",
     "text": [
      "Epoch [38/200] Train Loss: 0.0015 | Val Loss: 0.0000 | Time: 0.07s\n"
     ]
    },
    {
     "name": "stderr",
     "output_type": "stream",
     "text": [
      "\n"
     ]
    },
    {
     "name": "stdout",
     "output_type": "stream",
     "text": [
      "OK Model terbaik disimpan.\n"
     ]
    },
    {
     "name": "stderr",
     "output_type": "stream",
     "text": [
      "Epoch 39/200 [Train]: 100%|███████████████████████████████████████████| 1/1 [00:00<00:00, 20.41it/s, Train Loss=0.0015]\n"
     ]
    },
    {
     "name": "stdout",
     "output_type": "stream",
     "text": [
      "Epoch [39/200] Train Loss: 0.0015 | Val Loss: 0.0000 | Time: 0.06s\n",
      "OK Model terbaik disimpan.\n"
     ]
    },
    {
     "name": "stderr",
     "output_type": "stream",
     "text": [
      "Epoch 40/200 [Train]: 100%|███████████████████████████████████████████| 1/1 [00:00<00:00, 18.23it/s, Train Loss=0.0015]\n"
     ]
    },
    {
     "name": "stdout",
     "output_type": "stream",
     "text": [
      "Epoch [40/200] Train Loss: 0.0015 | Val Loss: 0.0000 | Time: 0.07s\n",
      "OK Model terbaik disimpan.\n"
     ]
    },
    {
     "name": "stderr",
     "output_type": "stream",
     "text": [
      "Epoch 41/200 [Train]: 100%|███████████████████████████████████████████| 1/1 [00:00<00:00, 24.34it/s, Train Loss=0.0013]"
     ]
    },
    {
     "name": "stdout",
     "output_type": "stream",
     "text": [
      "Epoch [41/200] Train Loss: 0.0013 | Val Loss: 0.0000 | Time: 0.06s\n"
     ]
    },
    {
     "name": "stderr",
     "output_type": "stream",
     "text": [
      "\n"
     ]
    },
    {
     "name": "stdout",
     "output_type": "stream",
     "text": [
      "OK Model terbaik disimpan.\n"
     ]
    },
    {
     "name": "stderr",
     "output_type": "stream",
     "text": [
      "Epoch 42/200 [Train]: 100%|███████████████████████████████████████████| 1/1 [00:00<00:00, 21.15it/s, Train Loss=0.0013]"
     ]
    },
    {
     "name": "stdout",
     "output_type": "stream",
     "text": [
      "Epoch [42/200] Train Loss: 0.0013 | Val Loss: 0.0000 | Time: 0.08s\n"
     ]
    },
    {
     "name": "stderr",
     "output_type": "stream",
     "text": [
      "\n"
     ]
    },
    {
     "name": "stdout",
     "output_type": "stream",
     "text": [
      "OK Model terbaik disimpan.\n"
     ]
    },
    {
     "name": "stderr",
     "output_type": "stream",
     "text": [
      "Epoch 43/200 [Train]: 100%|███████████████████████████████████████████| 1/1 [00:00<00:00, 21.34it/s, Train Loss=0.0013]"
     ]
    },
    {
     "name": "stdout",
     "output_type": "stream",
     "text": [
      "Epoch [43/200] Train Loss: 0.0013 | Val Loss: 0.0000 | Time: 0.06s"
     ]
    },
    {
     "name": "stderr",
     "output_type": "stream",
     "text": [
      "\n"
     ]
    },
    {
     "name": "stdout",
     "output_type": "stream",
     "text": [
      "\n",
      "[Epoch 43] No improvement 1/50.\n"
     ]
    },
    {
     "name": "stderr",
     "output_type": "stream",
     "text": [
      "Epoch 44/200 [Train]: 100%|███████████████████████████████████████████| 1/1 [00:00<00:00, 21.31it/s, Train Loss=0.0014]\n"
     ]
    },
    {
     "name": "stdout",
     "output_type": "stream",
     "text": [
      "Epoch [44/200] Train Loss: 0.0014 | Val Loss: 0.0000 | Time: 0.06s\n",
      "[Epoch 44] No improvement 2/50.\n"
     ]
    },
    {
     "name": "stderr",
     "output_type": "stream",
     "text": [
      "Epoch 45/200 [Train]: 100%|███████████████████████████████████████████| 1/1 [00:00<00:00, 21.27it/s, Train Loss=0.0013]\n"
     ]
    },
    {
     "name": "stdout",
     "output_type": "stream",
     "text": [
      "Epoch [45/200] Train Loss: 0.0013 | Val Loss: 0.0000 | Time: 0.06s\n",
      "[Epoch 45] No improvement 3/50.\n"
     ]
    },
    {
     "name": "stderr",
     "output_type": "stream",
     "text": [
      "Epoch 46/200 [Train]: 100%|███████████████████████████████████████████| 1/1 [00:00<00:00, 21.00it/s, Train Loss=0.0013]\n"
     ]
    },
    {
     "name": "stdout",
     "output_type": "stream",
     "text": [
      "Epoch [46/200] Train Loss: 0.0013 | Val Loss: 0.0000 | Time: 0.06s\n",
      "[Epoch 46] No improvement 4/50.\n"
     ]
    },
    {
     "name": "stderr",
     "output_type": "stream",
     "text": [
      "Epoch 47/200 [Train]: 100%|███████████████████████████████████████████| 1/1 [00:00<00:00, 26.96it/s, Train Loss=0.0011]\n"
     ]
    },
    {
     "name": "stdout",
     "output_type": "stream",
     "text": [
      "Epoch [47/200] Train Loss: 0.0011 | Val Loss: 0.0000 | Time: 0.06s\n",
      "[Epoch 47] No improvement 5/50.\n"
     ]
    },
    {
     "name": "stderr",
     "output_type": "stream",
     "text": [
      "Epoch 48/200 [Train]: 100%|███████████████████████████████████████████| 1/1 [00:00<00:00, 19.40it/s, Train Loss=0.0011]\n"
     ]
    },
    {
     "name": "stdout",
     "output_type": "stream",
     "text": [
      "Epoch [48/200] Train Loss: 0.0011 | Val Loss: 0.0000 | Time: 0.05s\n",
      "[Epoch 48] No improvement 6/50.\n"
     ]
    },
    {
     "name": "stderr",
     "output_type": "stream",
     "text": [
      "Epoch 49/200 [Train]: 100%|███████████████████████████████████████████| 1/1 [00:00<00:00, 21.18it/s, Train Loss=0.0010]\n"
     ]
    },
    {
     "name": "stdout",
     "output_type": "stream",
     "text": [
      "Epoch [49/200] Train Loss: 0.0010 | Val Loss: 0.0000 | Time: 0.05s\n",
      "[Epoch 49] No improvement 7/50.\n"
     ]
    },
    {
     "name": "stderr",
     "output_type": "stream",
     "text": [
      "Epoch 50/200 [Train]: 100%|███████████████████████████████████████████| 1/1 [00:00<00:00, 31.44it/s, Train Loss=0.0012]\n"
     ]
    },
    {
     "name": "stdout",
     "output_type": "stream",
     "text": [
      "Epoch [50/200] Train Loss: 0.0012 | Val Loss: 0.0000 | Time: 0.05s\n",
      "[Epoch 50] No improvement 8/50.\n"
     ]
    },
    {
     "name": "stderr",
     "output_type": "stream",
     "text": [
      "Epoch 51/200 [Train]: 100%|███████████████████████████████████████████| 1/1 [00:00<00:00, 30.61it/s, Train Loss=0.0011]\n"
     ]
    },
    {
     "name": "stdout",
     "output_type": "stream",
     "text": [
      "Epoch [51/200] Train Loss: 0.0011 | Val Loss: 0.0000 | Time: 0.04s\n",
      "[Epoch 51] No improvement 9/50.\n"
     ]
    },
    {
     "name": "stderr",
     "output_type": "stream",
     "text": [
      "Epoch 52/200 [Train]: 100%|███████████████████████████████████████████| 1/1 [00:00<00:00, 30.06it/s, Train Loss=0.0010]\n"
     ]
    },
    {
     "name": "stdout",
     "output_type": "stream",
     "text": [
      "Epoch [52/200] Train Loss: 0.0010 | Val Loss: 0.0000 | Time: 0.04s\n",
      "[Epoch 52] No improvement 10/50.\n"
     ]
    },
    {
     "name": "stderr",
     "output_type": "stream",
     "text": [
      "Epoch 53/200 [Train]: 100%|███████████████████████████████████████████| 1/1 [00:00<00:00, 29.50it/s, Train Loss=0.0010]"
     ]
    },
    {
     "name": "stdout",
     "output_type": "stream",
     "text": [
      "Epoch [53/200] Train Loss: 0.0010 | Val Loss: 0.0000 | Time: 0.04s\n"
     ]
    },
    {
     "name": "stderr",
     "output_type": "stream",
     "text": [
      "\n"
     ]
    },
    {
     "name": "stdout",
     "output_type": "stream",
     "text": [
      "[Epoch 53] No improvement 11/50.\n"
     ]
    },
    {
     "name": "stderr",
     "output_type": "stream",
     "text": [
      "Epoch 54/200 [Train]: 100%|███████████████████████████████████████████| 1/1 [00:00<00:00, 35.27it/s, Train Loss=0.0010]\n"
     ]
    },
    {
     "name": "stdout",
     "output_type": "stream",
     "text": [
      "Epoch [54/200] Train Loss: 0.0010 | Val Loss: 0.0000 | Time: 0.05s\n",
      "[Epoch 54] No improvement 12/50.\n"
     ]
    },
    {
     "name": "stderr",
     "output_type": "stream",
     "text": [
      "Epoch 55/200 [Train]: 100%|███████████████████████████████████████████| 1/1 [00:00<00:00, 36.81it/s, Train Loss=0.0010]"
     ]
    },
    {
     "name": "stdout",
     "output_type": "stream",
     "text": [
      "Epoch [55/200] Train Loss: 0.0010 | Val Loss: 0.0000 | Time: 0.06s\n"
     ]
    },
    {
     "name": "stderr",
     "output_type": "stream",
     "text": [
      "\n"
     ]
    },
    {
     "name": "stdout",
     "output_type": "stream",
     "text": [
      "[Epoch 55] No improvement 13/50.\n"
     ]
    },
    {
     "name": "stderr",
     "output_type": "stream",
     "text": [
      "Epoch 56/200 [Train]: 100%|███████████████████████████████████████████| 1/1 [00:00<00:00, 32.17it/s, Train Loss=0.0009]\n"
     ]
    },
    {
     "name": "stdout",
     "output_type": "stream",
     "text": [
      "Epoch [56/200] Train Loss: 0.0009 | Val Loss: 0.0000 | Time: 0.05s\n",
      "[Epoch 56] No improvement 14/50.\n"
     ]
    },
    {
     "name": "stderr",
     "output_type": "stream",
     "text": [
      "Epoch 57/200 [Train]: 100%|███████████████████████████████████████████| 1/1 [00:00<00:00, 32.54it/s, Train Loss=0.0009]"
     ]
    },
    {
     "name": "stdout",
     "output_type": "stream",
     "text": [
      "Epoch [57/200] Train Loss: 0.0009 | Val Loss: 0.0000 | Time: 0.05s"
     ]
    },
    {
     "name": "stderr",
     "output_type": "stream",
     "text": [
      "\n"
     ]
    },
    {
     "name": "stdout",
     "output_type": "stream",
     "text": [
      "\n",
      "[Epoch 57] No improvement 15/50.\n"
     ]
    },
    {
     "name": "stderr",
     "output_type": "stream",
     "text": [
      "Epoch 58/200 [Train]: 100%|███████████████████████████████████████████| 1/1 [00:00<00:00, 32.29it/s, Train Loss=0.0009]\n"
     ]
    },
    {
     "name": "stdout",
     "output_type": "stream",
     "text": [
      "Epoch [58/200] Train Loss: 0.0009 | Val Loss: 0.0000 | Time: 0.05s\n",
      "[Epoch 58] No improvement 16/50.\n"
     ]
    },
    {
     "name": "stderr",
     "output_type": "stream",
     "text": [
      "Epoch 59/200 [Train]: 100%|███████████████████████████████████████████| 1/1 [00:00<00:00, 27.21it/s, Train Loss=0.0009]\n"
     ]
    },
    {
     "name": "stdout",
     "output_type": "stream",
     "text": [
      "Epoch [59/200] Train Loss: 0.0009 | Val Loss: 0.0000 | Time: 0.05s\n",
      "[Epoch 59] No improvement 17/50.\n"
     ]
    },
    {
     "name": "stderr",
     "output_type": "stream",
     "text": [
      "Epoch 60/200 [Train]: 100%|███████████████████████████████████████████| 1/1 [00:00<00:00, 25.07it/s, Train Loss=0.0009]\n"
     ]
    },
    {
     "name": "stdout",
     "output_type": "stream",
     "text": [
      "Epoch [60/200] Train Loss: 0.0009 | Val Loss: 0.0000 | Time: 0.04s\n",
      "[Epoch 60] No improvement 18/50.\n"
     ]
    },
    {
     "name": "stderr",
     "output_type": "stream",
     "text": [
      "Epoch 61/200 [Train]: 100%|███████████████████████████████████████████| 1/1 [00:00<00:00, 15.95it/s, Train Loss=0.0009]"
     ]
    },
    {
     "name": "stdout",
     "output_type": "stream",
     "text": [
      "Epoch [61/200] Train Loss: 0.0009 | Val Loss: 0.0000 | Time: 0.07s\n"
     ]
    },
    {
     "name": "stderr",
     "output_type": "stream",
     "text": [
      "\n"
     ]
    },
    {
     "name": "stdout",
     "output_type": "stream",
     "text": [
      "[Epoch 61] No improvement 19/50.\n"
     ]
    },
    {
     "name": "stderr",
     "output_type": "stream",
     "text": [
      "Epoch 62/200 [Train]: 100%|███████████████████████████████████████████| 1/1 [00:00<00:00, 40.60it/s, Train Loss=0.0009]\n"
     ]
    },
    {
     "name": "stdout",
     "output_type": "stream",
     "text": [
      "Epoch [62/200] Train Loss: 0.0009 | Val Loss: 0.0000 | Time: 0.04s\n",
      "[Epoch 62] No improvement 20/50.\n"
     ]
    },
    {
     "name": "stderr",
     "output_type": "stream",
     "text": [
      "Epoch 63/200 [Train]: 100%|███████████████████████████████████████████| 1/1 [00:00<00:00, 31.06it/s, Train Loss=0.0008]"
     ]
    },
    {
     "name": "stdout",
     "output_type": "stream",
     "text": [
      "Epoch [63/200] Train Loss: 0.0008 | Val Loss: 0.0000 | Time: 0.05s\n"
     ]
    },
    {
     "name": "stderr",
     "output_type": "stream",
     "text": [
      "\n"
     ]
    },
    {
     "name": "stdout",
     "output_type": "stream",
     "text": [
      "[Epoch 63] No improvement 21/50.\n"
     ]
    },
    {
     "name": "stderr",
     "output_type": "stream",
     "text": [
      "Epoch 64/200 [Train]: 100%|███████████████████████████████████████████| 1/1 [00:00<00:00, 21.37it/s, Train Loss=0.0008]\n"
     ]
    },
    {
     "name": "stdout",
     "output_type": "stream",
     "text": [
      "Epoch [64/200] Train Loss: 0.0008 | Val Loss: 0.0000 | Time: 0.05s\n",
      "[Epoch 64] No improvement 22/50.\n"
     ]
    },
    {
     "name": "stderr",
     "output_type": "stream",
     "text": [
      "Epoch 65/200 [Train]: 100%|███████████████████████████████████████████| 1/1 [00:00<00:00, 32.04it/s, Train Loss=0.0008]\n"
     ]
    },
    {
     "name": "stdout",
     "output_type": "stream",
     "text": [
      "Epoch [65/200] Train Loss: 0.0008 | Val Loss: 0.0000 | Time: 0.05s\n",
      "[Epoch 65] No improvement 23/50.\n"
     ]
    },
    {
     "name": "stderr",
     "output_type": "stream",
     "text": [
      "Epoch 66/200 [Train]: 100%|███████████████████████████████████████████| 1/1 [00:00<00:00, 20.74it/s, Train Loss=0.0008]\n"
     ]
    },
    {
     "name": "stdout",
     "output_type": "stream",
     "text": [
      "Epoch [66/200] Train Loss: 0.0008 | Val Loss: 0.0000 | Time: 0.06s\n",
      "[Epoch 66] No improvement 24/50.\n"
     ]
    },
    {
     "name": "stderr",
     "output_type": "stream",
     "text": [
      "Epoch 67/200 [Train]: 100%|███████████████████████████████████████████| 1/1 [00:00<00:00, 26.83it/s, Train Loss=0.0007]\n"
     ]
    },
    {
     "name": "stdout",
     "output_type": "stream",
     "text": [
      "Epoch [67/200] Train Loss: 0.0007 | Val Loss: 0.0000 | Time: 0.04s\n",
      "[Epoch 67] No improvement 25/50.\n"
     ]
    },
    {
     "name": "stderr",
     "output_type": "stream",
     "text": [
      "Epoch 68/200 [Train]: 100%|███████████████████████████████████████████| 1/1 [00:00<00:00, 44.53it/s, Train Loss=0.0009]\n"
     ]
    },
    {
     "name": "stdout",
     "output_type": "stream",
     "text": [
      "Epoch [68/200] Train Loss: 0.0009 | Val Loss: 0.0000 | Time: 0.04s\n",
      "[Epoch 68] No improvement 26/50.\n"
     ]
    },
    {
     "name": "stderr",
     "output_type": "stream",
     "text": [
      "Epoch 69/200 [Train]: 100%|███████████████████████████████████████████| 1/1 [00:00<00:00, 33.20it/s, Train Loss=0.0008]\n"
     ]
    },
    {
     "name": "stdout",
     "output_type": "stream",
     "text": [
      "Epoch [69/200] Train Loss: 0.0008 | Val Loss: 0.0000 | Time: 0.05s\n",
      "[Epoch 69] No improvement 27/50.\n"
     ]
    },
    {
     "name": "stderr",
     "output_type": "stream",
     "text": [
      "Epoch 70/200 [Train]: 100%|███████████████████████████████████████████| 1/1 [00:00<00:00, 30.33it/s, Train Loss=0.0008]\n"
     ]
    },
    {
     "name": "stdout",
     "output_type": "stream",
     "text": [
      "Epoch [70/200] Train Loss: 0.0008 | Val Loss: 0.0000 | Time: 0.04s\n",
      "[Epoch 70] No improvement 28/50.\n"
     ]
    },
    {
     "name": "stderr",
     "output_type": "stream",
     "text": [
      "Epoch 71/200 [Train]: 100%|███████████████████████████████████████████| 1/1 [00:00<00:00, 25.78it/s, Train Loss=0.0008]\n"
     ]
    },
    {
     "name": "stdout",
     "output_type": "stream",
     "text": [
      "Epoch [71/200] Train Loss: 0.0008 | Val Loss: 0.0000 | Time: 0.06s\n",
      "[Epoch 71] No improvement 29/50.\n"
     ]
    },
    {
     "name": "stderr",
     "output_type": "stream",
     "text": [
      "Epoch 72/200 [Train]: 100%|███████████████████████████████████████████| 1/1 [00:00<00:00, 34.75it/s, Train Loss=0.0007]\n"
     ]
    },
    {
     "name": "stdout",
     "output_type": "stream",
     "text": [
      "Epoch [72/200] Train Loss: 0.0007 | Val Loss: 0.0000 | Time: 0.04s\n",
      "[Epoch 72] No improvement 30/50.\n"
     ]
    },
    {
     "name": "stderr",
     "output_type": "stream",
     "text": [
      "Epoch 73/200 [Train]: 100%|███████████████████████████████████████████| 1/1 [00:00<00:00, 28.14it/s, Train Loss=0.0008]"
     ]
    },
    {
     "name": "stdout",
     "output_type": "stream",
     "text": [
      "Epoch [73/200] Train Loss: 0.0008 | Val Loss: 0.0000 | Time: 0.04s\n"
     ]
    },
    {
     "name": "stderr",
     "output_type": "stream",
     "text": [
      "\n"
     ]
    },
    {
     "name": "stdout",
     "output_type": "stream",
     "text": [
      "[Epoch 73] No improvement 31/50.\n"
     ]
    },
    {
     "name": "stderr",
     "output_type": "stream",
     "text": [
      "Epoch 74/200 [Train]: 100%|███████████████████████████████████████████| 1/1 [00:00<00:00, 21.62it/s, Train Loss=0.0007]"
     ]
    },
    {
     "name": "stdout",
     "output_type": "stream",
     "text": [
      "Epoch [74/200] Train Loss: 0.0007 | Val Loss: 0.0000 | Time: 0.05s\n"
     ]
    },
    {
     "name": "stderr",
     "output_type": "stream",
     "text": [
      "\n"
     ]
    },
    {
     "name": "stdout",
     "output_type": "stream",
     "text": [
      "[Epoch 74] No improvement 32/50.\n"
     ]
    },
    {
     "name": "stderr",
     "output_type": "stream",
     "text": [
      "Epoch 75/200 [Train]: 100%|███████████████████████████████████████████| 1/1 [00:00<00:00, 29.31it/s, Train Loss=0.0007]\n"
     ]
    },
    {
     "name": "stdout",
     "output_type": "stream",
     "text": [
      "Epoch [75/200] Train Loss: 0.0007 | Val Loss: 0.0000 | Time: 0.04s\n",
      "[Epoch 75] No improvement 33/50.\n"
     ]
    },
    {
     "name": "stderr",
     "output_type": "stream",
     "text": [
      "Epoch 76/200 [Train]: 100%|███████████████████████████████████████████| 1/1 [00:00<00:00, 23.13it/s, Train Loss=0.0007]\n"
     ]
    },
    {
     "name": "stdout",
     "output_type": "stream",
     "text": [
      "Epoch [76/200] Train Loss: 0.0007 | Val Loss: 0.0000 | Time: 0.05s\n",
      "[Epoch 76] No improvement 34/50.\n"
     ]
    },
    {
     "name": "stderr",
     "output_type": "stream",
     "text": [
      "Epoch 77/200 [Train]: 100%|███████████████████████████████████████████| 1/1 [00:00<00:00, 29.65it/s, Train Loss=0.0007]\n"
     ]
    },
    {
     "name": "stdout",
     "output_type": "stream",
     "text": [
      "Epoch [77/200] Train Loss: 0.0007 | Val Loss: 0.0000 | Time: 0.04s\n",
      "[Epoch 77] No improvement 35/50.\n"
     ]
    },
    {
     "name": "stderr",
     "output_type": "stream",
     "text": [
      "Epoch 78/200 [Train]: 100%|███████████████████████████████████████████| 1/1 [00:00<00:00, 29.21it/s, Train Loss=0.0007]\n"
     ]
    },
    {
     "name": "stdout",
     "output_type": "stream",
     "text": [
      "Epoch [78/200] Train Loss: 0.0007 | Val Loss: 0.0000 | Time: 0.04s\n",
      "[Epoch 78] No improvement 36/50.\n"
     ]
    },
    {
     "name": "stderr",
     "output_type": "stream",
     "text": [
      "Epoch 79/200 [Train]: 100%|███████████████████████████████████████████| 1/1 [00:00<00:00, 21.29it/s, Train Loss=0.0007]"
     ]
    },
    {
     "name": "stdout",
     "output_type": "stream",
     "text": [
      "Epoch [79/200] Train Loss: 0.0007 | Val Loss: 0.0000 | Time: 0.05s\n"
     ]
    },
    {
     "name": "stderr",
     "output_type": "stream",
     "text": [
      "\n"
     ]
    },
    {
     "name": "stdout",
     "output_type": "stream",
     "text": [
      "[Epoch 79] No improvement 37/50.\n"
     ]
    },
    {
     "name": "stderr",
     "output_type": "stream",
     "text": [
      "Epoch 80/200 [Train]: 100%|███████████████████████████████████████████| 1/1 [00:00<00:00, 21.23it/s, Train Loss=0.0006]\n"
     ]
    },
    {
     "name": "stdout",
     "output_type": "stream",
     "text": [
      "Epoch [80/200] Train Loss: 0.0006 | Val Loss: 0.0000 | Time: 0.05s\n",
      "[Epoch 80] No improvement 38/50.\n"
     ]
    },
    {
     "name": "stderr",
     "output_type": "stream",
     "text": [
      "Epoch 81/200 [Train]: 100%|███████████████████████████████████████████| 1/1 [00:00<00:00, 20.86it/s, Train Loss=0.0006]"
     ]
    },
    {
     "name": "stdout",
     "output_type": "stream",
     "text": [
      "Epoch [81/200] Train Loss: 0.0006 | Val Loss: 0.0000 | Time: 0.06s\n"
     ]
    },
    {
     "name": "stderr",
     "output_type": "stream",
     "text": [
      "\n"
     ]
    },
    {
     "name": "stdout",
     "output_type": "stream",
     "text": [
      "[Epoch 81] No improvement 39/50.\n"
     ]
    },
    {
     "name": "stderr",
     "output_type": "stream",
     "text": [
      "Epoch 82/200 [Train]: 100%|███████████████████████████████████████████| 1/1 [00:00<00:00, 21.04it/s, Train Loss=0.0006]\n"
     ]
    },
    {
     "name": "stdout",
     "output_type": "stream",
     "text": [
      "Epoch [82/200] Train Loss: 0.0006 | Val Loss: 0.0000 | Time: 0.05s\n",
      "[Epoch 82] No improvement 40/50.\n"
     ]
    },
    {
     "name": "stderr",
     "output_type": "stream",
     "text": [
      "Epoch 83/200 [Train]: 100%|███████████████████████████████████████████| 1/1 [00:00<00:00, 31.03it/s, Train Loss=0.0006]"
     ]
    },
    {
     "name": "stdout",
     "output_type": "stream",
     "text": [
      "Epoch [83/200] Train Loss: 0.0006 | Val Loss: 0.0000 | Time: 0.05s\n"
     ]
    },
    {
     "name": "stderr",
     "output_type": "stream",
     "text": [
      "\n"
     ]
    },
    {
     "name": "stdout",
     "output_type": "stream",
     "text": [
      "[Epoch 83] No improvement 41/50.\n"
     ]
    },
    {
     "name": "stderr",
     "output_type": "stream",
     "text": [
      "Epoch 84/200 [Train]: 100%|███████████████████████████████████████████| 1/1 [00:00<00:00, 18.23it/s, Train Loss=0.0006]\n"
     ]
    },
    {
     "name": "stdout",
     "output_type": "stream",
     "text": [
      "Epoch [84/200] Train Loss: 0.0006 | Val Loss: 0.0000 | Time: 0.06s\n",
      "[Epoch 84] No improvement 42/50.\n"
     ]
    },
    {
     "name": "stderr",
     "output_type": "stream",
     "text": [
      "Epoch 85/200 [Train]: 100%|███████████████████████████████████████████| 1/1 [00:00<00:00, 31.20it/s, Train Loss=0.0006]\n"
     ]
    },
    {
     "name": "stdout",
     "output_type": "stream",
     "text": [
      "Epoch [85/200] Train Loss: 0.0006 | Val Loss: 0.0000 | Time: 0.05s\n",
      "[Epoch 85] No improvement 43/50.\n"
     ]
    },
    {
     "name": "stderr",
     "output_type": "stream",
     "text": [
      "Epoch 86/200 [Train]: 100%|███████████████████████████████████████████| 1/1 [00:00<00:00, 33.47it/s, Train Loss=0.0007]\n"
     ]
    },
    {
     "name": "stdout",
     "output_type": "stream",
     "text": [
      "Epoch [86/200] Train Loss: 0.0007 | Val Loss: 0.0000 | Time: 0.03s\n",
      "[Epoch 86] No improvement 44/50.\n"
     ]
    },
    {
     "name": "stderr",
     "output_type": "stream",
     "text": [
      "Epoch 87/200 [Train]: 100%|███████████████████████████████████████████| 1/1 [00:00<00:00, 24.62it/s, Train Loss=0.0006]\n"
     ]
    },
    {
     "name": "stdout",
     "output_type": "stream",
     "text": [
      "Epoch [87/200] Train Loss: 0.0006 | Val Loss: 0.0000 | Time: 0.05s\n",
      "[Epoch 87] No improvement 45/50.\n"
     ]
    },
    {
     "name": "stderr",
     "output_type": "stream",
     "text": [
      "Epoch 88/200 [Train]: 100%|███████████████████████████████████████████| 1/1 [00:00<00:00, 20.94it/s, Train Loss=0.0006]\n"
     ]
    },
    {
     "name": "stdout",
     "output_type": "stream",
     "text": [
      "Epoch [88/200] Train Loss: 0.0006 | Val Loss: 0.0000 | Time: 0.06s\n",
      "[Epoch 88] No improvement 46/50.\n"
     ]
    },
    {
     "name": "stderr",
     "output_type": "stream",
     "text": [
      "Epoch 89/200 [Train]: 100%|███████████████████████████████████████████| 1/1 [00:00<00:00, 23.10it/s, Train Loss=0.0006]\n"
     ]
    },
    {
     "name": "stdout",
     "output_type": "stream",
     "text": [
      "Epoch [89/200] Train Loss: 0.0006 | Val Loss: 0.0000 | Time: 0.04s\n",
      "[Epoch 89] No improvement 47/50.\n"
     ]
    },
    {
     "name": "stderr",
     "output_type": "stream",
     "text": [
      "Epoch 90/200 [Train]: 100%|███████████████████████████████████████████| 1/1 [00:00<00:00, 31.31it/s, Train Loss=0.0006]\n"
     ]
    },
    {
     "name": "stdout",
     "output_type": "stream",
     "text": [
      "Epoch [90/200] Train Loss: 0.0006 | Val Loss: 0.0000 | Time: 0.05s\n",
      "[Epoch 90] No improvement 48/50.\n"
     ]
    },
    {
     "name": "stderr",
     "output_type": "stream",
     "text": [
      "Epoch 91/200 [Train]: 100%|███████████████████████████████████████████| 1/1 [00:00<00:00, 29.95it/s, Train Loss=0.0006]"
     ]
    },
    {
     "name": "stdout",
     "output_type": "stream",
     "text": [
      "Epoch [91/200] Train Loss: 0.0006 | Val Loss: 0.0000 | Time: 0.04s\n"
     ]
    },
    {
     "name": "stderr",
     "output_type": "stream",
     "text": [
      "\n"
     ]
    },
    {
     "name": "stdout",
     "output_type": "stream",
     "text": [
      "[Epoch 91] No improvement 49/50.\n"
     ]
    },
    {
     "name": "stderr",
     "output_type": "stream",
     "text": [
      "Epoch 92/200 [Train]: 100%|███████████████████████████████████████████| 1/1 [00:00<00:00, 29.64it/s, Train Loss=0.0006]"
     ]
    },
    {
     "name": "stdout",
     "output_type": "stream",
     "text": [
      "Epoch [92/200] Train Loss: 0.0006 | Val Loss: 0.0000 | Time: 0.04s\n"
     ]
    },
    {
     "name": "stderr",
     "output_type": "stream",
     "text": [
      "\n"
     ]
    },
    {
     "name": "stdout",
     "output_type": "stream",
     "text": [
      "[Epoch 92] No improvement 50/50.\n",
      "Early stopping triggered.\n",
      "Alhamdulillah, Training selesai.\n"
     ]
    }
   ],
   "source": [
    "# Cell 12\n",
    "# Training loop dengan validasi per epoch (dengan checkpoint & resume)\n",
    "\n",
    "import os\n",
    "import time\n",
    "from tqdm import tqdm\n",
    "\n",
    "# ==== PARAMETER ====\n",
    "START_EPOCH = 1          # default, akan ditimpa otomatis jika ada checkpoint\n",
    "NUM_EPOCHS = 200         # epoch di-set 200\n",
    "\n",
    "patience = 50           # Keperluan early stopping\n",
    "no_improve = 0          # Keperluan early stopping\n",
    "\n",
    "temperature = 0.1\n",
    "best_val_loss = float('inf')\n",
    "checkpoint_path = \"checkpoint_sst_ver3A.pt\" # nama file checkpoint diperjelas ver3A\n",
    "\n",
    "# ==== Jika checkpoint ada, lanjutkan dari sana ====\n",
    "if os.path.exists(checkpoint_path):\n",
    "    checkpoint = torch.load(checkpoint_path, map_location=device)\n",
    "    encoder.load_state_dict(checkpoint[\"encoder_state\"])\n",
    "    transformer.load_state_dict(checkpoint[\"transformer_state\"])\n",
    "    proj_head.load_state_dict(checkpoint[\"proj_head_state\"])\n",
    "    optimizer.load_state_dict(checkpoint[\"optimizer_state\"])\n",
    "    START_EPOCH = checkpoint[\"epoch\"] + 1\n",
    "    best_val_loss = checkpoint[\"best_val_loss\"]\n",
    "    print(f\"[OK] Checkpoint ditemukan. Melanjutkan dari epoch {START_EPOCH}.\")\n",
    "else:\n",
    "    print(\"[MAAF] Tidak ditemukan checkpoint. Memulai training dari awal.\")\n",
    "\n",
    "# ==== Mulai Training ====\n",
    "for epoch in range(START_EPOCH, NUM_EPOCHS+1):  # Start awal di 1, hingga nanti di 201 - 1\n",
    "    start_time = time.time()\n",
    "\n",
    "    # ------------------------\n",
    "    # MODE TRAIN\n",
    "    # ------------------------\n",
    "    encoder.train()\n",
    "    transformer.train()\n",
    "    proj_head.train()\n",
    "\n",
    "    total_train_loss = 0.0\n",
    "\n",
    "    pbar = tqdm(train_loader, desc=f\"Epoch {epoch}/{NUM_EPOCHS} [Train]\", leave=True)\n",
    "    for batch_X, _ in pbar:\n",
    "        batch_X = batch_X.to(device)\n",
    "\n",
    "        # 1. Encode patch untuk dapatkan token embedding (B, 99, 256)\n",
    "        featoken = encoder(batch_X)\n",
    "\n",
    "        # 2. Latent augmentation (Gaussian Noise)\n",
    "        aug_featoken = augmentor(featoken)\n",
    "\n",
    "        # 3️. Proses lewat transformer (attention antar token), output transformer shape (B, 99, 256) / (B, T, D)\n",
    "        z_orig = transformer(featoken)\n",
    "        z_aug  = transformer(aug_featoken)\n",
    "\n",
    "\n",
    "        # 4️. Proyeksikan ke ruang latent (untuk InfoNCE), output proj_head shape (B, 128) / (B, proj_dim)\n",
    "        q = proj_head(z_orig)\n",
    "        k = proj_head(z_aug)\n",
    "\n",
    "        # 5. Hitung loss contrastive\n",
    "        loss = info_nce_loss(q, k, temperature=temperature)\n",
    "\n",
    "        optimizer.zero_grad()\n",
    "        loss.backward()\n",
    "        optimizer.step()\n",
    "\n",
    "        total_train_loss += loss.item()\n",
    "        pbar.set_postfix({\"Train Loss\": f\"{loss.item():.4f}\"})\n",
    "\n",
    "    avg_train_loss = total_train_loss / len(train_loader)\n",
    "\n",
    "    # ------------------------\n",
    "    # MODE VALIDASI\n",
    "    # ------------------------\n",
    "    encoder.eval()\n",
    "    transformer.eval()\n",
    "    proj_head.eval()\n",
    "    total_val_loss = 0.0\n",
    "\n",
    "    with torch.no_grad():\n",
    "        for batch_X, _ in val_loader:\n",
    "            batch_X = batch_X.to(device)\n",
    "            featoken = encoder(batch_X)\n",
    "            aug_featoken = augmentor(featoken)\n",
    "            z_orig = transformer(featoken)\n",
    "            z_aug  = transformer(aug_featoken)\n",
    "            q = proj_head(z_orig)\n",
    "            k = proj_head(z_aug)\n",
    "            val_loss = info_nce_loss(q, k, temperature)\n",
    "            total_val_loss += val_loss.item()\n",
    "\n",
    "    avg_val_loss = total_val_loss / len(val_loader)\n",
    "    \n",
    "    # Waktu per epoch\n",
    "    epoch_time = time.time() - start_time\n",
    "\n",
    "    print(f\"Epoch [{epoch}/{NUM_EPOCHS}] \"\n",
    "          f\"Train Loss: {avg_train_loss:.4f} | \"\n",
    "          f\"Val Loss: {avg_val_loss:.4f} | \"\n",
    "          f\"Time: {epoch_time:.2f}s\")\n",
    "\n",
    "    # ------------------------\n",
    "    # SIMPAN CHECKPOINT (checkpoint memiliki file-nya sendiri)\n",
    "    # ------------------------\n",
    "    checkpoint = {\n",
    "        \"epoch\": epoch,\n",
    "        \"encoder_state\": encoder.state_dict(),\n",
    "        \"transformer_state\": transformer.state_dict(),\n",
    "        \"proj_head_state\": proj_head.state_dict(),\n",
    "        \"optimizer_state\": optimizer.state_dict(),\n",
    "        \"best_val_loss\": best_val_loss\n",
    "    }\n",
    "    torch.save(checkpoint, checkpoint_path)\n",
    "\n",
    "    # Simpan model terbaik (model terbaik memiliki file-nya sendiri)\n",
    "    if avg_val_loss < best_val_loss:\n",
    "        best_val_loss = avg_val_loss\n",
    "        no_improve = 0\n",
    "        torch.save(checkpoint, \"best_sst_ver3A.pt\")  # nama file best model diperjelas ver3A\n",
    "        print(\"OK Model terbaik disimpan.\")\n",
    "    else:\n",
    "        no_improve += 1\n",
    "        print(f\"[Epoch {epoch}] No improvement {no_improve}/{patience}.\")\n",
    "\n",
    "    if no_improve >= patience:\n",
    "        print(\"Early stopping triggered.\")\n",
    "        break\n",
    "\n",
    "print(\"Alhamdulillah, Training selesai.\")\n",
    "\n"
   ]
  }
 ],
 "metadata": {
  "kernelspec": {
   "display_name": "Python 3 (ipykernel)",
   "language": "python",
   "name": "python3"
  },
  "language_info": {
   "codemirror_mode": {
    "name": "ipython",
    "version": 3
   },
   "file_extension": ".py",
   "mimetype": "text/x-python",
   "name": "python",
   "nbconvert_exporter": "python",
   "pygments_lexer": "ipython3",
   "version": "3.10.18"
  }
 },
 "nbformat": 4,
 "nbformat_minor": 5
}
