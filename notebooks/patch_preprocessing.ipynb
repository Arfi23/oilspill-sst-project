{
 "cells": [
  {
   "cell_type": "code",
   "execution_count": 1,
   "id": "8d331871-e6f7-4888-9a27-fb5010762174",
   "metadata": {},
   "outputs": [],
   "source": [
    "import numpy as np\n",
    "import random\n",
    "import scipy.io as sio\n",
    "import os"
   ]
  },
  {
   "cell_type": "code",
   "execution_count": 2,
   "id": "b7577f3e-1be3-449b-beb8-3c0770516da4",
   "metadata": {},
   "outputs": [],
   "source": [
    "import sys\n",
    "sys.path.append(\"D:/CurrentlyActiveResearch/oilspill_project/utils/\") # path file zeroPadding\n",
    "\n",
    "from zeroPadding import zeroPadding_3D"
   ]
  },
  {
   "cell_type": "code",
   "execution_count": 3,
   "id": "3f73b1cc-004e-434f-94a8-f785b16bd4fc",
   "metadata": {},
   "outputs": [],
   "source": [
    "class HSIData:\n",
    "    def __init__(self, img, gt):\n",
    "        self.img = img      # hyperspectral cube (H, W, B)\n",
    "        self.gt  = gt       # ground truth (H, W)"
   ]
  },
  {
   "cell_type": "code",
   "execution_count": 4,
   "id": "22c9c2be-18d3-4580-ae05-1d0b500fddb1",
   "metadata": {},
   "outputs": [],
   "source": [
    "def createSample(hsi, patch_size, num_per_class):\n",
    "    \"\"\"\n",
    "    Ambil sampel patch dari data hyperspectral.\n",
    "    - hsi.img : data hyperspectral (H, W, B)\n",
    "    - hsi.gt  : ground truth (H, W) berisi label piksel\n",
    "    - patch_size : ukuran patch (patch 9x9)\n",
    "    - num_per_class : jumlah patch yang diambil per kelas\n",
    "    \"\"\"\n",
    "    training_hsi = hsi\n",
    "    training_hsi_gt = training_hsi.gt\n",
    "    print(\"hsi shape:\", training_hsi.img.shape)\n",
    "\n",
    "    # Mencari semua koordinat piksel kelas 0 dan kelas 1\n",
    "    indices_0 = np.where(training_hsi_gt == 0)\n",
    "    indices_1 = np.where(training_hsi_gt == 1)\n",
    "\n",
    "    zero_indices = list(zip(indices_0[0], indices_0[1]))\n",
    "    one_indices  = list(zip(indices_1[0], indices_1[1]))\n",
    "\n",
    "    # Mengambil koordinat random sebanyak num_per_class untuk setiap kelas (0 dan 1)\n",
    "    random_indices_0 = random.sample(zero_indices, k=num_per_class)\n",
    "    random_indices_1 = random.sample(one_indices,  k=num_per_class)\n",
    "\n",
    "    print(f\"Creating {num_per_class} samples for class 0 and class 1...\")\n",
    "\n",
    "    # Menyiapkan wadah patch berupa array 2 dimensi berisi 0\n",
    "    data = training_hsi.img\n",
    "    n_bands = data.shape[2]\n",
    "    half_patch = patch_size // 2\n",
    "\n",
    "    selected_patch_0 = np.zeros((num_per_class, patch_size, patch_size, n_bands))\n",
    "    selected_patch_1 = np.zeros((num_per_class, patch_size, patch_size, n_bands))\n",
    "\n",
    "    # Menambahkan padding supaya patch bisa diambil di tepi gambar\n",
    "    matrix = zeroPadding_3D(data, half_patch)\n",
    "\n",
    "    # Mengambil patch kelas 0\n",
    "    for i, (x_pos, y_pos) in enumerate(random_indices_0):\n",
    "        patch = matrix[\n",
    "            x_pos : x_pos + 2*half_patch + 1,\n",
    "            y_pos : y_pos + 2*half_patch + 1,\n",
    "            :\n",
    "        ]\n",
    "        selected_patch_0[i] = patch\n",
    "\n",
    "    # Mengambil patch kelas 1\n",
    "    for i, (x_pos, y_pos) in enumerate(random_indices_1):\n",
    "        patch = matrix[\n",
    "            x_pos : x_pos + 2*half_patch + 1,\n",
    "            y_pos : y_pos + 2*half_patch + 1,\n",
    "            :\n",
    "        ]\n",
    "        selected_patch_1[i] = patch\n",
    "\n",
    "    return selected_patch_0, selected_patch_1, random_indices_0, random_indices_1\n"
   ]
  },
  {
   "cell_type": "code",
   "execution_count": 5,
   "id": "6175d067-53a9-414a-ab9a-f7b9cd62d375",
   "metadata": {},
   "outputs": [
    {
     "name": "stdout",
     "output_type": "stream",
     "text": [
      "Image shape: (1243, 684, 224) GT shape: (1243, 684)\n"
     ]
    }
   ],
   "source": [
    "mat = sio.loadmat(\"D:/CurrentlyActiveResearch/oilspill_project/data/raw/GM01.mat\") # path data\n",
    "img = mat[\"img\"]   # (H, W, B)\n",
    "gt  = mat[\"map\"]    # (H, W)\n",
    "\n",
    "hsi = HSIData(img, gt)\n",
    "print(\"Image shape:\", img.shape, \"GT shape:\", gt.shape)"
   ]
  },
  {
   "cell_type": "code",
   "execution_count": 6,
   "id": "98125c1f-2d58-49fb-a145-8e5dd951aca5",
   "metadata": {},
   "outputs": [
    {
     "name": "stdout",
     "output_type": "stream",
     "text": [
      "hsi shape: (1243, 684, 224)\n",
      "Creating 5 samples for class 0 and class 1...\n",
      "Class 0 patches: (5, 9, 9, 224)\n",
      "Class 1 patches: (5, 9, 9, 224)\n"
     ]
    }
   ],
   "source": [
    "patch_size = 9\n",
    "num_per_class = 5\n",
    "\n",
    "selected_patch_0, selected_patch_1, idx0, idx1 = createSample(\n",
    "    hsi, patch_size, num_per_class\n",
    ")\n",
    "\n",
    "print(\"Class 0 patches:\", selected_patch_0.shape)\n",
    "print(\"Class 1 patches:\", selected_patch_1.shape)"
   ]
  },
  {
   "cell_type": "code",
   "execution_count": null,
   "id": "5ed65a30-bb09-40c8-8798-9205c430500d",
   "metadata": {},
   "outputs": [],
   "source": [
    "save_dir = \"D:/CurrentlyActiveResearch/oilspill_project/data/processed/\"\n",
    "os.makedirs(save_dir, exist_ok=True)\n",
    "\n",
    "np.save(os.path.join(save_dir, \"patch_class0.npy\"), selected_patch_0)\n",
    "np.save(os.path.join(save_dir, \"patch_class1.npy\"), selected_patch_1)\n",
    "\n",
    "print(\"Patches saved in:\", save_dir)"
   ]
  }
 ],
 "metadata": {
  "kernelspec": {
   "display_name": "Python 3 (ipykernel)",
   "language": "python",
   "name": "python3"
  },
  "language_info": {
   "codemirror_mode": {
    "name": "ipython",
    "version": 3
   },
   "file_extension": ".py",
   "mimetype": "text/x-python",
   "name": "python",
   "nbconvert_exporter": "python",
   "pygments_lexer": "ipython3",
   "version": "3.10.18"
  }
 },
 "nbformat": 4,
 "nbformat_minor": 5
}
