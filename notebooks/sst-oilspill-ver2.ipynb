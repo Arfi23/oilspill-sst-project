{
 "cells": [
  {
   "cell_type": "code",
   "execution_count": 54,
   "id": "9daa2807-66a7-4226-b68f-67b0385e4cbd",
   "metadata": {},
   "outputs": [],
   "source": [
    "# Cell 1\n",
    "# Import semua library dasar yang dibutuhkan\n",
    "\n",
    "import torch\n",
    "import torch.nn as nn\n",
    "import torch.optim as optim\n",
    "from torch.utils.data import DataLoader, TensorDataset, random_split\n",
    "import torch.nn.functional as F\n",
    "import numpy as np\n",
    "import matplotlib.pyplot as plt"
   ]
  },
  {
   "cell_type": "code",
   "execution_count": 55,
   "id": "e267a0ea-96cf-4a4a-a77c-f274625ff815",
   "metadata": {},
   "outputs": [],
   "source": [
    "# Cell 2\n",
    "# Encoder 3D: bertugas mengekstraksi fitur spasial dan spektral dari patch hyperspectral.\n",
    "\n",
    "# Tujuan: menghasilkan 99 token (3×3×11) berukuran embedding 256\n",
    "# dari satu patch input berukuran (9×9×224)\n",
    "\n",
    "class SpectralSpatialEncoder3D(nn.Module):\n",
    "    def __init__(self, embedding_dim=256, init_channels=32):\n",
    "        super().__init__()\n",
    "        # -------------------------------------------------------\n",
    "        # Konvolusi pertama:\n",
    "        # - Kernel 3x3x20, stride sama (3x3x20)\n",
    "        # - Non-overlapping, agar setiap kernel mencakup satu subpatch\n",
    "        #   spasial-spektral unik\n",
    "        # Output: (B, 32, 11, 3, 3)\n",
    "        # -------------------------------------------------------\n",
    "        self.conv1 = nn.Conv3d(\n",
    "            in_channels=1,\n",
    "            out_channels=init_channels,\n",
    "            kernel_size=(20,3,3),\n",
    "            stride=(20,3,3),\n",
    "            padding=0\n",
    "        )\n",
    "        self.bn1 = nn.BatchNorm3d(init_channels)\n",
    "        self.relu1 = nn.ReLU(inplace=True)\n",
    "\n",
    "        # -------------------------------------------------------\n",
    "        # Konvolusi kedua:\n",
    "        # - Kernel 1x1x1, tanpa mengubah spasial/spektral\n",
    "        # - Berfungsi sebagai \"linear projection\" ke embedding dim 256\n",
    "        # Output: (B, 256, 11, 3, 3)\n",
    "        # -------------------------------------------------------\n",
    "        self.conv2 = nn.Conv3d(\n",
    "            in_channels=init_channels,\n",
    "            out_channels=embedding_dim,\n",
    "            kernel_size=(1,1,1),\n",
    "            stride=(1,1,1),\n",
    "            padding=0\n",
    "        )\n",
    "        self.bn2 = nn.BatchNorm3d(embedding_dim)\n",
    "        self.relu2 = nn.ReLU(inplace=True)\n",
    "    \n",
    "    def forward(self, x):\n",
    "        # x: tensor input (B, 1, 224, 9, 9)\n",
    "        x = self.relu1(self.bn1(self.conv1(x)))   # (B, 32, 11, 3, 3)\n",
    "        x = self.relu2(self.bn2(self.conv2(x)))   # (B, 256, 11, 3, 3)\n",
    "\n",
    "        # -------------------------------------------------------\n",
    "        # Ubah urutan dimensi agar token berada dalam satu dimensi\n",
    "        # Dari (B, 256, 11, 3, 3) ke (B, 11, 3, 3, 256)\n",
    "        # Lalu diratakan menjadi (B, 99, 256)\n",
    "        # -------------------------------------------------------\n",
    "        B, C, D, H, W = x.shape\n",
    "\n",
    "        # print(\"Encoder output before reshape:\", x.shape)  # ← untuk debug\n",
    "        x = x.permute(0,2,3,4,1).contiguous().view(x.size(0), -1, x.size(1)) # (B, 11, 3, 3, 256) lalu flatten ke (B, 99, 256)\n",
    "        # print(\"Encoder output after reshape:\", x.shape)   # ← untuk debug\n",
    "        return x\n"
   ]
  },
  {
   "cell_type": "code",
   "execution_count": 56,
   "id": "3dea8ec0-9b4f-4a80-b873-59d9d6a680de",
   "metadata": {},
   "outputs": [],
   "source": [
    "# Cell 3\n",
    "# Fungsi ini menambahkan noise Gaussian ke vektor embedding hasil encoder (featoken)\n",
    "# untuk menghasilkan pasangan positif (positive key)\n",
    "\n",
    "class LatentAugmentor:\n",
    "    def __init__(self, sigma=0.1, device='cpu'):\n",
    "        self.sigma = sigma\n",
    "        self.device = device\n",
    "\n",
    "    def __call__(self, featoken):\n",
    "        \"\"\"\n",
    "        featoken: tensor berukuran (B, T, D)\n",
    "        menghasilkan augmented_featoken: (B, T, D)\n",
    "        \"\"\"\n",
    "        noise = torch.randn_like(featoken, device=featoken.device) * self.sigma\n",
    "        return featoken + noise\n"
   ]
  },
  {
   "cell_type": "code",
   "execution_count": 57,
   "id": "c593b773-ec19-4362-ad6b-803f3ac09497",
   "metadata": {},
   "outputs": [],
   "source": [
    "# Cell 4\n",
    "# Transformer Encoder sederhana.\n",
    "# Menerima input dalam bentuk (batch, jumlah_token, dimensi_embedding) atau (B, T, D)\n",
    "# Dalam desain sekarang, jumlah_token = T (karena 1 patch bisa menghasilkan token sebanyak T, yaitu 99)\n",
    "\n",
    "class SimpleTransformerEncoder(nn.Module):\n",
    "    def __init__(self, embed_dim=256, num_heads=8, num_layers=2, mlp_dim=512, dropout=0.1):\n",
    "        super().__init__()\n",
    "        layer = nn.TransformerEncoderLayer(\n",
    "            d_model=embed_dim,\n",
    "            nhead=num_heads,\n",
    "            dim_feedforward=mlp_dim,\n",
    "            dropout=dropout,\n",
    "            batch_first=True\n",
    "        )\n",
    "        self.transformer = nn.TransformerEncoder(layer, num_layers=num_layers)\n",
    "\n",
    "    def forward(self, x):\n",
    "        \"\"\"\n",
    "        x: tensor (B, T, D)\n",
    "        T = jumlah token\n",
    "        \"\"\"\n",
    "        return self.transformer(x)\n"
   ]
  },
  {
   "cell_type": "code",
   "execution_count": 58,
   "id": "512eb58d-9082-48ec-99bd-3b988c9be77d",
   "metadata": {},
   "outputs": [],
   "source": [
    "# Cell 5\n",
    "# Projection head memetakan output dari transformer ke dimensi ruang latent\n",
    "# tempat dilakukan perhitungan kesamaan (cosine similarity).\n",
    "# Gunakan rata-rata semua token sebagai satu representasi patch.\n",
    "\n",
    "class ProjectionHead(nn.Module):\n",
    "    def __init__(self, in_dim=256, proj_dim=128, hidden_dim=512):\n",
    "        super().__init__()\n",
    "        self.net = nn.Sequential(\n",
    "            nn.Linear(in_dim, hidden_dim),\n",
    "            nn.ReLU(inplace=True),\n",
    "            nn.Linear(hidden_dim, proj_dim)\n",
    "        )\n",
    "\n",
    "    def forward(self, x):\n",
    "        \"\"\"\n",
    "        x: (B, T, D)\n",
    "        \"\"\"\n",
    "        x = x.mean(dim=1)  # rata-rata semua token -> (B, D)\n",
    "        return self.net(x)\n"
   ]
  },
  {
   "cell_type": "code",
   "execution_count": 59,
   "id": "d46037aa-ab47-43c8-9587-3368dbae9d3a",
   "metadata": {},
   "outputs": [],
   "source": [
    "# Cell 6\n",
    "# Implementasi fungsi loss InfoNCE\n",
    "# Mengukur kemiripan antar pasangan (query, positive key) dalam satu batch\n",
    "\n",
    "def info_nce_loss(q, k, temperature=0.1):\n",
    "    \"\"\"\n",
    "    q: queries (B, D)\n",
    "    k: positive keys (B, D)\n",
    "    \"\"\"\n",
    "    # Normalisasi\n",
    "    q = F.normalize(q, dim=1)\n",
    "    k = F.normalize(k, dim=1)\n",
    "\n",
    "    # Hitung kesamaan antar semua pasangan dalam batch\n",
    "    logits = torch.matmul(q, k.t()) / temperature\n",
    "    labels = torch.arange(logits.size(0), device=logits.device)\n",
    "    loss = F.cross_entropy(logits, labels)\n",
    "    return loss\n"
   ]
  },
  {
   "cell_type": "code",
   "execution_count": 60,
   "id": "5c75c233-0ff3-4512-8ff5-cf6e4a2e28f3",
   "metadata": {},
   "outputs": [
    {
     "name": "stdout",
     "output_type": "stream",
     "text": [
      "Class 0 shape: (5, 9, 9, 224)\n",
      "Class 1 shape: (5, 9, 9, 224)\n"
     ]
    }
   ],
   "source": [
    "# Cell 7\n",
    "# Load dataset hasil preprocessing\n",
    "\n",
    "import os\n",
    "\n",
    "data_dir = \"../data/processed\"\n",
    "patch_class0_path = os.path.join(data_dir, \"patch_class0.npy\")\n",
    "patch_class1_path = os.path.join(data_dir, \"patch_class1.npy\")\n",
    "\n",
    "# Pastikan file ada\n",
    "assert os.path.exists(patch_class0_path), f\"File tidak ditemukan: {patch_class0_path}\"\n",
    "assert os.path.exists(patch_class1_path), f\"File tidak ditemukan: {patch_class1_path}\"\n",
    "\n",
    "# Load file .npy\n",
    "patch_class0 = np.load(patch_class0_path) # kelas non oil spill\n",
    "patch_class1 = np.load(patch_class1_path) # kelas oil spill\n",
    "\n",
    "# Cek ukuran masing-masing dataset\n",
    "print(\"Class 0 shape:\", patch_class0.shape)\n",
    "print(\"Class 1 shape:\", patch_class1.shape)"
   ]
  },
  {
   "cell_type": "code",
   "execution_count": 61,
   "id": "51e53501-4bd6-4132-af27-1eb80f92a0b6",
   "metadata": {},
   "outputs": [
    {
     "name": "stdout",
     "output_type": "stream",
     "text": [
      "Total samples: 10\n",
      "Labels shape: (10,)\n"
     ]
    }
   ],
   "source": [
    "# Cell 8\n",
    "# Gabungkan semua patch menjadi satu array\n",
    "X_all = np.concatenate([patch_class0, patch_class1], axis=0)\n",
    "\n",
    "# Buat label\n",
    "y_all = np.concatenate([\n",
    "    np.zeros(len(patch_class0)),  # label 0 untuk class 0\n",
    "    np.ones(len(patch_class1))    # label 1 untuk class 1\n",
    "])\n",
    "\n",
    "print(\"Total samples:\", X_all.shape[0])\n",
    "print(\"Labels shape:\", y_all.shape)\n"
   ]
  },
  {
   "cell_type": "code",
   "execution_count": 62,
   "id": "494cf0b5-eb4f-41f2-ba9a-2333282dd556",
   "metadata": {},
   "outputs": [
    {
     "name": "stdout",
     "output_type": "stream",
     "text": [
      "Tensor shape setelah permute: torch.Size([10, 1, 224, 9, 9])\n"
     ]
    }
   ],
   "source": [
    "# Cell 9\n",
    "# Ubah dari numpy ke tensor\n",
    "X_tensor = torch.tensor(X_all, dtype=torch.float32)\n",
    "y_tensor = torch.tensor(y_all, dtype=torch.long)\n",
    "\n",
    "# Ubah bentuk ke format Conv3D (N, C, D, H, W)\n",
    "X_tensor = X_tensor.unsqueeze(1).permute(0, 1, 4, 2, 3)\n",
    "\n",
    "print(\"Tensor shape setelah permute:\", X_tensor.shape)\n"
   ]
  },
  {
   "cell_type": "code",
   "execution_count": 63,
   "id": "9cbbada3-a727-4805-9f22-68102c063c8c",
   "metadata": {},
   "outputs": [
    {
     "name": "stdout",
     "output_type": "stream",
     "text": [
      "Train samples: 8 | Validation samples: 2\n"
     ]
    }
   ],
   "source": [
    "# Cell 10\n",
    "# Split train dan validation\n",
    "\n",
    "# Tentukan ukuran train dan validation\n",
    "train_size = int(0.8 * len(X_tensor))\n",
    "val_size = len(X_tensor) - train_size\n",
    "\n",
    "# Buat indeks acak untuk memastikan X dan y sejajar\n",
    "indices = torch.randperm(len(X_tensor))\n",
    "train_idx = indices[:train_size]\n",
    "val_idx = indices[train_size:]\n",
    "\n",
    "# Bagi data berdasarkan indeks yang sama\n",
    "train_X = X_tensor[train_idx]\n",
    "train_y = y_tensor[train_idx]\n",
    "val_X = X_tensor[val_idx]\n",
    "val_y = y_tensor[val_idx]\n",
    "\n",
    "# Buat TensorDataset\n",
    "train_dataset = TensorDataset(train_X, train_y)\n",
    "val_dataset = TensorDataset(val_X, val_y)\n",
    "\n",
    "# Buat DataLoader\n",
    "train_loader = DataLoader(train_dataset, batch_size=32, shuffle=True)\n",
    "val_loader = DataLoader(val_dataset, batch_size=32, shuffle=False)\n",
    "\n",
    "print(f\"Train samples: {len(train_dataset)} | Validation samples: {len(val_dataset)}\")\n"
   ]
  },
  {
   "cell_type": "code",
   "execution_count": 64,
   "id": "06aa930c-c564-456e-87b3-dda2ea9b2a37",
   "metadata": {},
   "outputs": [],
   "source": [
    "# Cell 11\n",
    "# Inisialisasi perangkat dan model\n",
    "# Inisialisasi perangkat\n",
    "device = 'cuda' if torch.cuda.is_available() else 'cpu'\n",
    "\n",
    "# Inisialisasi model\n",
    "encoder = SpectralSpatialEncoder3D(embedding_dim=256).to(device)\n",
    "augmentor = LatentAugmentor(sigma=0.08)\n",
    "transformer = SimpleTransformerEncoder(embed_dim=256).to(device)\n",
    "proj_head = ProjectionHead(in_dim=256, proj_dim=128).to(device)\n",
    "\n",
    "# Optimizer\n",
    "params = list(encoder.parameters()) + list(transformer.parameters()) + list(proj_head.parameters())\n",
    "optimizer = optim.AdamW(params, lr=1e-4, weight_decay=0.01)\n",
    "\n"
   ]
  },
  {
   "cell_type": "code",
   "execution_count": 65,
   "id": "fb5b2892-5d8e-469f-87e2-dd9bfbc018a0",
   "metadata": {},
   "outputs": [
    {
     "name": "stdout",
     "output_type": "stream",
     "text": [
      "[MAAF] Tidak ditemukan checkpoint. Memulai training dari awal.\n"
     ]
    },
    {
     "name": "stderr",
     "output_type": "stream",
     "text": [
      "Epoch 1/50 [Train]: 100%|█████████████████████████████████████████████| 1/1 [00:00<00:00, 24.37it/s, Train Loss=0.8694]\n"
     ]
    },
    {
     "name": "stdout",
     "output_type": "stream",
     "text": [
      "Epoch [1/50] Train Loss: 0.8694 | Val Loss: 0.4577 | Time: 0.06s\n",
      "OK Model terbaik disimpan.\n"
     ]
    },
    {
     "name": "stderr",
     "output_type": "stream",
     "text": [
      "Epoch 2/50 [Train]: 100%|█████████████████████████████████████████████| 1/1 [00:00<00:00, 34.77it/s, Train Loss=0.5508]"
     ]
    },
    {
     "name": "stdout",
     "output_type": "stream",
     "text": [
      "Epoch [2/50] Train Loss: 0.5508 | Val Loss: 0.4231 | Time: 0.05s\n"
     ]
    },
    {
     "name": "stderr",
     "output_type": "stream",
     "text": [
      "\n"
     ]
    },
    {
     "name": "stdout",
     "output_type": "stream",
     "text": [
      "OK Model terbaik disimpan.\n"
     ]
    },
    {
     "name": "stderr",
     "output_type": "stream",
     "text": [
      "Epoch 3/50 [Train]: 100%|█████████████████████████████████████████████| 1/1 [00:00<00:00, 37.26it/s, Train Loss=0.3642]\n"
     ]
    },
    {
     "name": "stdout",
     "output_type": "stream",
     "text": [
      "Epoch [3/50] Train Loss: 0.3642 | Val Loss: 0.3838 | Time: 0.04s\n",
      "OK Model terbaik disimpan.\n"
     ]
    },
    {
     "name": "stderr",
     "output_type": "stream",
     "text": [
      "Epoch 4/50 [Train]: 100%|█████████████████████████████████████████████| 1/1 [00:00<00:00, 47.62it/s, Train Loss=0.2501]\n"
     ]
    },
    {
     "name": "stdout",
     "output_type": "stream",
     "text": [
      "Epoch [4/50] Train Loss: 0.2501 | Val Loss: 0.3569 | Time: 0.03s\n",
      "OK Model terbaik disimpan.\n"
     ]
    },
    {
     "name": "stderr",
     "output_type": "stream",
     "text": [
      "Epoch 5/50 [Train]: 100%|█████████████████████████████████████████████| 1/1 [00:00<00:00, 35.05it/s, Train Loss=0.1670]\n"
     ]
    },
    {
     "name": "stdout",
     "output_type": "stream",
     "text": [
      "Epoch [5/50] Train Loss: 0.1670 | Val Loss: 0.2955 | Time: 0.03s\n",
      "OK Model terbaik disimpan.\n"
     ]
    },
    {
     "name": "stderr",
     "output_type": "stream",
     "text": [
      "Epoch 6/50 [Train]: 100%|█████████████████████████████████████████████| 1/1 [00:00<00:00, 54.98it/s, Train Loss=0.1204]\n"
     ]
    },
    {
     "name": "stdout",
     "output_type": "stream",
     "text": [
      "Epoch [6/50] Train Loss: 0.1204 | Val Loss: 0.2603 | Time: 0.02s\n",
      "OK Model terbaik disimpan.\n"
     ]
    },
    {
     "name": "stderr",
     "output_type": "stream",
     "text": [
      "Epoch 7/50 [Train]: 100%|█████████████████████████████████████████████| 1/1 [00:00<00:00, 51.69it/s, Train Loss=0.0779]\n"
     ]
    },
    {
     "name": "stdout",
     "output_type": "stream",
     "text": [
      "Epoch [7/50] Train Loss: 0.0779 | Val Loss: 0.2231 | Time: 0.03s\n",
      "OK Model terbaik disimpan.\n"
     ]
    },
    {
     "name": "stderr",
     "output_type": "stream",
     "text": [
      "Epoch 8/50 [Train]: 100%|█████████████████████████████████████████████| 1/1 [00:00<00:00, 84.44it/s, Train Loss=0.0511]\n"
     ]
    },
    {
     "name": "stdout",
     "output_type": "stream",
     "text": [
      "Epoch [8/50] Train Loss: 0.0511 | Val Loss: 0.1808 | Time: 0.03s\n",
      "OK Model terbaik disimpan.\n"
     ]
    },
    {
     "name": "stderr",
     "output_type": "stream",
     "text": [
      "Epoch 9/50 [Train]: 100%|█████████████████████████████████████████████| 1/1 [00:00<00:00, 34.03it/s, Train Loss=0.0298]\n"
     ]
    },
    {
     "name": "stdout",
     "output_type": "stream",
     "text": [
      "Epoch [9/50] Train Loss: 0.0298 | Val Loss: 0.1181 | Time: 0.03s\n",
      "OK Model terbaik disimpan.\n"
     ]
    },
    {
     "name": "stderr",
     "output_type": "stream",
     "text": [
      "Epoch 10/50 [Train]: 100%|████████████████████████████████████████████| 1/1 [00:00<00:00, 67.68it/s, Train Loss=0.0263]\n"
     ]
    },
    {
     "name": "stdout",
     "output_type": "stream",
     "text": [
      "Epoch [10/50] Train Loss: 0.0263 | Val Loss: 0.0879 | Time: 0.01s\n",
      "OK Model terbaik disimpan.\n"
     ]
    },
    {
     "name": "stderr",
     "output_type": "stream",
     "text": [
      "Epoch 11/50 [Train]: 100%|████████████████████████████████████████████| 1/1 [00:00<00:00, 68.16it/s, Train Loss=0.0242]\n"
     ]
    },
    {
     "name": "stdout",
     "output_type": "stream",
     "text": [
      "Epoch [11/50] Train Loss: 0.0242 | Val Loss: 0.0679 | Time: 0.02s\n",
      "OK Model terbaik disimpan.\n"
     ]
    },
    {
     "name": "stderr",
     "output_type": "stream",
     "text": [
      "Epoch 12/50 [Train]: 100%|████████████████████████████████████████████| 1/1 [00:00<00:00, 70.85it/s, Train Loss=0.0142]\n"
     ]
    },
    {
     "name": "stdout",
     "output_type": "stream",
     "text": [
      "Epoch [12/50] Train Loss: 0.0142 | Val Loss: 0.0480 | Time: 0.02s\n",
      "OK Model terbaik disimpan.\n"
     ]
    },
    {
     "name": "stderr",
     "output_type": "stream",
     "text": [
      "Epoch 13/50 [Train]: 100%|████████████████████████████████████████████| 1/1 [00:00<00:00, 63.81it/s, Train Loss=0.0077]"
     ]
    },
    {
     "name": "stdout",
     "output_type": "stream",
     "text": [
      "Epoch [13/50] Train Loss: 0.0077 | Val Loss: 0.0275 | Time: 0.03s\n"
     ]
    },
    {
     "name": "stderr",
     "output_type": "stream",
     "text": [
      "\n"
     ]
    },
    {
     "name": "stdout",
     "output_type": "stream",
     "text": [
      "OK Model terbaik disimpan.\n"
     ]
    },
    {
     "name": "stderr",
     "output_type": "stream",
     "text": [
      "Epoch 14/50 [Train]: 100%|████████████████████████████████████████████| 1/1 [00:00<00:00, 35.53it/s, Train Loss=0.0056]\n"
     ]
    },
    {
     "name": "stdout",
     "output_type": "stream",
     "text": [
      "Epoch [14/50] Train Loss: 0.0056 | Val Loss: 0.0200 | Time: 0.03s\n",
      "OK Model terbaik disimpan.\n"
     ]
    },
    {
     "name": "stderr",
     "output_type": "stream",
     "text": [
      "Epoch 15/50 [Train]: 100%|████████████████████████████████████████████| 1/1 [00:00<00:00, 50.70it/s, Train Loss=0.0046]\n"
     ]
    },
    {
     "name": "stdout",
     "output_type": "stream",
     "text": [
      "Epoch [15/50] Train Loss: 0.0046 | Val Loss: 0.0164 | Time: 0.02s\n",
      "OK Model terbaik disimpan.\n"
     ]
    },
    {
     "name": "stderr",
     "output_type": "stream",
     "text": [
      "Epoch 16/50 [Train]: 100%|████████████████████████████████████████████| 1/1 [00:00<00:00, 48.85it/s, Train Loss=0.0055]"
     ]
    },
    {
     "name": "stdout",
     "output_type": "stream",
     "text": [
      "Epoch [16/50] Train Loss: 0.0055 | Val Loss: 0.0113 | Time: 0.02s\n"
     ]
    },
    {
     "name": "stderr",
     "output_type": "stream",
     "text": [
      "\n"
     ]
    },
    {
     "name": "stdout",
     "output_type": "stream",
     "text": [
      "OK Model terbaik disimpan.\n"
     ]
    },
    {
     "name": "stderr",
     "output_type": "stream",
     "text": [
      "Epoch 17/50 [Train]: 100%|████████████████████████████████████████████| 1/1 [00:00<00:00, 37.09it/s, Train Loss=0.0062]\n"
     ]
    },
    {
     "name": "stdout",
     "output_type": "stream",
     "text": [
      "Epoch [17/50] Train Loss: 0.0062 | Val Loss: 0.0090 | Time: 0.03s\n",
      "OK Model terbaik disimpan.\n"
     ]
    },
    {
     "name": "stderr",
     "output_type": "stream",
     "text": [
      "Epoch 18/50 [Train]: 100%|████████████████████████████████████████████| 1/1 [00:00<00:00, 78.56it/s, Train Loss=0.0048]\n"
     ]
    },
    {
     "name": "stdout",
     "output_type": "stream",
     "text": [
      "Epoch [18/50] Train Loss: 0.0048 | Val Loss: 0.0043 | Time: 0.02s\n",
      "OK Model terbaik disimpan.\n"
     ]
    },
    {
     "name": "stderr",
     "output_type": "stream",
     "text": [
      "Epoch 19/50 [Train]: 100%|████████████████████████████████████████████| 1/1 [00:00<00:00, 53.35it/s, Train Loss=0.0038]\n"
     ]
    },
    {
     "name": "stdout",
     "output_type": "stream",
     "text": [
      "Epoch [19/50] Train Loss: 0.0038 | Val Loss: 0.0031 | Time: 0.02s\n",
      "OK Model terbaik disimpan.\n"
     ]
    },
    {
     "name": "stderr",
     "output_type": "stream",
     "text": [
      "Epoch 20/50 [Train]: 100%|████████████████████████████████████████████| 1/1 [00:00<00:00, 71.41it/s, Train Loss=0.0027]\n"
     ]
    },
    {
     "name": "stdout",
     "output_type": "stream",
     "text": [
      "Epoch [20/50] Train Loss: 0.0027 | Val Loss: 0.0021 | Time: 0.02s\n",
      "OK Model terbaik disimpan.\n"
     ]
    },
    {
     "name": "stderr",
     "output_type": "stream",
     "text": [
      "Epoch 21/50 [Train]: 100%|████████████████████████████████████████████| 1/1 [00:00<00:00, 62.48it/s, Train Loss=0.0025]\n"
     ]
    },
    {
     "name": "stdout",
     "output_type": "stream",
     "text": [
      "Epoch [21/50] Train Loss: 0.0025 | Val Loss: 0.0021 | Time: 0.02s\n",
      "OK Model terbaik disimpan.\n"
     ]
    },
    {
     "name": "stderr",
     "output_type": "stream",
     "text": [
      "Epoch 22/50 [Train]: 100%|████████████████████████████████████████████| 1/1 [00:00<00:00, 48.22it/s, Train Loss=0.0022]\n"
     ]
    },
    {
     "name": "stdout",
     "output_type": "stream",
     "text": [
      "Epoch [22/50] Train Loss: 0.0022 | Val Loss: 0.0022 | Time: 0.03s\n"
     ]
    },
    {
     "name": "stderr",
     "output_type": "stream",
     "text": [
      "Epoch 23/50 [Train]: 100%|████████████████████████████████████████████| 1/1 [00:00<00:00, 36.91it/s, Train Loss=0.0020]\n"
     ]
    },
    {
     "name": "stdout",
     "output_type": "stream",
     "text": [
      "Epoch [23/50] Train Loss: 0.0020 | Val Loss: 0.0016 | Time: 0.03s\n",
      "OK Model terbaik disimpan.\n"
     ]
    },
    {
     "name": "stderr",
     "output_type": "stream",
     "text": [
      "Epoch 24/50 [Train]: 100%|████████████████████████████████████████████| 1/1 [00:00<00:00, 41.59it/s, Train Loss=0.0019]\n"
     ]
    },
    {
     "name": "stdout",
     "output_type": "stream",
     "text": [
      "Epoch [24/50] Train Loss: 0.0019 | Val Loss: 0.0020 | Time: 0.03s\n"
     ]
    },
    {
     "name": "stderr",
     "output_type": "stream",
     "text": [
      "Epoch 25/50 [Train]: 100%|████████████████████████████████████████████| 1/1 [00:00<00:00, 30.63it/s, Train Loss=0.0021]\n"
     ]
    },
    {
     "name": "stdout",
     "output_type": "stream",
     "text": [
      "Epoch [25/50] Train Loss: 0.0021 | Val Loss: 0.0026 | Time: 0.03s\n"
     ]
    },
    {
     "name": "stderr",
     "output_type": "stream",
     "text": [
      "Epoch 26/50 [Train]: 100%|████████████████████████████████████████████| 1/1 [00:00<00:00, 47.13it/s, Train Loss=0.0022]\n"
     ]
    },
    {
     "name": "stdout",
     "output_type": "stream",
     "text": [
      "Epoch [26/50] Train Loss: 0.0022 | Val Loss: 0.0026 | Time: 0.02s\n"
     ]
    },
    {
     "name": "stderr",
     "output_type": "stream",
     "text": [
      "Epoch 27/50 [Train]: 100%|████████████████████████████████████████████| 1/1 [00:00<00:00, 45.67it/s, Train Loss=0.0018]\n"
     ]
    },
    {
     "name": "stdout",
     "output_type": "stream",
     "text": [
      "Epoch [27/50] Train Loss: 0.0018 | Val Loss: 0.0034 | Time: 0.02s\n"
     ]
    },
    {
     "name": "stderr",
     "output_type": "stream",
     "text": [
      "Epoch 28/50 [Train]: 100%|████████████████████████████████████████████| 1/1 [00:00<00:00, 40.59it/s, Train Loss=0.0016]\n"
     ]
    },
    {
     "name": "stdout",
     "output_type": "stream",
     "text": [
      "Epoch [28/50] Train Loss: 0.0016 | Val Loss: 0.0033 | Time: 0.03s\n"
     ]
    },
    {
     "name": "stderr",
     "output_type": "stream",
     "text": [
      "Epoch 29/50 [Train]: 100%|████████████████████████████████████████████| 1/1 [00:00<00:00, 35.29it/s, Train Loss=0.0016]\n"
     ]
    },
    {
     "name": "stdout",
     "output_type": "stream",
     "text": [
      "Epoch [29/50] Train Loss: 0.0016 | Val Loss: 0.0026 | Time: 0.03s\n"
     ]
    },
    {
     "name": "stderr",
     "output_type": "stream",
     "text": [
      "Epoch 30/50 [Train]: 100%|████████████████████████████████████████████| 1/1 [00:00<00:00, 44.19it/s, Train Loss=0.0013]\n"
     ]
    },
    {
     "name": "stdout",
     "output_type": "stream",
     "text": [
      "Epoch [30/50] Train Loss: 0.0013 | Val Loss: 0.0040 | Time: 0.04s\n"
     ]
    },
    {
     "name": "stderr",
     "output_type": "stream",
     "text": [
      "Epoch 31/50 [Train]: 100%|████████████████████████████████████████████| 1/1 [00:00<00:00, 50.00it/s, Train Loss=0.0013]\n"
     ]
    },
    {
     "name": "stdout",
     "output_type": "stream",
     "text": [
      "Epoch [31/50] Train Loss: 0.0013 | Val Loss: 0.0037 | Time: 0.03s\n"
     ]
    },
    {
     "name": "stderr",
     "output_type": "stream",
     "text": [
      "Epoch 32/50 [Train]: 100%|████████████████████████████████████████████| 1/1 [00:00<00:00, 43.20it/s, Train Loss=0.0011]\n"
     ]
    },
    {
     "name": "stdout",
     "output_type": "stream",
     "text": [
      "Epoch [32/50] Train Loss: 0.0011 | Val Loss: 0.0034 | Time: 0.03s\n"
     ]
    },
    {
     "name": "stderr",
     "output_type": "stream",
     "text": [
      "Epoch 33/50 [Train]: 100%|████████████████████████████████████████████| 1/1 [00:00<00:00, 44.96it/s, Train Loss=0.0010]\n"
     ]
    },
    {
     "name": "stdout",
     "output_type": "stream",
     "text": [
      "Epoch [33/50] Train Loss: 0.0010 | Val Loss: 0.0033 | Time: 0.02s\n"
     ]
    },
    {
     "name": "stderr",
     "output_type": "stream",
     "text": [
      "Epoch 34/50 [Train]: 100%|████████████████████████████████████████████| 1/1 [00:00<00:00, 66.92it/s, Train Loss=0.0009]\n"
     ]
    },
    {
     "name": "stdout",
     "output_type": "stream",
     "text": [
      "Epoch [34/50] Train Loss: 0.0009 | Val Loss: 0.0027 | Time: 0.03s\n"
     ]
    },
    {
     "name": "stderr",
     "output_type": "stream",
     "text": [
      "Epoch 35/50 [Train]: 100%|████████████████████████████████████████████| 1/1 [00:00<00:00, 36.14it/s, Train Loss=0.0009]\n"
     ]
    },
    {
     "name": "stdout",
     "output_type": "stream",
     "text": [
      "Epoch [35/50] Train Loss: 0.0009 | Val Loss: 0.0029 | Time: 0.03s\n"
     ]
    },
    {
     "name": "stderr",
     "output_type": "stream",
     "text": [
      "Epoch 36/50 [Train]: 100%|████████████████████████████████████████████| 1/1 [00:00<00:00, 42.49it/s, Train Loss=0.0009]\n"
     ]
    },
    {
     "name": "stdout",
     "output_type": "stream",
     "text": [
      "Epoch [36/50] Train Loss: 0.0009 | Val Loss: 0.0022 | Time: 0.03s\n"
     ]
    },
    {
     "name": "stderr",
     "output_type": "stream",
     "text": [
      "Epoch 37/50 [Train]: 100%|████████████████████████████████████████████| 1/1 [00:00<00:00, 71.43it/s, Train Loss=0.0009]\n"
     ]
    },
    {
     "name": "stdout",
     "output_type": "stream",
     "text": [
      "Epoch [37/50] Train Loss: 0.0009 | Val Loss: 0.0020 | Time: 0.02s\n"
     ]
    },
    {
     "name": "stderr",
     "output_type": "stream",
     "text": [
      "Epoch 38/50 [Train]: 100%|████████████████████████████████████████████| 1/1 [00:00<00:00, 67.25it/s, Train Loss=0.0008]\n"
     ]
    },
    {
     "name": "stdout",
     "output_type": "stream",
     "text": [
      "Epoch [38/50] Train Loss: 0.0008 | Val Loss: 0.0018 | Time: 0.02s\n"
     ]
    },
    {
     "name": "stderr",
     "output_type": "stream",
     "text": [
      "Epoch 39/50 [Train]: 100%|████████████████████████████████████████████| 1/1 [00:00<00:00, 70.97it/s, Train Loss=0.0007]"
     ]
    },
    {
     "name": "stdout",
     "output_type": "stream",
     "text": [
      "Epoch [39/50] Train Loss: 0.0007 | Val Loss: 0.0020 | Time: 0.02s\n"
     ]
    },
    {
     "name": "stderr",
     "output_type": "stream",
     "text": [
      "\n",
      "Epoch 40/50 [Train]: 100%|████████████████████████████████████████████| 1/1 [00:00<00:00, 58.56it/s, Train Loss=0.0007]"
     ]
    },
    {
     "name": "stdout",
     "output_type": "stream",
     "text": [
      "Epoch [40/50] Train Loss: 0.0007 | Val Loss: 0.0018 | Time: 0.03s\n"
     ]
    },
    {
     "name": "stderr",
     "output_type": "stream",
     "text": [
      "\n",
      "Epoch 41/50 [Train]: 100%|████████████████████████████████████████████| 1/1 [00:00<00:00, 41.58it/s, Train Loss=0.0007]\n"
     ]
    },
    {
     "name": "stdout",
     "output_type": "stream",
     "text": [
      "Epoch [41/50] Train Loss: 0.0007 | Val Loss: 0.0017 | Time: 0.03s\n"
     ]
    },
    {
     "name": "stderr",
     "output_type": "stream",
     "text": [
      "Epoch 42/50 [Train]: 100%|████████████████████████████████████████████| 1/1 [00:00<00:00, 29.20it/s, Train Loss=0.0006]\n"
     ]
    },
    {
     "name": "stdout",
     "output_type": "stream",
     "text": [
      "Epoch [42/50] Train Loss: 0.0006 | Val Loss: 0.0019 | Time: 0.04s\n"
     ]
    },
    {
     "name": "stderr",
     "output_type": "stream",
     "text": [
      "Epoch 43/50 [Train]: 100%|████████████████████████████████████████████| 1/1 [00:00<00:00, 85.73it/s, Train Loss=0.0006]\n"
     ]
    },
    {
     "name": "stdout",
     "output_type": "stream",
     "text": [
      "Epoch [43/50] Train Loss: 0.0006 | Val Loss: 0.0021 | Time: 0.03s\n"
     ]
    },
    {
     "name": "stderr",
     "output_type": "stream",
     "text": [
      "Epoch 44/50 [Train]: 100%|████████████████████████████████████████████| 1/1 [00:00<00:00, 66.17it/s, Train Loss=0.0006]\n"
     ]
    },
    {
     "name": "stdout",
     "output_type": "stream",
     "text": [
      "Epoch [44/50] Train Loss: 0.0006 | Val Loss: 0.0019 | Time: 0.03s\n"
     ]
    },
    {
     "name": "stderr",
     "output_type": "stream",
     "text": [
      "Epoch 45/50 [Train]: 100%|████████████████████████████████████████████| 1/1 [00:00<00:00, 34.89it/s, Train Loss=0.0006]\n"
     ]
    },
    {
     "name": "stdout",
     "output_type": "stream",
     "text": [
      "Epoch [45/50] Train Loss: 0.0006 | Val Loss: 0.0019 | Time: 0.03s\n"
     ]
    },
    {
     "name": "stderr",
     "output_type": "stream",
     "text": [
      "Epoch 46/50 [Train]: 100%|████████████████████████████████████████████| 1/1 [00:00<00:00, 48.48it/s, Train Loss=0.0005]\n"
     ]
    },
    {
     "name": "stdout",
     "output_type": "stream",
     "text": [
      "Epoch [46/50] Train Loss: 0.0005 | Val Loss: 0.0022 | Time: 0.02s\n"
     ]
    },
    {
     "name": "stderr",
     "output_type": "stream",
     "text": [
      "Epoch 47/50 [Train]: 100%|████████████████████████████████████████████| 1/1 [00:00<00:00, 78.48it/s, Train Loss=0.0005]"
     ]
    },
    {
     "name": "stdout",
     "output_type": "stream",
     "text": [
      "Epoch [47/50] Train Loss: 0.0005 | Val Loss: 0.0023 | Time: 0.02s\n"
     ]
    },
    {
     "name": "stderr",
     "output_type": "stream",
     "text": [
      "\n",
      "Epoch 48/50 [Train]: 100%|████████████████████████████████████████████| 1/1 [00:00<00:00, 34.08it/s, Train Loss=0.0005]\n"
     ]
    },
    {
     "name": "stdout",
     "output_type": "stream",
     "text": [
      "Epoch [48/50] Train Loss: 0.0005 | Val Loss: 0.0027 | Time: 0.03s\n"
     ]
    },
    {
     "name": "stderr",
     "output_type": "stream",
     "text": [
      "Epoch 49/50 [Train]: 100%|███████████████████████████████████████████| 1/1 [00:00<00:00, 249.93it/s, Train Loss=0.0005]\n"
     ]
    },
    {
     "name": "stdout",
     "output_type": "stream",
     "text": [
      "Epoch [49/50] Train Loss: 0.0005 | Val Loss: 0.0029 | Time: 0.02s\n"
     ]
    },
    {
     "name": "stderr",
     "output_type": "stream",
     "text": [
      "Epoch 50/50 [Train]: 100%|████████████████████████████████████████████| 1/1 [00:00<00:00, 76.10it/s, Train Loss=0.0004]"
     ]
    },
    {
     "name": "stdout",
     "output_type": "stream",
     "text": [
      "Epoch [50/50] Train Loss: 0.0004 | Val Loss: 0.0027 | Time: 0.02s\n",
      "Alhamdulillah, Training selesai.\n"
     ]
    },
    {
     "name": "stderr",
     "output_type": "stream",
     "text": [
      "\n"
     ]
    }
   ],
   "source": [
    "# Cell 12\n",
    "# Training loop dengan validasi per epoch (dengan checkpoint & resume)\n",
    "\n",
    "import os\n",
    "import time\n",
    "from tqdm import tqdm\n",
    "\n",
    "# ==== PARAMETER ====\n",
    "START_EPOCH = 1          # default, akan ditimpa otomatis jika ada checkpoint\n",
    "NUM_EPOCHS = 50\n",
    "temperature = 0.1\n",
    "best_val_loss = float('inf')\n",
    "checkpoint_path = \"checkpoint_sst_transformer.pt\"\n",
    "\n",
    "# ==== Jika checkpoint ada, lanjutkan dari sana ====\n",
    "if os.path.exists(checkpoint_path):\n",
    "    checkpoint = torch.load(checkpoint_path, map_location=device)\n",
    "    encoder.load_state_dict(checkpoint[\"encoder_state\"])\n",
    "    transformer.load_state_dict(checkpoint[\"transformer_state\"])\n",
    "    proj_head.load_state_dict(checkpoint[\"proj_head_state\"])\n",
    "    optimizer.load_state_dict(checkpoint[\"optimizer_state\"])\n",
    "    START_EPOCH = checkpoint[\"epoch\"] + 1\n",
    "    best_val_loss = checkpoint[\"best_val_loss\"]\n",
    "    print(f\"[OK] Checkpoint ditemukan. Melanjutkan dari epoch {START_EPOCH}.\")\n",
    "else:\n",
    "    print(\"[MAAF] Tidak ditemukan checkpoint. Memulai training dari awal.\")\n",
    "\n",
    "# ==== Mulai Training ====\n",
    "for epoch in range(START_EPOCH, NUM_EPOCHS+1):  # Start awal di 1, hingga nanti di 21 - 1\n",
    "    start_time = time.time()\n",
    "\n",
    "    # ------------------------\n",
    "    # MODE TRAIN\n",
    "    # ------------------------\n",
    "    encoder.train()\n",
    "    transformer.train()\n",
    "    proj_head.train()\n",
    "\n",
    "    total_train_loss = 0.0\n",
    "\n",
    "    pbar = tqdm(train_loader, desc=f\"Epoch {epoch}/{NUM_EPOCHS} [Train]\", leave=True)\n",
    "    for batch_X, _ in pbar:\n",
    "        batch_X = batch_X.to(device)\n",
    "\n",
    "        # 1. Encode patch untuk dapatkan token embedding (B, 99, 256)\n",
    "        featoken = encoder(batch_X)\n",
    "\n",
    "        # 2. Latent augmentation (Gaussian Noise)\n",
    "        aug_featoken = augmentor(featoken)\n",
    "\n",
    "        # 3️. Proses lewat transformer (attention antar token)\n",
    "        z_orig = transformer(featoken)\n",
    "        z_aug  = transformer(aug_featoken)\n",
    "\n",
    "\n",
    "        # 4️. Proyeksikan ke ruang latent (untuk InfoNCE)\n",
    "        q = proj_head(z_orig)\n",
    "        k = proj_head(z_aug)\n",
    "\n",
    "        # 5. Hitung loss contrastive\n",
    "        loss = info_nce_loss(q, k, temperature=temperature)\n",
    "\n",
    "        optimizer.zero_grad()\n",
    "        loss.backward()\n",
    "        optimizer.step()\n",
    "\n",
    "        total_train_loss += loss.item()\n",
    "        pbar.set_postfix({\"Train Loss\": f\"{loss.item():.4f}\"})\n",
    "\n",
    "    avg_train_loss = total_train_loss / len(train_loader)\n",
    "\n",
    "    # ------------------------\n",
    "    # MODE VALIDASI\n",
    "    # ------------------------\n",
    "    encoder.eval()\n",
    "    transformer.eval()\n",
    "    proj_head.eval()\n",
    "    total_val_loss = 0.0\n",
    "\n",
    "    with torch.no_grad():\n",
    "        for batch_X, _ in val_loader:\n",
    "            batch_X = batch_X.to(device)\n",
    "            featoken = encoder(batch_X)\n",
    "            aug_featoken = augmentor(featoken)\n",
    "            z_orig = transformer(featoken)\n",
    "            z_aug  = transformer(aug_featoken)\n",
    "            q = proj_head(z_orig)\n",
    "            k = proj_head(z_aug)\n",
    "            val_loss = info_nce_loss(q, k, temperature)\n",
    "            total_val_loss += val_loss.item()\n",
    "\n",
    "    avg_val_loss = total_val_loss / len(val_loader)\n",
    "    \n",
    "    # Waktu per epoch\n",
    "    epoch_time = time.time() - start_time\n",
    "\n",
    "    print(f\"Epoch [{epoch}/{NUM_EPOCHS}] \"\n",
    "          f\"Train Loss: {avg_train_loss:.4f} | \"\n",
    "          f\"Val Loss: {avg_val_loss:.4f} | \"\n",
    "          f\"Time: {epoch_time:.2f}s\")\n",
    "\n",
    "    # ------------------------\n",
    "    # SIMPAN CHECKPOINT (checkpoint memiliki file-nya sendiri)\n",
    "    # ------------------------\n",
    "    checkpoint = {\n",
    "        \"epoch\": epoch,\n",
    "        \"encoder_state\": encoder.state_dict(),\n",
    "        \"transformer_state\": transformer.state_dict(),\n",
    "        \"proj_head_state\": proj_head.state_dict(),\n",
    "        \"optimizer_state\": optimizer.state_dict(),\n",
    "        \"best_val_loss\": best_val_loss\n",
    "    }\n",
    "    torch.save(checkpoint, checkpoint_path)\n",
    "\n",
    "    # Simpan model terbaik (model terbaik memiliki file-nya sendiri)\n",
    "    if avg_val_loss < best_val_loss:\n",
    "        best_val_loss = avg_val_loss\n",
    "        torch.save(checkpoint, \"best_sst_transformer.pt\")\n",
    "        print(\"OK Model terbaik disimpan.\")\n",
    "\n",
    "print(\"Alhamdulillah, Training selesai.\")\n",
    "\n"
   ]
  },
  {
   "cell_type": "code",
   "execution_count": 13,
   "id": "9782614d-f0ea-44f2-ba35-c9a762f94431",
   "metadata": {},
   "outputs": [
    {
     "name": "stdout",
     "output_type": "stream",
     "text": [
      "Patch class0 shape: (5, 9, 9, 224)\n",
      "Satu patch shape: (9, 9, 224)\n"
     ]
    }
   ],
   "source": [
    "print(\"Patch class0 shape:\", patch_class0.shape)\n",
    "print(\"Satu patch shape:\", patch_class0[0].shape)"
   ]
  }
 ],
 "metadata": {
  "kernelspec": {
   "display_name": "Python 3 (ipykernel)",
   "language": "python",
   "name": "python3"
  },
  "language_info": {
   "codemirror_mode": {
    "name": "ipython",
    "version": 3
   },
   "file_extension": ".py",
   "mimetype": "text/x-python",
   "name": "python",
   "nbconvert_exporter": "python",
   "pygments_lexer": "ipython3",
   "version": "3.10.18"
  }
 },
 "nbformat": 4,
 "nbformat_minor": 5
}
