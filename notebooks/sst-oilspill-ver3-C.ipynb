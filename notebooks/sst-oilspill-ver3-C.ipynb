{
 "cells": [
  {
   "cell_type": "markdown",
   "id": "97878c5d-85f0-4195-b30d-c7f1559441a0",
   "metadata": {},
   "source": [
    "## __Versi 3C__\n",
    "---\n",
    "\n",
    "_(Basis implementasi bersumber dari versi 2)_\n",
    "\n",
    "Ketentuan khusus versi 3C:\n",
    "- Fokus pada Projection Head yang menerima hasil Transformer dengan shape (B, 99, 256)\n",
    "- Melakukan GAP pada dim=2 (GAP dalam token) di Projection Head (Cell 5)\n",
    "- Melakukan proyeksi linear layer 99-128 di Projection Head (Cell 5)\n",
    "\n",
    "\n",
    "Beberapa perubahan yang ditambahkan (ketentuan bersama) :\n",
    "\n",
    "(PRETRAINING)\n",
    "- Linear layer pada projection head diubah dari 256-512-128 menjadi 256-128\n",
    "- Pada transformer, num_layers = 2 ditingkatkan menjadi num_layers = 5\n",
    "- Menambahkan mekanisme early stopping dengan patience = 50 dan epoch = 200\n",
    "\n",
    "(FINE-TUNING)\n",
    "- Melakukan freeze pada 3D conv encoder, transformer, dan projection head\n",
    "- Melatih classifier head saja\n",
    "\n",
    "(EVALUASI)\n",
    "- Hasil akhir berupa classification map\n",
    "\n",
    "---\n",
    "\n",
    "Cell yang terdampak modifikasi : \n",
    "- Cell 4 : Transformer\n",
    "- Cell 5 : Projection Head\n",
    "- Cell 11 : Inisialisasi\n",
    "- Cell 12 : Training Loop\n",
    "---"
   ]
  },
  {
   "cell_type": "code",
   "execution_count": 1,
   "id": "6e61c7bc-3f98-40e6-a766-46e320336b6c",
   "metadata": {},
   "outputs": [],
   "source": [
    "# Cell 1\n",
    "# Import semua library dasar yang dibutuhkan\n",
    "\n",
    "import torch\n",
    "import torch.nn as nn\n",
    "import torch.optim as optim\n",
    "from torch.utils.data import DataLoader, TensorDataset, random_split\n",
    "import torch.nn.functional as F\n",
    "import numpy as np\n",
    "import matplotlib.pyplot as plt\n"
   ]
  },
  {
   "cell_type": "code",
   "execution_count": 2,
   "id": "b205c883-f9c6-4ec9-8ef5-bc45da5a5e12",
   "metadata": {},
   "outputs": [],
   "source": [
    "# Cell 2\n",
    "# Encoder 3D: bertugas mengekstraksi fitur spasial dan spektral dari patch hyperspectral.\n",
    "\n",
    "# Tujuan: menghasilkan 99 token (3×3×11) berukuran embedding 256\n",
    "# dari satu patch input berukuran (9×9×224)\n",
    "\n",
    "class SpectralSpatialEncoder3D(nn.Module):\n",
    "    def __init__(self, embedding_dim=256, init_channels=32):\n",
    "        super().__init__()\n",
    "        # -------------------------------------------------------\n",
    "        # Konvolusi pertama:\n",
    "        # - Kernel 3x3x20, stride sama (3x3x20)\n",
    "        # - Non-overlapping, agar setiap kernel mencakup satu subpatch\n",
    "        #   spasial-spektral unik\n",
    "        # Output: (B, 32, 11, 3, 3)\n",
    "        # -------------------------------------------------------\n",
    "        self.conv1 = nn.Conv3d(\n",
    "            in_channels=1,\n",
    "            out_channels=init_channels,\n",
    "            kernel_size=(20,3,3),\n",
    "            stride=(20,3,3),\n",
    "            padding=0\n",
    "        )\n",
    "        self.bn1 = nn.BatchNorm3d(init_channels)\n",
    "        self.relu1 = nn.ReLU(inplace=True)\n",
    "\n",
    "        # -------------------------------------------------------\n",
    "        # Konvolusi kedua:\n",
    "        # - Kernel 1x1x1, tanpa mengubah spasial/spektral\n",
    "        # - Berfungsi sebagai \"linear projection\" ke embedding dim 256\n",
    "        # Output: (B, 256, 11, 3, 3)\n",
    "        # -------------------------------------------------------\n",
    "        self.conv2 = nn.Conv3d(\n",
    "            in_channels=init_channels,\n",
    "            out_channels=embedding_dim,\n",
    "            kernel_size=(1,1,1),\n",
    "            stride=(1,1,1),\n",
    "            padding=0\n",
    "        )\n",
    "        self.bn2 = nn.BatchNorm3d(embedding_dim)\n",
    "        self.relu2 = nn.ReLU(inplace=True)\n",
    "    \n",
    "    def forward(self, x):\n",
    "        # x: tensor input (B, 1, 224, 9, 9)\n",
    "        x = self.relu1(self.bn1(self.conv1(x)))   # (B, 32, 11, 3, 3)\n",
    "        x = self.relu2(self.bn2(self.conv2(x)))   # (B, 256, 11, 3, 3)\n",
    "\n",
    "        # -------------------------------------------------------\n",
    "        # Ubah urutan dimensi agar token berada dalam satu dimensi\n",
    "        # Dari (B, 256, 11, 3, 3) ke (B, 11, 3, 3, 256)\n",
    "        # Lalu diratakan menjadi (B, 99, 256)\n",
    "        # -------------------------------------------------------\n",
    "        B, C, D, H, W = x.shape\n",
    "\n",
    "        # print(\"Encoder output before reshape:\", x.shape)  # untuk debug\n",
    "        x = x.permute(0,2,3,4,1).contiguous().view(x.size(0), -1, x.size(1)) # (B, 11, 3, 3, 256) lalu flatten ke (B, 99, 256)\n",
    "        # print(\"Encoder output after reshape:\", x.shape)   # untuk debug\n",
    "        return x\n"
   ]
  },
  {
   "cell_type": "code",
   "execution_count": 3,
   "id": "1ce55139-5cb6-44e6-bcee-4d2e52f7c738",
   "metadata": {},
   "outputs": [],
   "source": [
    "# Cell 3\n",
    "# Fungsi ini menambahkan noise Gaussian ke vektor embedding hasil encoder (featoken)\n",
    "# untuk menghasilkan pasangan positif (positive key)\n",
    "\n",
    "class LatentAugmentor:\n",
    "    def __init__(self, sigma=0.1, device='cpu'):\n",
    "        self.sigma = sigma\n",
    "        self.device = device\n",
    "\n",
    "    def __call__(self, featoken):\n",
    "        \"\"\"\n",
    "        featoken: tensor berukuran (B, T, D)\n",
    "        menghasilkan augmented_featoken: (B, T, D)\n",
    "        \"\"\"\n",
    "        noise = torch.randn_like(featoken, device=featoken.device) * self.sigma\n",
    "        return featoken + noise\n"
   ]
  },
  {
   "cell_type": "code",
   "execution_count": 4,
   "id": "5cc543b8-4c5b-475b-9cc2-697e29bfde2a",
   "metadata": {},
   "outputs": [],
   "source": [
    "# Cell 4\n",
    "# Transformer Encoder sederhana.\n",
    "# Menerima input dalam bentuk (batch, jumlah_token, dimensi_embedding) atau (B, T, D)\n",
    "# Dalam desain sekarang, jumlah_token = T (karena 1 patch bisa menghasilkan token sebanyak T, yaitu 99)\n",
    "\n",
    "class SimpleTransformerEncoder(nn.Module):\n",
    "    def __init__(self, embed_dim=256, num_heads=8, num_layers=5, mlp_dim=512, dropout=0.1): # num_layer = 2 sudah diganti jadi 5\n",
    "        super().__init__()\n",
    "        layer = nn.TransformerEncoderLayer(\n",
    "            d_model=embed_dim,\n",
    "            nhead=num_heads,\n",
    "            dim_feedforward=mlp_dim,\n",
    "            dropout=dropout,\n",
    "            batch_first=True\n",
    "        )\n",
    "        self.transformer = nn.TransformerEncoder(layer, num_layers=num_layers)\n",
    "\n",
    "    def forward(self, x):\n",
    "        \"\"\"\n",
    "        x: tensor (B, T, D)\n",
    "        T = jumlah token\n",
    "        \"\"\"\n",
    "        return self.transformer(x)\n"
   ]
  },
  {
   "cell_type": "code",
   "execution_count": 5,
   "id": "7f5d9e9c-290d-4783-a8d2-87d9eef3516a",
   "metadata": {},
   "outputs": [],
   "source": [
    "# Cell 5\n",
    "# Projection head memetakan output dari transformer ke dimensi ruang latent\n",
    "# ruang latent adalah tempat dilakukan perhitungan kesamaan (cosine similarity).\n",
    "\n",
    "# Ketentuan versi C ini : \n",
    "# - Proyeksi dilakukan dari 99 langsung ke 128\n",
    "# - Pooling global di dalam tiap token, squeeze, lalu proyeksi ke 128\n",
    "\n",
    "class ProjectionHead_C(nn.Module): # ditambah tulisan \"_C\"\n",
    "    def __init__(self, proj_dim=128):\n",
    "        super().__init__()\n",
    "        self.net = nn.Linear(99, proj_dim)  # 99 ke 128\n",
    "\n",
    "    def forward(self, x):  # x: (B, 99, 256)\n",
    "        x = x.mean(dim=2)        # (B, 99, 1)  # GAP Dalam Token\n",
    "        x = x.squeeze(-1)        # (B, 99)\n",
    "        return self.net(x)        # (B, 128)\n"
   ]
  },
  {
   "cell_type": "code",
   "execution_count": 6,
   "id": "610d9080-2f82-49a1-82c5-867d309708dd",
   "metadata": {},
   "outputs": [],
   "source": [
    "# Cell 6\n",
    "# Implementasi fungsi loss InfoNCE\n",
    "# Mengukur kemiripan antar pasangan (query, positive key) dalam satu batch\n",
    "\n",
    "def info_nce_loss(q, k, temperature=0.1):\n",
    "    \"\"\"\n",
    "    q: queries (B, D)\n",
    "    k: positive keys (B, D)\n",
    "    \"\"\"\n",
    "    # Normalisasi\n",
    "    q = F.normalize(q, dim=1)\n",
    "    k = F.normalize(k, dim=1)\n",
    "\n",
    "    # Hitung kesamaan antar semua pasangan dalam batch\n",
    "    logits = torch.matmul(q, k.t()) / temperature\n",
    "    labels = torch.arange(logits.size(0), device=logits.device)\n",
    "    loss = F.cross_entropy(logits, labels)\n",
    "    return loss\n"
   ]
  },
  {
   "cell_type": "code",
   "execution_count": 7,
   "id": "65801ea2-c231-4eae-8635-cfccfea61eaf",
   "metadata": {},
   "outputs": [
    {
     "name": "stdout",
     "output_type": "stream",
     "text": [
      "Class 0 shape: (5, 9, 9, 224)\n",
      "Class 1 shape: (5, 9, 9, 224)\n"
     ]
    }
   ],
   "source": [
    "# Cell 7\n",
    "# Load dataset hasil preprocessing\n",
    "\n",
    "import os\n",
    "\n",
    "data_dir = \"../data/processed\"\n",
    "patch_class0_path = os.path.join(data_dir, \"patch_class0.npy\")\n",
    "patch_class1_path = os.path.join(data_dir, \"patch_class1.npy\")\n",
    "\n",
    "# Pastikan file ada\n",
    "assert os.path.exists(patch_class0_path), f\"File tidak ditemukan: {patch_class0_path}\"\n",
    "assert os.path.exists(patch_class1_path), f\"File tidak ditemukan: {patch_class1_path}\"\n",
    "\n",
    "# Load file .npy\n",
    "patch_class0 = np.load(patch_class0_path) # kelas non oil spill\n",
    "patch_class1 = np.load(patch_class1_path) # kelas oil spill\n",
    "\n",
    "# Cek ukuran masing-masing dataset\n",
    "print(\"Class 0 shape:\", patch_class0.shape)\n",
    "print(\"Class 1 shape:\", patch_class1.shape)"
   ]
  },
  {
   "cell_type": "code",
   "execution_count": 8,
   "id": "d1d8cfef-a4c6-416c-8410-621caf73ef02",
   "metadata": {},
   "outputs": [
    {
     "name": "stdout",
     "output_type": "stream",
     "text": [
      "Total samples: 10\n",
      "Labels shape: (10,)\n"
     ]
    }
   ],
   "source": [
    "# Cell 8\n",
    "# Gabungkan semua patch menjadi satu array\n",
    "X_all = np.concatenate([patch_class0, patch_class1], axis=0)\n",
    "\n",
    "# Buat label\n",
    "y_all = np.concatenate([\n",
    "    np.zeros(len(patch_class0)),  # label 0 untuk class 0\n",
    "    np.ones(len(patch_class1))    # label 1 untuk class 1\n",
    "])\n",
    "\n",
    "print(\"Total samples:\", X_all.shape[0])\n",
    "print(\"Labels shape:\", y_all.shape)\n"
   ]
  },
  {
   "cell_type": "code",
   "execution_count": 9,
   "id": "6981aeed-6488-4ba1-b72b-458a48656826",
   "metadata": {},
   "outputs": [
    {
     "name": "stdout",
     "output_type": "stream",
     "text": [
      "Tensor shape setelah permute: torch.Size([10, 1, 224, 9, 9])\n"
     ]
    }
   ],
   "source": [
    "# Cell 9\n",
    "# Ubah dari numpy ke tensor\n",
    "X_tensor = torch.tensor(X_all, dtype=torch.float32)\n",
    "y_tensor = torch.tensor(y_all, dtype=torch.long)\n",
    "\n",
    "# Ubah bentuk ke format Conv3D (N, C, D, H, W)\n",
    "X_tensor = X_tensor.unsqueeze(1).permute(0, 1, 4, 2, 3)\n",
    "\n",
    "print(\"Tensor shape setelah permute:\", X_tensor.shape)\n"
   ]
  },
  {
   "cell_type": "code",
   "execution_count": 10,
   "id": "6d286df8-941f-4852-a065-564a82cec7a1",
   "metadata": {},
   "outputs": [
    {
     "name": "stdout",
     "output_type": "stream",
     "text": [
      "Train samples: 8 | Validation samples: 2\n"
     ]
    }
   ],
   "source": [
    "# Cell 10\n",
    "# Split train dan validation\n",
    "\n",
    "# Tentukan ukuran train dan validation\n",
    "train_size = int(0.8 * len(X_tensor))\n",
    "val_size = len(X_tensor) - train_size\n",
    "\n",
    "# Buat indeks acak untuk memastikan X dan y sejajar\n",
    "indices = torch.randperm(len(X_tensor))\n",
    "train_idx = indices[:train_size]\n",
    "val_idx = indices[train_size:]\n",
    "\n",
    "# Bagi data berdasarkan indeks yang sama\n",
    "train_X = X_tensor[train_idx]\n",
    "train_y = y_tensor[train_idx]\n",
    "val_X = X_tensor[val_idx]\n",
    "val_y = y_tensor[val_idx]\n",
    "\n",
    "# Buat TensorDataset\n",
    "train_dataset = TensorDataset(train_X, train_y)\n",
    "val_dataset = TensorDataset(val_X, val_y)\n",
    "\n",
    "# Buat DataLoader\n",
    "train_loader = DataLoader(train_dataset, batch_size=32, shuffle=True)\n",
    "val_loader = DataLoader(val_dataset, batch_size=32, shuffle=False)\n",
    "\n",
    "print(f\"Train samples: {len(train_dataset)} | Validation samples: {len(val_dataset)}\")\n"
   ]
  },
  {
   "cell_type": "code",
   "execution_count": 11,
   "id": "79256d72-6af6-4b00-b806-dce23962b743",
   "metadata": {},
   "outputs": [],
   "source": [
    "# Cell 11\n",
    "# Inisialisasi perangkat dan model\n",
    "# Inisialisasi perangkat\n",
    "device = 'cuda' if torch.cuda.is_available() else 'cpu'\n",
    "\n",
    "# Inisialisasi model\n",
    "encoder = SpectralSpatialEncoder3D(embedding_dim=256).to(device)\n",
    "augmentor = LatentAugmentor(sigma=0.08) # tidak .to(device) karena tidak trainable\n",
    "transformer = SimpleTransformerEncoder(embed_dim=256).to(device)\n",
    "\n",
    "proj_head = ProjectionHead_C(proj_dim=128).to(device)\n",
    "   \n",
    "\n",
    "# Parameter dan optimizer\n",
    "params = list(encoder.parameters()) + list(transformer.parameters()) + list(proj_head.parameters())\n",
    "optimizer = optim.AdamW(params, lr=1e-4, weight_decay=0.01)\n"
   ]
  },
  {
   "cell_type": "code",
   "execution_count": 12,
   "id": "e57e068b-685c-4168-91b4-0f055beda16c",
   "metadata": {},
   "outputs": [
    {
     "name": "stdout",
     "output_type": "stream",
     "text": [
      "[MAAF] Tidak ditemukan checkpoint. Memulai training dari awal.\n"
     ]
    },
    {
     "name": "stderr",
     "output_type": "stream",
     "text": [
      "Epoch 1/200 [Train]: 100%|████████████████████████████████████████████| 1/1 [00:00<00:00,  3.02it/s, Train Loss=2.0794]\n"
     ]
    },
    {
     "name": "stdout",
     "output_type": "stream",
     "text": [
      "Epoch [1/200] Train Loss: 2.0794 | Val Loss: 0.6931 | Time: 0.35s\n",
      "OK Model terbaik disimpan.\n"
     ]
    },
    {
     "name": "stderr",
     "output_type": "stream",
     "text": [
      "Epoch 2/200 [Train]: 100%|████████████████████████████████████████████| 1/1 [00:00<00:00, 33.53it/s, Train Loss=2.0794]\n"
     ]
    },
    {
     "name": "stdout",
     "output_type": "stream",
     "text": [
      "Epoch [2/200] Train Loss: 2.0794 | Val Loss: 0.6931 | Time: 0.04s\n",
      "[Epoch 2] No improvement 1/50.\n"
     ]
    },
    {
     "name": "stderr",
     "output_type": "stream",
     "text": [
      "Epoch 3/200 [Train]: 100%|████████████████████████████████████████████| 1/1 [00:00<00:00, 31.94it/s, Train Loss=2.0794]\n"
     ]
    },
    {
     "name": "stdout",
     "output_type": "stream",
     "text": [
      "Epoch [3/200] Train Loss: 2.0794 | Val Loss: 0.6931 | Time: 0.05s\n",
      "OK Model terbaik disimpan.\n"
     ]
    },
    {
     "name": "stderr",
     "output_type": "stream",
     "text": [
      "Epoch 4/200 [Train]: 100%|████████████████████████████████████████████| 1/1 [00:00<00:00, 20.56it/s, Train Loss=2.0794]\n"
     ]
    },
    {
     "name": "stdout",
     "output_type": "stream",
     "text": [
      "Epoch [4/200] Train Loss: 2.0794 | Val Loss: 0.6931 | Time: 0.05s\n",
      "[Epoch 4] No improvement 1/50.\n"
     ]
    },
    {
     "name": "stderr",
     "output_type": "stream",
     "text": [
      "Epoch 5/200 [Train]: 100%|████████████████████████████████████████████| 1/1 [00:00<00:00, 21.42it/s, Train Loss=2.0794]\n"
     ]
    },
    {
     "name": "stdout",
     "output_type": "stream",
     "text": [
      "Epoch [5/200] Train Loss: 2.0794 | Val Loss: 0.6931 | Time: 0.05s\n",
      "OK Model terbaik disimpan.\n"
     ]
    },
    {
     "name": "stderr",
     "output_type": "stream",
     "text": [
      "Epoch 6/200 [Train]: 100%|████████████████████████████████████████████| 1/1 [00:00<00:00, 36.86it/s, Train Loss=2.0794]\n"
     ]
    },
    {
     "name": "stdout",
     "output_type": "stream",
     "text": [
      "Epoch [6/200] Train Loss: 2.0794 | Val Loss: 0.6931 | Time: 0.03s\n",
      "OK Model terbaik disimpan.\n"
     ]
    },
    {
     "name": "stderr",
     "output_type": "stream",
     "text": [
      "Epoch 7/200 [Train]: 100%|████████████████████████████████████████████| 1/1 [00:00<00:00, 31.00it/s, Train Loss=2.0794]\n"
     ]
    },
    {
     "name": "stdout",
     "output_type": "stream",
     "text": [
      "Epoch [7/200] Train Loss: 2.0794 | Val Loss: 0.6931 | Time: 0.04s\n",
      "OK Model terbaik disimpan.\n"
     ]
    },
    {
     "name": "stderr",
     "output_type": "stream",
     "text": [
      "Epoch 8/200 [Train]: 100%|████████████████████████████████████████████| 1/1 [00:00<00:00, 35.72it/s, Train Loss=2.0794]\n"
     ]
    },
    {
     "name": "stdout",
     "output_type": "stream",
     "text": [
      "Epoch [8/200] Train Loss: 2.0794 | Val Loss: 0.6931 | Time: 0.03s\n",
      "OK Model terbaik disimpan.\n"
     ]
    },
    {
     "name": "stderr",
     "output_type": "stream",
     "text": [
      "Epoch 9/200 [Train]: 100%|████████████████████████████████████████████| 1/1 [00:00<00:00, 28.51it/s, Train Loss=2.0793]\n"
     ]
    },
    {
     "name": "stdout",
     "output_type": "stream",
     "text": [
      "Epoch [9/200] Train Loss: 2.0793 | Val Loss: 0.6931 | Time: 0.05s\n",
      "OK Model terbaik disimpan.\n"
     ]
    },
    {
     "name": "stderr",
     "output_type": "stream",
     "text": [
      "Epoch 10/200 [Train]: 100%|███████████████████████████████████████████| 1/1 [00:00<00:00, 28.43it/s, Train Loss=2.0793]"
     ]
    },
    {
     "name": "stdout",
     "output_type": "stream",
     "text": [
      "Epoch [10/200] Train Loss: 2.0793 | Val Loss: 0.6931 | Time: 0.04s"
     ]
    },
    {
     "name": "stderr",
     "output_type": "stream",
     "text": [
      "\n"
     ]
    },
    {
     "name": "stdout",
     "output_type": "stream",
     "text": [
      "\n",
      "OK Model terbaik disimpan.\n"
     ]
    },
    {
     "name": "stderr",
     "output_type": "stream",
     "text": [
      "Epoch 11/200 [Train]: 100%|███████████████████████████████████████████| 1/1 [00:00<00:00, 27.51it/s, Train Loss=2.0792]"
     ]
    },
    {
     "name": "stdout",
     "output_type": "stream",
     "text": [
      "Epoch [11/200] Train Loss: 2.0792 | Val Loss: 0.6930 | Time: 0.04s\n"
     ]
    },
    {
     "name": "stderr",
     "output_type": "stream",
     "text": [
      "\n"
     ]
    },
    {
     "name": "stdout",
     "output_type": "stream",
     "text": [
      "OK Model terbaik disimpan.\n"
     ]
    },
    {
     "name": "stderr",
     "output_type": "stream",
     "text": [
      "Epoch 12/200 [Train]: 100%|███████████████████████████████████████████| 1/1 [00:00<00:00, 52.63it/s, Train Loss=2.0791]\n"
     ]
    },
    {
     "name": "stdout",
     "output_type": "stream",
     "text": [
      "Epoch [12/200] Train Loss: 2.0791 | Val Loss: 0.6929 | Time: 0.04s\n",
      "OK Model terbaik disimpan.\n"
     ]
    },
    {
     "name": "stderr",
     "output_type": "stream",
     "text": [
      "Epoch 13/200 [Train]: 100%|███████████████████████████████████████████| 1/1 [00:00<00:00, 20.83it/s, Train Loss=2.0789]\n"
     ]
    },
    {
     "name": "stdout",
     "output_type": "stream",
     "text": [
      "Epoch [13/200] Train Loss: 2.0789 | Val Loss: 0.6927 | Time: 0.06s\n",
      "OK Model terbaik disimpan.\n"
     ]
    },
    {
     "name": "stderr",
     "output_type": "stream",
     "text": [
      "Epoch 14/200 [Train]: 100%|███████████████████████████████████████████| 1/1 [00:00<00:00, 23.38it/s, Train Loss=2.0787]\n"
     ]
    },
    {
     "name": "stdout",
     "output_type": "stream",
     "text": [
      "Epoch [14/200] Train Loss: 2.0787 | Val Loss: 0.6924 | Time: 0.04s\n",
      "OK Model terbaik disimpan.\n"
     ]
    },
    {
     "name": "stderr",
     "output_type": "stream",
     "text": [
      "Epoch 15/200 [Train]: 100%|███████████████████████████████████████████| 1/1 [00:00<00:00, 32.37it/s, Train Loss=2.0784]\n"
     ]
    },
    {
     "name": "stdout",
     "output_type": "stream",
     "text": [
      "Epoch [15/200] Train Loss: 2.0784 | Val Loss: 0.6920 | Time: 0.04s\n",
      "OK Model terbaik disimpan.\n"
     ]
    },
    {
     "name": "stderr",
     "output_type": "stream",
     "text": [
      "Epoch 16/200 [Train]: 100%|███████████████████████████████████████████| 1/1 [00:00<00:00, 26.51it/s, Train Loss=2.0781]"
     ]
    },
    {
     "name": "stdout",
     "output_type": "stream",
     "text": [
      "Epoch [16/200] Train Loss: 2.0781 | Val Loss: 0.6915 | Time: 0.04s\n"
     ]
    },
    {
     "name": "stderr",
     "output_type": "stream",
     "text": [
      "\n"
     ]
    },
    {
     "name": "stdout",
     "output_type": "stream",
     "text": [
      "OK Model terbaik disimpan.\n"
     ]
    },
    {
     "name": "stderr",
     "output_type": "stream",
     "text": [
      "Epoch 17/200 [Train]: 100%|███████████████████████████████████████████| 1/1 [00:00<00:00, 27.99it/s, Train Loss=2.0777]\n"
     ]
    },
    {
     "name": "stdout",
     "output_type": "stream",
     "text": [
      "Epoch [17/200] Train Loss: 2.0777 | Val Loss: 0.6910 | Time: 0.04s\n",
      "OK Model terbaik disimpan.\n"
     ]
    },
    {
     "name": "stderr",
     "output_type": "stream",
     "text": [
      "Epoch 18/200 [Train]: 100%|███████████████████████████████████████████| 1/1 [00:00<00:00, 41.03it/s, Train Loss=2.0773]\n"
     ]
    },
    {
     "name": "stdout",
     "output_type": "stream",
     "text": [
      "Epoch [18/200] Train Loss: 2.0773 | Val Loss: 0.6904 | Time: 0.04s\n",
      "OK Model terbaik disimpan.\n"
     ]
    },
    {
     "name": "stderr",
     "output_type": "stream",
     "text": [
      "Epoch 19/200 [Train]: 100%|███████████████████████████████████████████| 1/1 [00:00<00:00, 29.20it/s, Train Loss=2.0768]\n"
     ]
    },
    {
     "name": "stdout",
     "output_type": "stream",
     "text": [
      "Epoch [19/200] Train Loss: 2.0768 | Val Loss: 0.6897 | Time: 0.05s\n",
      "OK Model terbaik disimpan.\n"
     ]
    },
    {
     "name": "stderr",
     "output_type": "stream",
     "text": [
      "Epoch 20/200 [Train]: 100%|███████████████████████████████████████████| 1/1 [00:00<00:00, 24.66it/s, Train Loss=2.0762]\n"
     ]
    },
    {
     "name": "stdout",
     "output_type": "stream",
     "text": [
      "Epoch [20/200] Train Loss: 2.0762 | Val Loss: 0.6890 | Time: 0.05s\n",
      "OK Model terbaik disimpan.\n"
     ]
    },
    {
     "name": "stderr",
     "output_type": "stream",
     "text": [
      "Epoch 21/200 [Train]: 100%|███████████████████████████████████████████| 1/1 [00:00<00:00, 29.07it/s, Train Loss=2.0755]\n"
     ]
    },
    {
     "name": "stdout",
     "output_type": "stream",
     "text": [
      "Epoch [21/200] Train Loss: 2.0755 | Val Loss: 0.6881 | Time: 0.04s\n",
      "OK Model terbaik disimpan.\n"
     ]
    },
    {
     "name": "stderr",
     "output_type": "stream",
     "text": [
      "Epoch 22/200 [Train]: 100%|███████████████████████████████████████████| 1/1 [00:00<00:00, 26.97it/s, Train Loss=2.0748]\n"
     ]
    },
    {
     "name": "stdout",
     "output_type": "stream",
     "text": [
      "Epoch [22/200] Train Loss: 2.0748 | Val Loss: 0.6872 | Time: 0.05s\n",
      "OK Model terbaik disimpan.\n"
     ]
    },
    {
     "name": "stderr",
     "output_type": "stream",
     "text": [
      "Epoch 23/200 [Train]: 100%|███████████████████████████████████████████| 1/1 [00:00<00:00, 28.46it/s, Train Loss=2.0739]\n"
     ]
    },
    {
     "name": "stdout",
     "output_type": "stream",
     "text": [
      "Epoch [23/200] Train Loss: 2.0739 | Val Loss: 0.6861 | Time: 0.05s\n",
      "OK Model terbaik disimpan.\n"
     ]
    },
    {
     "name": "stderr",
     "output_type": "stream",
     "text": [
      "Epoch 24/200 [Train]: 100%|███████████████████████████████████████████| 1/1 [00:00<00:00, 31.88it/s, Train Loss=2.0730]\n"
     ]
    },
    {
     "name": "stdout",
     "output_type": "stream",
     "text": [
      "Epoch [24/200] Train Loss: 2.0730 | Val Loss: 0.6849 | Time: 0.05s\n",
      "OK Model terbaik disimpan.\n"
     ]
    },
    {
     "name": "stderr",
     "output_type": "stream",
     "text": [
      "Epoch 25/200 [Train]: 100%|███████████████████████████████████████████| 1/1 [00:00<00:00, 31.83it/s, Train Loss=2.0720]\n"
     ]
    },
    {
     "name": "stdout",
     "output_type": "stream",
     "text": [
      "Epoch [25/200] Train Loss: 2.0720 | Val Loss: 0.6836 | Time: 0.05s\n",
      "OK Model terbaik disimpan.\n"
     ]
    },
    {
     "name": "stderr",
     "output_type": "stream",
     "text": [
      "Epoch 26/200 [Train]: 100%|███████████████████████████████████████████| 1/1 [00:00<00:00, 14.40it/s, Train Loss=2.0708]\n"
     ]
    },
    {
     "name": "stdout",
     "output_type": "stream",
     "text": [
      "Epoch [26/200] Train Loss: 2.0708 | Val Loss: 0.6822 | Time: 0.08s\n",
      "OK Model terbaik disimpan.\n"
     ]
    },
    {
     "name": "stderr",
     "output_type": "stream",
     "text": [
      "Epoch 27/200 [Train]: 100%|███████████████████████████████████████████| 1/1 [00:00<00:00, 21.23it/s, Train Loss=2.0695]\n"
     ]
    },
    {
     "name": "stdout",
     "output_type": "stream",
     "text": [
      "Epoch [27/200] Train Loss: 2.0695 | Val Loss: 0.6806 | Time: 0.06s\n",
      "OK Model terbaik disimpan.\n"
     ]
    },
    {
     "name": "stderr",
     "output_type": "stream",
     "text": [
      "Epoch 28/200 [Train]: 100%|███████████████████████████████████████████| 1/1 [00:00<00:00, 21.34it/s, Train Loss=2.0681]\n"
     ]
    },
    {
     "name": "stdout",
     "output_type": "stream",
     "text": [
      "Epoch [28/200] Train Loss: 2.0681 | Val Loss: 0.6789 | Time: 0.06s\n",
      "OK Model terbaik disimpan.\n"
     ]
    },
    {
     "name": "stderr",
     "output_type": "stream",
     "text": [
      "Epoch 29/200 [Train]: 100%|███████████████████████████████████████████| 1/1 [00:00<00:00, 20.84it/s, Train Loss=2.0665]\n"
     ]
    },
    {
     "name": "stdout",
     "output_type": "stream",
     "text": [
      "Epoch [29/200] Train Loss: 2.0665 | Val Loss: 0.6770 | Time: 0.06s\n",
      "OK Model terbaik disimpan.\n"
     ]
    },
    {
     "name": "stderr",
     "output_type": "stream",
     "text": [
      "Epoch 30/200 [Train]: 100%|███████████████████████████████████████████| 1/1 [00:00<00:00, 20.06it/s, Train Loss=2.0648]\n"
     ]
    },
    {
     "name": "stdout",
     "output_type": "stream",
     "text": [
      "Epoch [30/200] Train Loss: 2.0648 | Val Loss: 0.6749 | Time: 0.06s\n",
      "OK Model terbaik disimpan.\n"
     ]
    },
    {
     "name": "stderr",
     "output_type": "stream",
     "text": [
      "Epoch 31/200 [Train]: 100%|███████████████████████████████████████████| 1/1 [00:00<00:00, 20.28it/s, Train Loss=2.0629]\n"
     ]
    },
    {
     "name": "stdout",
     "output_type": "stream",
     "text": [
      "Epoch [31/200] Train Loss: 2.0629 | Val Loss: 0.6726 | Time: 0.06s\n",
      "OK Model terbaik disimpan.\n"
     ]
    },
    {
     "name": "stderr",
     "output_type": "stream",
     "text": [
      "Epoch 32/200 [Train]: 100%|███████████████████████████████████████████| 1/1 [00:00<00:00, 19.76it/s, Train Loss=2.0608]\n"
     ]
    },
    {
     "name": "stdout",
     "output_type": "stream",
     "text": [
      "Epoch [32/200] Train Loss: 2.0608 | Val Loss: 0.6700 | Time: 0.06s\n",
      "OK Model terbaik disimpan.\n"
     ]
    },
    {
     "name": "stderr",
     "output_type": "stream",
     "text": [
      "Epoch 33/200 [Train]: 100%|███████████████████████████████████████████| 1/1 [00:00<00:00, 15.98it/s, Train Loss=2.0585]\n"
     ]
    },
    {
     "name": "stdout",
     "output_type": "stream",
     "text": [
      "Epoch [33/200] Train Loss: 2.0585 | Val Loss: 0.6672 | Time: 0.06s\n",
      "OK Model terbaik disimpan.\n"
     ]
    },
    {
     "name": "stderr",
     "output_type": "stream",
     "text": [
      "Epoch 34/200 [Train]: 100%|███████████████████████████████████████████| 1/1 [00:00<00:00, 15.72it/s, Train Loss=2.0559]\n"
     ]
    },
    {
     "name": "stdout",
     "output_type": "stream",
     "text": [
      "Epoch [34/200] Train Loss: 2.0559 | Val Loss: 0.6642 | Time: 0.06s\n",
      "OK Model terbaik disimpan.\n"
     ]
    },
    {
     "name": "stderr",
     "output_type": "stream",
     "text": [
      "Epoch 35/200 [Train]: 100%|███████████████████████████████████████████| 1/1 [00:00<00:00, 17.84it/s, Train Loss=2.0531]\n"
     ]
    },
    {
     "name": "stdout",
     "output_type": "stream",
     "text": [
      "Epoch [35/200] Train Loss: 2.0531 | Val Loss: 0.6608 | Time: 0.07s\n",
      "OK Model terbaik disimpan.\n"
     ]
    },
    {
     "name": "stderr",
     "output_type": "stream",
     "text": [
      "Epoch 36/200 [Train]: 100%|███████████████████████████████████████████| 1/1 [00:00<00:00, 21.07it/s, Train Loss=2.0501]\n"
     ]
    },
    {
     "name": "stdout",
     "output_type": "stream",
     "text": [
      "Epoch [36/200] Train Loss: 2.0501 | Val Loss: 0.6572 | Time: 0.06s\n",
      "OK Model terbaik disimpan.\n"
     ]
    },
    {
     "name": "stderr",
     "output_type": "stream",
     "text": [
      "Epoch 37/200 [Train]: 100%|███████████████████████████████████████████| 1/1 [00:00<00:00, 17.78it/s, Train Loss=2.0468]\n"
     ]
    },
    {
     "name": "stdout",
     "output_type": "stream",
     "text": [
      "Epoch [37/200] Train Loss: 2.0468 | Val Loss: 0.6532 | Time: 0.06s\n",
      "OK Model terbaik disimpan.\n"
     ]
    },
    {
     "name": "stderr",
     "output_type": "stream",
     "text": [
      "Epoch 38/200 [Train]: 100%|███████████████████████████████████████████| 1/1 [00:00<00:00, 18.54it/s, Train Loss=2.0431]\n"
     ]
    },
    {
     "name": "stdout",
     "output_type": "stream",
     "text": [
      "Epoch [38/200] Train Loss: 2.0431 | Val Loss: 0.6489 | Time: 0.07s\n",
      "OK Model terbaik disimpan.\n"
     ]
    },
    {
     "name": "stderr",
     "output_type": "stream",
     "text": [
      "Epoch 39/200 [Train]: 100%|███████████████████████████████████████████| 1/1 [00:00<00:00, 18.04it/s, Train Loss=2.0392]\n"
     ]
    },
    {
     "name": "stdout",
     "output_type": "stream",
     "text": [
      "Epoch [39/200] Train Loss: 2.0392 | Val Loss: 0.6442 | Time: 0.07s\n",
      "OK Model terbaik disimpan.\n"
     ]
    },
    {
     "name": "stderr",
     "output_type": "stream",
     "text": [
      "Epoch 40/200 [Train]: 100%|███████████████████████████████████████████| 1/1 [00:00<00:00, 13.12it/s, Train Loss=2.0349]\n"
     ]
    },
    {
     "name": "stdout",
     "output_type": "stream",
     "text": [
      "Epoch [40/200] Train Loss: 2.0349 | Val Loss: 0.6392 | Time: 0.08s\n",
      "OK Model terbaik disimpan.\n"
     ]
    },
    {
     "name": "stderr",
     "output_type": "stream",
     "text": [
      "Epoch 41/200 [Train]: 100%|███████████████████████████████████████████| 1/1 [00:00<00:00, 21.19it/s, Train Loss=2.0303]\n"
     ]
    },
    {
     "name": "stdout",
     "output_type": "stream",
     "text": [
      "Epoch [41/200] Train Loss: 2.0303 | Val Loss: 0.6337 | Time: 0.06s\n",
      "OK Model terbaik disimpan.\n"
     ]
    },
    {
     "name": "stderr",
     "output_type": "stream",
     "text": [
      "Epoch 42/200 [Train]: 100%|███████████████████████████████████████████| 1/1 [00:00<00:00, 14.92it/s, Train Loss=2.0252]\n"
     ]
    },
    {
     "name": "stdout",
     "output_type": "stream",
     "text": [
      "Epoch [42/200] Train Loss: 2.0252 | Val Loss: 0.6278 | Time: 0.07s\n",
      "OK Model terbaik disimpan.\n"
     ]
    },
    {
     "name": "stderr",
     "output_type": "stream",
     "text": [
      "Epoch 43/200 [Train]: 100%|███████████████████████████████████████████| 1/1 [00:00<00:00, 15.72it/s, Train Loss=2.0198]\n"
     ]
    },
    {
     "name": "stdout",
     "output_type": "stream",
     "text": [
      "Epoch [43/200] Train Loss: 2.0198 | Val Loss: 0.6214 | Time: 0.06s\n",
      "OK Model terbaik disimpan.\n"
     ]
    },
    {
     "name": "stderr",
     "output_type": "stream",
     "text": [
      "Epoch 44/200 [Train]: 100%|███████████████████████████████████████████| 1/1 [00:00<00:00, 20.92it/s, Train Loss=2.0140]\n"
     ]
    },
    {
     "name": "stdout",
     "output_type": "stream",
     "text": [
      "Epoch [44/200] Train Loss: 2.0140 | Val Loss: 0.6146 | Time: 0.06s\n",
      "OK Model terbaik disimpan.\n"
     ]
    },
    {
     "name": "stderr",
     "output_type": "stream",
     "text": [
      "Epoch 45/200 [Train]: 100%|███████████████████████████████████████████| 1/1 [00:00<00:00, 20.81it/s, Train Loss=2.0077]\n"
     ]
    },
    {
     "name": "stdout",
     "output_type": "stream",
     "text": [
      "Epoch [45/200] Train Loss: 2.0077 | Val Loss: 0.6073 | Time: 0.08s\n",
      "OK Model terbaik disimpan.\n"
     ]
    },
    {
     "name": "stderr",
     "output_type": "stream",
     "text": [
      "Epoch 46/200 [Train]: 100%|███████████████████████████████████████████| 1/1 [00:00<00:00, 13.34it/s, Train Loss=2.0009]\n"
     ]
    },
    {
     "name": "stdout",
     "output_type": "stream",
     "text": [
      "Epoch [46/200] Train Loss: 2.0009 | Val Loss: 0.5994 | Time: 0.08s\n",
      "OK Model terbaik disimpan.\n"
     ]
    },
    {
     "name": "stderr",
     "output_type": "stream",
     "text": [
      "Epoch 47/200 [Train]: 100%|███████████████████████████████████████████| 1/1 [00:00<00:00, 15.61it/s, Train Loss=1.9937]\n"
     ]
    },
    {
     "name": "stdout",
     "output_type": "stream",
     "text": [
      "Epoch [47/200] Train Loss: 1.9937 | Val Loss: 0.5910 | Time: 0.09s\n",
      "OK Model terbaik disimpan.\n"
     ]
    },
    {
     "name": "stderr",
     "output_type": "stream",
     "text": [
      "Epoch 48/200 [Train]: 100%|███████████████████████████████████████████| 1/1 [00:00<00:00, 19.14it/s, Train Loss=1.9859]\n"
     ]
    },
    {
     "name": "stdout",
     "output_type": "stream",
     "text": [
      "Epoch [48/200] Train Loss: 1.9859 | Val Loss: 0.5821 | Time: 0.06s\n",
      "OK Model terbaik disimpan.\n"
     ]
    },
    {
     "name": "stderr",
     "output_type": "stream",
     "text": [
      "Epoch 49/200 [Train]: 100%|███████████████████████████████████████████| 1/1 [00:00<00:00, 16.03it/s, Train Loss=1.9777]\n"
     ]
    },
    {
     "name": "stdout",
     "output_type": "stream",
     "text": [
      "Epoch [49/200] Train Loss: 1.9777 | Val Loss: 0.5726 | Time: 0.07s\n",
      "OK Model terbaik disimpan.\n"
     ]
    },
    {
     "name": "stderr",
     "output_type": "stream",
     "text": [
      "Epoch 50/200 [Train]: 100%|███████████████████████████████████████████| 1/1 [00:00<00:00, 16.49it/s, Train Loss=1.9689]\n"
     ]
    },
    {
     "name": "stdout",
     "output_type": "stream",
     "text": [
      "Epoch [50/200] Train Loss: 1.9689 | Val Loss: 0.5625 | Time: 0.07s\n",
      "OK Model terbaik disimpan.\n"
     ]
    },
    {
     "name": "stderr",
     "output_type": "stream",
     "text": [
      "Epoch 51/200 [Train]: 100%|███████████████████████████████████████████| 1/1 [00:00<00:00, 16.80it/s, Train Loss=1.9595]\n"
     ]
    },
    {
     "name": "stdout",
     "output_type": "stream",
     "text": [
      "Epoch [51/200] Train Loss: 1.9595 | Val Loss: 0.5518 | Time: 0.06s\n",
      "OK Model terbaik disimpan.\n"
     ]
    },
    {
     "name": "stderr",
     "output_type": "stream",
     "text": [
      "Epoch 52/200 [Train]: 100%|███████████████████████████████████████████| 1/1 [00:00<00:00, 13.55it/s, Train Loss=1.9496]\n"
     ]
    },
    {
     "name": "stdout",
     "output_type": "stream",
     "text": [
      "Epoch [52/200] Train Loss: 1.9496 | Val Loss: 0.5404 | Time: 0.08s\n",
      "OK Model terbaik disimpan.\n"
     ]
    },
    {
     "name": "stderr",
     "output_type": "stream",
     "text": [
      "Epoch 53/200 [Train]: 100%|███████████████████████████████████████████| 1/1 [00:00<00:00, 15.29it/s, Train Loss=1.9391]\n"
     ]
    },
    {
     "name": "stdout",
     "output_type": "stream",
     "text": [
      "Epoch [53/200] Train Loss: 1.9391 | Val Loss: 0.5285 | Time: 0.08s\n",
      "OK Model terbaik disimpan.\n"
     ]
    },
    {
     "name": "stderr",
     "output_type": "stream",
     "text": [
      "Epoch 54/200 [Train]: 100%|███████████████████████████████████████████| 1/1 [00:00<00:00, 17.36it/s, Train Loss=1.9280]\n"
     ]
    },
    {
     "name": "stdout",
     "output_type": "stream",
     "text": [
      "Epoch [54/200] Train Loss: 1.9280 | Val Loss: 0.5160 | Time: 0.07s\n",
      "OK Model terbaik disimpan.\n"
     ]
    },
    {
     "name": "stderr",
     "output_type": "stream",
     "text": [
      "Epoch 55/200 [Train]: 100%|███████████████████████████████████████████| 1/1 [00:00<00:00, 15.68it/s, Train Loss=1.9164]\n"
     ]
    },
    {
     "name": "stdout",
     "output_type": "stream",
     "text": [
      "Epoch [55/200] Train Loss: 1.9164 | Val Loss: 0.5029 | Time: 0.08s\n",
      "OK Model terbaik disimpan.\n"
     ]
    },
    {
     "name": "stderr",
     "output_type": "stream",
     "text": [
      "Epoch 56/200 [Train]: 100%|███████████████████████████████████████████| 1/1 [00:00<00:00, 16.26it/s, Train Loss=1.9041]\n"
     ]
    },
    {
     "name": "stdout",
     "output_type": "stream",
     "text": [
      "Epoch [56/200] Train Loss: 1.9041 | Val Loss: 0.4892 | Time: 0.07s\n",
      "OK Model terbaik disimpan.\n"
     ]
    },
    {
     "name": "stderr",
     "output_type": "stream",
     "text": [
      "Epoch 57/200 [Train]: 100%|███████████████████████████████████████████| 1/1 [00:00<00:00, 16.76it/s, Train Loss=1.8913]\n"
     ]
    },
    {
     "name": "stdout",
     "output_type": "stream",
     "text": [
      "Epoch [57/200] Train Loss: 1.8913 | Val Loss: 0.4749 | Time: 0.07s\n",
      "OK Model terbaik disimpan.\n"
     ]
    },
    {
     "name": "stderr",
     "output_type": "stream",
     "text": [
      "Epoch 58/200 [Train]: 100%|███████████████████████████████████████████| 1/1 [00:00<00:00, 13.60it/s, Train Loss=1.8780]\n"
     ]
    },
    {
     "name": "stdout",
     "output_type": "stream",
     "text": [
      "Epoch [58/200] Train Loss: 1.8780 | Val Loss: 0.4601 | Time: 0.07s\n",
      "OK Model terbaik disimpan.\n"
     ]
    },
    {
     "name": "stderr",
     "output_type": "stream",
     "text": [
      "Epoch 59/200 [Train]: 100%|███████████████████████████████████████████| 1/1 [00:00<00:00, 16.76it/s, Train Loss=1.8640]\n"
     ]
    },
    {
     "name": "stdout",
     "output_type": "stream",
     "text": [
      "Epoch [59/200] Train Loss: 1.8640 | Val Loss: 0.4447 | Time: 0.07s\n",
      "OK Model terbaik disimpan.\n"
     ]
    },
    {
     "name": "stderr",
     "output_type": "stream",
     "text": [
      "Epoch 60/200 [Train]: 100%|███████████████████████████████████████████| 1/1 [00:00<00:00, 24.80it/s, Train Loss=1.8496]\n"
     ]
    },
    {
     "name": "stdout",
     "output_type": "stream",
     "text": [
      "Epoch [60/200] Train Loss: 1.8496 | Val Loss: 0.4288 | Time: 0.07s\n",
      "OK Model terbaik disimpan.\n"
     ]
    },
    {
     "name": "stderr",
     "output_type": "stream",
     "text": [
      "Epoch 61/200 [Train]: 100%|███████████████████████████████████████████| 1/1 [00:00<00:00, 15.75it/s, Train Loss=1.8347]\n"
     ]
    },
    {
     "name": "stdout",
     "output_type": "stream",
     "text": [
      "Epoch [61/200] Train Loss: 1.8347 | Val Loss: 0.4128 | Time: 0.07s\n",
      "OK Model terbaik disimpan.\n"
     ]
    },
    {
     "name": "stderr",
     "output_type": "stream",
     "text": [
      "Epoch 62/200 [Train]: 100%|███████████████████████████████████████████| 1/1 [00:00<00:00, 15.98it/s, Train Loss=1.8194]\n"
     ]
    },
    {
     "name": "stdout",
     "output_type": "stream",
     "text": [
      "Epoch [62/200] Train Loss: 1.8194 | Val Loss: 0.3964 | Time: 0.07s\n",
      "OK Model terbaik disimpan.\n"
     ]
    },
    {
     "name": "stderr",
     "output_type": "stream",
     "text": [
      "Epoch 63/200 [Train]: 100%|███████████████████████████████████████████| 1/1 [00:00<00:00, 17.65it/s, Train Loss=1.8036]\n"
     ]
    },
    {
     "name": "stdout",
     "output_type": "stream",
     "text": [
      "Epoch [63/200] Train Loss: 1.8036 | Val Loss: 0.3807 | Time: 0.07s\n",
      "OK Model terbaik disimpan.\n"
     ]
    },
    {
     "name": "stderr",
     "output_type": "stream",
     "text": [
      "Epoch 64/200 [Train]: 100%|███████████████████████████████████████████| 1/1 [00:00<00:00, 14.84it/s, Train Loss=1.7875]\n"
     ]
    },
    {
     "name": "stdout",
     "output_type": "stream",
     "text": [
      "Epoch [64/200] Train Loss: 1.7875 | Val Loss: 0.3641 | Time: 0.08s\n",
      "OK Model terbaik disimpan.\n"
     ]
    },
    {
     "name": "stderr",
     "output_type": "stream",
     "text": [
      "Epoch 65/200 [Train]: 100%|███████████████████████████████████████████| 1/1 [00:00<00:00, 16.33it/s, Train Loss=1.7711]\n"
     ]
    },
    {
     "name": "stdout",
     "output_type": "stream",
     "text": [
      "Epoch [65/200] Train Loss: 1.7711 | Val Loss: 0.3484 | Time: 0.07s\n",
      "OK Model terbaik disimpan.\n"
     ]
    },
    {
     "name": "stderr",
     "output_type": "stream",
     "text": [
      "Epoch 66/200 [Train]: 100%|███████████████████████████████████████████| 1/1 [00:00<00:00, 16.25it/s, Train Loss=1.7545]\n"
     ]
    },
    {
     "name": "stdout",
     "output_type": "stream",
     "text": [
      "Epoch [66/200] Train Loss: 1.7545 | Val Loss: 0.3312 | Time: 0.07s\n",
      "OK Model terbaik disimpan.\n"
     ]
    },
    {
     "name": "stderr",
     "output_type": "stream",
     "text": [
      "Epoch 67/200 [Train]: 100%|███████████████████████████████████████████| 1/1 [00:00<00:00, 16.74it/s, Train Loss=1.7377]\n"
     ]
    },
    {
     "name": "stdout",
     "output_type": "stream",
     "text": [
      "Epoch [67/200] Train Loss: 1.7377 | Val Loss: 0.3132 | Time: 0.07s\n",
      "OK Model terbaik disimpan.\n"
     ]
    },
    {
     "name": "stderr",
     "output_type": "stream",
     "text": [
      "Epoch 68/200 [Train]: 100%|███████████████████████████████████████████| 1/1 [00:00<00:00, 16.13it/s, Train Loss=1.7209]\n"
     ]
    },
    {
     "name": "stdout",
     "output_type": "stream",
     "text": [
      "Epoch [68/200] Train Loss: 1.7209 | Val Loss: 0.2956 | Time: 0.07s\n",
      "OK Model terbaik disimpan.\n"
     ]
    },
    {
     "name": "stderr",
     "output_type": "stream",
     "text": [
      "Epoch 69/200 [Train]: 100%|███████████████████████████████████████████| 1/1 [00:00<00:00, 13.64it/s, Train Loss=1.7041]\n"
     ]
    },
    {
     "name": "stdout",
     "output_type": "stream",
     "text": [
      "Epoch [69/200] Train Loss: 1.7041 | Val Loss: 0.2787 | Time: 0.08s\n",
      "OK Model terbaik disimpan.\n"
     ]
    },
    {
     "name": "stderr",
     "output_type": "stream",
     "text": [
      "Epoch 70/200 [Train]: 100%|███████████████████████████████████████████| 1/1 [00:00<00:00, 14.61it/s, Train Loss=1.6873]\n"
     ]
    },
    {
     "name": "stdout",
     "output_type": "stream",
     "text": [
      "Epoch [70/200] Train Loss: 1.6873 | Val Loss: 0.2603 | Time: 0.07s\n",
      "OK Model terbaik disimpan.\n"
     ]
    },
    {
     "name": "stderr",
     "output_type": "stream",
     "text": [
      "Epoch 71/200 [Train]: 100%|███████████████████████████████████████████| 1/1 [00:00<00:00, 17.27it/s, Train Loss=1.6708]\n"
     ]
    },
    {
     "name": "stdout",
     "output_type": "stream",
     "text": [
      "Epoch [71/200] Train Loss: 1.6708 | Val Loss: 0.2422 | Time: 0.07s\n",
      "OK Model terbaik disimpan.\n"
     ]
    },
    {
     "name": "stderr",
     "output_type": "stream",
     "text": [
      "Epoch 72/200 [Train]: 100%|███████████████████████████████████████████| 1/1 [00:00<00:00, 20.89it/s, Train Loss=1.6545]\n"
     ]
    },
    {
     "name": "stdout",
     "output_type": "stream",
     "text": [
      "Epoch [72/200] Train Loss: 1.6545 | Val Loss: 0.2248 | Time: 0.05s\n",
      "OK Model terbaik disimpan.\n"
     ]
    },
    {
     "name": "stderr",
     "output_type": "stream",
     "text": [
      "Epoch 73/200 [Train]: 100%|███████████████████████████████████████████| 1/1 [00:00<00:00, 18.09it/s, Train Loss=1.6387]\n"
     ]
    },
    {
     "name": "stdout",
     "output_type": "stream",
     "text": [
      "Epoch [73/200] Train Loss: 1.6387 | Val Loss: 0.2081 | Time: 0.06s\n",
      "OK Model terbaik disimpan.\n"
     ]
    },
    {
     "name": "stderr",
     "output_type": "stream",
     "text": [
      "Epoch 74/200 [Train]: 100%|███████████████████████████████████████████| 1/1 [00:00<00:00, 18.31it/s, Train Loss=1.6232]\n"
     ]
    },
    {
     "name": "stdout",
     "output_type": "stream",
     "text": [
      "Epoch [74/200] Train Loss: 1.6232 | Val Loss: 0.1935 | Time: 0.07s\n",
      "OK Model terbaik disimpan.\n"
     ]
    },
    {
     "name": "stderr",
     "output_type": "stream",
     "text": [
      "Epoch 75/200 [Train]: 100%|███████████████████████████████████████████| 1/1 [00:00<00:00, 15.91it/s, Train Loss=1.6084]\n"
     ]
    },
    {
     "name": "stdout",
     "output_type": "stream",
     "text": [
      "Epoch [75/200] Train Loss: 1.6084 | Val Loss: 0.1789 | Time: 0.06s\n",
      "OK Model terbaik disimpan.\n"
     ]
    },
    {
     "name": "stderr",
     "output_type": "stream",
     "text": [
      "Epoch 76/200 [Train]: 100%|███████████████████████████████████████████| 1/1 [00:00<00:00, 16.13it/s, Train Loss=1.5940]\n"
     ]
    },
    {
     "name": "stdout",
     "output_type": "stream",
     "text": [
      "Epoch [76/200] Train Loss: 1.5940 | Val Loss: 0.1648 | Time: 0.07s\n",
      "OK Model terbaik disimpan.\n"
     ]
    },
    {
     "name": "stderr",
     "output_type": "stream",
     "text": [
      "Epoch 77/200 [Train]: 100%|███████████████████████████████████████████| 1/1 [00:00<00:00, 19.02it/s, Train Loss=1.5803]\n"
     ]
    },
    {
     "name": "stdout",
     "output_type": "stream",
     "text": [
      "Epoch [77/200] Train Loss: 1.5803 | Val Loss: 0.1514 | Time: 0.06s\n",
      "OK Model terbaik disimpan.\n"
     ]
    },
    {
     "name": "stderr",
     "output_type": "stream",
     "text": [
      "Epoch 78/200 [Train]: 100%|███████████████████████████████████████████| 1/1 [00:00<00:00, 19.32it/s, Train Loss=1.5673]\n"
     ]
    },
    {
     "name": "stdout",
     "output_type": "stream",
     "text": [
      "Epoch [78/200] Train Loss: 1.5673 | Val Loss: 0.1390 | Time: 0.06s\n",
      "OK Model terbaik disimpan.\n"
     ]
    },
    {
     "name": "stderr",
     "output_type": "stream",
     "text": [
      "Epoch 79/200 [Train]: 100%|███████████████████████████████████████████| 1/1 [00:00<00:00, 18.34it/s, Train Loss=1.5550]\n"
     ]
    },
    {
     "name": "stdout",
     "output_type": "stream",
     "text": [
      "Epoch [79/200] Train Loss: 1.5550 | Val Loss: 0.1281 | Time: 0.07s\n",
      "OK Model terbaik disimpan.\n"
     ]
    },
    {
     "name": "stderr",
     "output_type": "stream",
     "text": [
      "Epoch 80/200 [Train]: 100%|███████████████████████████████████████████| 1/1 [00:00<00:00, 16.35it/s, Train Loss=1.5435]\n"
     ]
    },
    {
     "name": "stdout",
     "output_type": "stream",
     "text": [
      "Epoch [80/200] Train Loss: 1.5435 | Val Loss: 0.1170 | Time: 0.06s\n",
      "OK Model terbaik disimpan.\n"
     ]
    },
    {
     "name": "stderr",
     "output_type": "stream",
     "text": [
      "Epoch 81/200 [Train]: 100%|███████████████████████████████████████████| 1/1 [00:00<00:00, 15.63it/s, Train Loss=1.5328]\n"
     ]
    },
    {
     "name": "stdout",
     "output_type": "stream",
     "text": [
      "Epoch [81/200] Train Loss: 1.5328 | Val Loss: 0.1071 | Time: 0.07s\n",
      "OK Model terbaik disimpan.\n"
     ]
    },
    {
     "name": "stderr",
     "output_type": "stream",
     "text": [
      "Epoch 82/200 [Train]: 100%|███████████████████████████████████████████| 1/1 [00:00<00:00, 21.33it/s, Train Loss=1.5228]\n"
     ]
    },
    {
     "name": "stdout",
     "output_type": "stream",
     "text": [
      "Epoch [82/200] Train Loss: 1.5228 | Val Loss: 0.0977 | Time: 0.06s\n",
      "OK Model terbaik disimpan.\n"
     ]
    },
    {
     "name": "stderr",
     "output_type": "stream",
     "text": [
      "Epoch 83/200 [Train]: 100%|███████████████████████████████████████████| 1/1 [00:00<00:00, 18.43it/s, Train Loss=1.5136]\n"
     ]
    },
    {
     "name": "stdout",
     "output_type": "stream",
     "text": [
      "Epoch [83/200] Train Loss: 1.5136 | Val Loss: 0.0893 | Time: 0.06s\n",
      "OK Model terbaik disimpan.\n"
     ]
    },
    {
     "name": "stderr",
     "output_type": "stream",
     "text": [
      "Epoch 84/200 [Train]: 100%|███████████████████████████████████████████| 1/1 [00:00<00:00, 16.27it/s, Train Loss=1.5052]\n"
     ]
    },
    {
     "name": "stdout",
     "output_type": "stream",
     "text": [
      "Epoch [84/200] Train Loss: 1.5052 | Val Loss: 0.0817 | Time: 0.07s\n",
      "OK Model terbaik disimpan.\n"
     ]
    },
    {
     "name": "stderr",
     "output_type": "stream",
     "text": [
      "Epoch 85/200 [Train]: 100%|███████████████████████████████████████████| 1/1 [00:00<00:00, 16.64it/s, Train Loss=1.4974]\n"
     ]
    },
    {
     "name": "stdout",
     "output_type": "stream",
     "text": [
      "Epoch [85/200] Train Loss: 1.4974 | Val Loss: 0.0747 | Time: 0.07s\n",
      "OK Model terbaik disimpan.\n"
     ]
    },
    {
     "name": "stderr",
     "output_type": "stream",
     "text": [
      "Epoch 86/200 [Train]: 100%|███████████████████████████████████████████| 1/1 [00:00<00:00, 15.96it/s, Train Loss=1.4904]\n"
     ]
    },
    {
     "name": "stdout",
     "output_type": "stream",
     "text": [
      "Epoch [86/200] Train Loss: 1.4904 | Val Loss: 0.0679 | Time: 0.07s\n",
      "OK Model terbaik disimpan.\n"
     ]
    },
    {
     "name": "stderr",
     "output_type": "stream",
     "text": [
      "Epoch 87/200 [Train]: 100%|███████████████████████████████████████████| 1/1 [00:00<00:00, 15.99it/s, Train Loss=1.4840]\n"
     ]
    },
    {
     "name": "stdout",
     "output_type": "stream",
     "text": [
      "Epoch [87/200] Train Loss: 1.4840 | Val Loss: 0.0614 | Time: 0.07s\n",
      "OK Model terbaik disimpan.\n"
     ]
    },
    {
     "name": "stderr",
     "output_type": "stream",
     "text": [
      "Epoch 88/200 [Train]: 100%|███████████████████████████████████████████| 1/1 [00:00<00:00, 15.86it/s, Train Loss=1.4781]\n"
     ]
    },
    {
     "name": "stdout",
     "output_type": "stream",
     "text": [
      "Epoch [88/200] Train Loss: 1.4781 | Val Loss: 0.0558 | Time: 0.06s\n",
      "OK Model terbaik disimpan.\n"
     ]
    },
    {
     "name": "stderr",
     "output_type": "stream",
     "text": [
      "Epoch 89/200 [Train]: 100%|███████████████████████████████████████████| 1/1 [00:00<00:00, 17.78it/s, Train Loss=1.4729]\n"
     ]
    },
    {
     "name": "stdout",
     "output_type": "stream",
     "text": [
      "Epoch [89/200] Train Loss: 1.4729 | Val Loss: 0.0508 | Time: 0.06s\n",
      "OK Model terbaik disimpan.\n"
     ]
    },
    {
     "name": "stderr",
     "output_type": "stream",
     "text": [
      "Epoch 90/200 [Train]: 100%|███████████████████████████████████████████| 1/1 [00:00<00:00, 17.73it/s, Train Loss=1.4681]\n"
     ]
    },
    {
     "name": "stdout",
     "output_type": "stream",
     "text": [
      "Epoch [90/200] Train Loss: 1.4681 | Val Loss: 0.0466 | Time: 0.07s\n",
      "OK Model terbaik disimpan.\n"
     ]
    },
    {
     "name": "stderr",
     "output_type": "stream",
     "text": [
      "Epoch 91/200 [Train]: 100%|███████████████████████████████████████████| 1/1 [00:00<00:00, 18.32it/s, Train Loss=1.4639]\n"
     ]
    },
    {
     "name": "stdout",
     "output_type": "stream",
     "text": [
      "Epoch [91/200] Train Loss: 1.4639 | Val Loss: 0.0428 | Time: 0.06s\n",
      "OK Model terbaik disimpan.\n"
     ]
    },
    {
     "name": "stderr",
     "output_type": "stream",
     "text": [
      "Epoch 92/200 [Train]: 100%|███████████████████████████████████████████| 1/1 [00:00<00:00, 17.79it/s, Train Loss=1.4600]\n"
     ]
    },
    {
     "name": "stdout",
     "output_type": "stream",
     "text": [
      "Epoch [92/200] Train Loss: 1.4600 | Val Loss: 0.0390 | Time: 0.07s\n",
      "OK Model terbaik disimpan.\n"
     ]
    },
    {
     "name": "stderr",
     "output_type": "stream",
     "text": [
      "Epoch 93/200 [Train]: 100%|███████████████████████████████████████████| 1/1 [00:00<00:00, 21.48it/s, Train Loss=1.4566]\n"
     ]
    },
    {
     "name": "stdout",
     "output_type": "stream",
     "text": [
      "Epoch [93/200] Train Loss: 1.4566 | Val Loss: 0.0360 | Time: 0.06s\n",
      "OK Model terbaik disimpan.\n"
     ]
    },
    {
     "name": "stderr",
     "output_type": "stream",
     "text": [
      "Epoch 94/200 [Train]: 100%|███████████████████████████████████████████| 1/1 [00:00<00:00, 17.30it/s, Train Loss=1.4535]\n"
     ]
    },
    {
     "name": "stdout",
     "output_type": "stream",
     "text": [
      "Epoch [94/200] Train Loss: 1.4535 | Val Loss: 0.0330 | Time: 0.07s\n",
      "OK Model terbaik disimpan.\n"
     ]
    },
    {
     "name": "stderr",
     "output_type": "stream",
     "text": [
      "Epoch 95/200 [Train]: 100%|███████████████████████████████████████████| 1/1 [00:00<00:00, 17.27it/s, Train Loss=1.4507]\n"
     ]
    },
    {
     "name": "stdout",
     "output_type": "stream",
     "text": [
      "Epoch [95/200] Train Loss: 1.4507 | Val Loss: 0.0305 | Time: 0.07s\n",
      "OK Model terbaik disimpan.\n"
     ]
    },
    {
     "name": "stderr",
     "output_type": "stream",
     "text": [
      "Epoch 96/200 [Train]: 100%|███████████████████████████████████████████| 1/1 [00:00<00:00, 20.71it/s, Train Loss=1.4482]\n"
     ]
    },
    {
     "name": "stdout",
     "output_type": "stream",
     "text": [
      "Epoch [96/200] Train Loss: 1.4482 | Val Loss: 0.0282 | Time: 0.08s\n",
      "OK Model terbaik disimpan.\n"
     ]
    },
    {
     "name": "stderr",
     "output_type": "stream",
     "text": [
      "Epoch 97/200 [Train]: 100%|███████████████████████████████████████████| 1/1 [00:00<00:00, 16.25it/s, Train Loss=1.4459]\n"
     ]
    },
    {
     "name": "stdout",
     "output_type": "stream",
     "text": [
      "Epoch [97/200] Train Loss: 1.4459 | Val Loss: 0.0259 | Time: 0.07s\n",
      "OK Model terbaik disimpan.\n"
     ]
    },
    {
     "name": "stderr",
     "output_type": "stream",
     "text": [
      "Epoch 98/200 [Train]: 100%|███████████████████████████████████████████| 1/1 [00:00<00:00, 20.74it/s, Train Loss=1.4439]\n"
     ]
    },
    {
     "name": "stdout",
     "output_type": "stream",
     "text": [
      "Epoch [98/200] Train Loss: 1.4439 | Val Loss: 0.0241 | Time: 0.07s\n",
      "OK Model terbaik disimpan.\n"
     ]
    },
    {
     "name": "stderr",
     "output_type": "stream",
     "text": [
      "Epoch 99/200 [Train]: 100%|███████████████████████████████████████████| 1/1 [00:00<00:00, 16.25it/s, Train Loss=1.4421]\n"
     ]
    },
    {
     "name": "stdout",
     "output_type": "stream",
     "text": [
      "Epoch [99/200] Train Loss: 1.4421 | Val Loss: 0.0228 | Time: 0.07s\n",
      "OK Model terbaik disimpan.\n"
     ]
    },
    {
     "name": "stderr",
     "output_type": "stream",
     "text": [
      "Epoch 100/200 [Train]: 100%|██████████████████████████████████████████| 1/1 [00:00<00:00, 15.74it/s, Train Loss=1.4405]\n"
     ]
    },
    {
     "name": "stdout",
     "output_type": "stream",
     "text": [
      "Epoch [100/200] Train Loss: 1.4405 | Val Loss: 0.0213 | Time: 0.09s\n",
      "OK Model terbaik disimpan.\n"
     ]
    },
    {
     "name": "stderr",
     "output_type": "stream",
     "text": [
      "Epoch 101/200 [Train]: 100%|██████████████████████████████████████████| 1/1 [00:00<00:00, 15.85it/s, Train Loss=1.4390]\n"
     ]
    },
    {
     "name": "stdout",
     "output_type": "stream",
     "text": [
      "Epoch [101/200] Train Loss: 1.4390 | Val Loss: 0.0199 | Time: 0.07s\n",
      "OK Model terbaik disimpan.\n"
     ]
    },
    {
     "name": "stderr",
     "output_type": "stream",
     "text": [
      "Epoch 102/200 [Train]: 100%|██████████████████████████████████████████| 1/1 [00:00<00:00, 21.23it/s, Train Loss=1.4377]\n"
     ]
    },
    {
     "name": "stdout",
     "output_type": "stream",
     "text": [
      "Epoch [102/200] Train Loss: 1.4377 | Val Loss: 0.0187 | Time: 0.05s\n",
      "OK Model terbaik disimpan.\n"
     ]
    },
    {
     "name": "stderr",
     "output_type": "stream",
     "text": [
      "Epoch 103/200 [Train]: 100%|██████████████████████████████████████████| 1/1 [00:00<00:00, 23.52it/s, Train Loss=1.4365]\n"
     ]
    },
    {
     "name": "stdout",
     "output_type": "stream",
     "text": [
      "Epoch [103/200] Train Loss: 1.4365 | Val Loss: 0.0174 | Time: 0.04s\n",
      "OK Model terbaik disimpan.\n"
     ]
    },
    {
     "name": "stderr",
     "output_type": "stream",
     "text": [
      "Epoch 104/200 [Train]: 100%|██████████████████████████████████████████| 1/1 [00:00<00:00, 32.63it/s, Train Loss=1.4354]\n"
     ]
    },
    {
     "name": "stdout",
     "output_type": "stream",
     "text": [
      "Epoch [104/200] Train Loss: 1.4354 | Val Loss: 0.0165 | Time: 0.05s\n",
      "OK Model terbaik disimpan.\n"
     ]
    },
    {
     "name": "stderr",
     "output_type": "stream",
     "text": [
      "Epoch 105/200 [Train]: 100%|██████████████████████████████████████████| 1/1 [00:00<00:00, 21.32it/s, Train Loss=1.4344]"
     ]
    },
    {
     "name": "stdout",
     "output_type": "stream",
     "text": [
      "Epoch [105/200] Train Loss: 1.4344 | Val Loss: 0.0156 | Time: 0.05s"
     ]
    },
    {
     "name": "stderr",
     "output_type": "stream",
     "text": [
      "\n"
     ]
    },
    {
     "name": "stdout",
     "output_type": "stream",
     "text": [
      "\n",
      "OK Model terbaik disimpan.\n"
     ]
    },
    {
     "name": "stderr",
     "output_type": "stream",
     "text": [
      "Epoch 106/200 [Train]: 100%|██████████████████████████████████████████| 1/1 [00:00<00:00, 26.31it/s, Train Loss=1.4335]"
     ]
    },
    {
     "name": "stdout",
     "output_type": "stream",
     "text": [
      "Epoch [106/200] Train Loss: 1.4335 | Val Loss: 0.0149 | Time: 0.05s\n"
     ]
    },
    {
     "name": "stderr",
     "output_type": "stream",
     "text": [
      "\n"
     ]
    },
    {
     "name": "stdout",
     "output_type": "stream",
     "text": [
      "OK Model terbaik disimpan.\n"
     ]
    },
    {
     "name": "stderr",
     "output_type": "stream",
     "text": [
      "Epoch 107/200 [Train]: 100%|██████████████████████████████████████████| 1/1 [00:00<00:00, 20.94it/s, Train Loss=1.4327]\n"
     ]
    },
    {
     "name": "stdout",
     "output_type": "stream",
     "text": [
      "Epoch [107/200] Train Loss: 1.4327 | Val Loss: 0.0140 | Time: 0.05s\n",
      "OK Model terbaik disimpan.\n"
     ]
    },
    {
     "name": "stderr",
     "output_type": "stream",
     "text": [
      "Epoch 108/200 [Train]: 100%|██████████████████████████████████████████| 1/1 [00:00<00:00, 34.06it/s, Train Loss=1.4319]\n"
     ]
    },
    {
     "name": "stdout",
     "output_type": "stream",
     "text": [
      "Epoch [108/200] Train Loss: 1.4319 | Val Loss: 0.0133 | Time: 0.06s\n",
      "OK Model terbaik disimpan.\n"
     ]
    },
    {
     "name": "stderr",
     "output_type": "stream",
     "text": [
      "Epoch 109/200 [Train]: 100%|██████████████████████████████████████████| 1/1 [00:00<00:00, 28.36it/s, Train Loss=1.4312]\n"
     ]
    },
    {
     "name": "stdout",
     "output_type": "stream",
     "text": [
      "Epoch [109/200] Train Loss: 1.4312 | Val Loss: 0.0127 | Time: 0.05s\n",
      "OK Model terbaik disimpan.\n"
     ]
    },
    {
     "name": "stderr",
     "output_type": "stream",
     "text": [
      "Epoch 110/200 [Train]: 100%|██████████████████████████████████████████| 1/1 [00:00<00:00, 29.41it/s, Train Loss=1.4306]"
     ]
    },
    {
     "name": "stdout",
     "output_type": "stream",
     "text": [
      "Epoch [110/200] Train Loss: 1.4306 | Val Loss: 0.0123 | Time: 0.04s\n"
     ]
    },
    {
     "name": "stderr",
     "output_type": "stream",
     "text": [
      "\n"
     ]
    },
    {
     "name": "stdout",
     "output_type": "stream",
     "text": [
      "OK Model terbaik disimpan.\n"
     ]
    },
    {
     "name": "stderr",
     "output_type": "stream",
     "text": [
      "Epoch 111/200 [Train]: 100%|██████████████████████████████████████████| 1/1 [00:00<00:00, 18.75it/s, Train Loss=1.4300]"
     ]
    },
    {
     "name": "stdout",
     "output_type": "stream",
     "text": [
      "Epoch [111/200] Train Loss: 1.4300 | Val Loss: 0.0117 | Time: 0.06s\n"
     ]
    },
    {
     "name": "stderr",
     "output_type": "stream",
     "text": [
      "\n"
     ]
    },
    {
     "name": "stdout",
     "output_type": "stream",
     "text": [
      "OK Model terbaik disimpan.\n"
     ]
    },
    {
     "name": "stderr",
     "output_type": "stream",
     "text": [
      "Epoch 112/200 [Train]: 100%|██████████████████████████████████████████| 1/1 [00:00<00:00, 18.04it/s, Train Loss=1.4295]"
     ]
    },
    {
     "name": "stdout",
     "output_type": "stream",
     "text": [
      "Epoch [112/200] Train Loss: 1.4295 | Val Loss: 0.0112 | Time: 0.07s\n"
     ]
    },
    {
     "name": "stderr",
     "output_type": "stream",
     "text": [
      "\n"
     ]
    },
    {
     "name": "stdout",
     "output_type": "stream",
     "text": [
      "OK Model terbaik disimpan.\n"
     ]
    },
    {
     "name": "stderr",
     "output_type": "stream",
     "text": [
      "Epoch 113/200 [Train]: 100%|██████████████████████████████████████████| 1/1 [00:00<00:00, 15.68it/s, Train Loss=1.4290]"
     ]
    },
    {
     "name": "stdout",
     "output_type": "stream",
     "text": [
      "Epoch [113/200] Train Loss: 1.4290 | Val Loss: 0.0107 | Time: 0.07s\n"
     ]
    },
    {
     "name": "stderr",
     "output_type": "stream",
     "text": [
      "\n"
     ]
    },
    {
     "name": "stdout",
     "output_type": "stream",
     "text": [
      "OK Model terbaik disimpan.\n"
     ]
    },
    {
     "name": "stderr",
     "output_type": "stream",
     "text": [
      "Epoch 114/200 [Train]: 100%|██████████████████████████████████████████| 1/1 [00:00<00:00, 16.19it/s, Train Loss=1.4286]"
     ]
    },
    {
     "name": "stdout",
     "output_type": "stream",
     "text": [
      "Epoch [114/200] Train Loss: 1.4286 | Val Loss: 0.0103 | Time: 0.07s\n"
     ]
    },
    {
     "name": "stderr",
     "output_type": "stream",
     "text": [
      "\n"
     ]
    },
    {
     "name": "stdout",
     "output_type": "stream",
     "text": [
      "OK Model terbaik disimpan.\n"
     ]
    },
    {
     "name": "stderr",
     "output_type": "stream",
     "text": [
      "Epoch 115/200 [Train]: 100%|██████████████████████████████████████████| 1/1 [00:00<00:00, 14.97it/s, Train Loss=1.4282]"
     ]
    },
    {
     "name": "stdout",
     "output_type": "stream",
     "text": [
      "Epoch [115/200] Train Loss: 1.4282 | Val Loss: 0.0098 | Time: 0.08s\n"
     ]
    },
    {
     "name": "stderr",
     "output_type": "stream",
     "text": [
      "\n"
     ]
    },
    {
     "name": "stdout",
     "output_type": "stream",
     "text": [
      "OK Model terbaik disimpan.\n"
     ]
    },
    {
     "name": "stderr",
     "output_type": "stream",
     "text": [
      "Epoch 116/200 [Train]: 100%|██████████████████████████████████████████| 1/1 [00:00<00:00, 22.49it/s, Train Loss=1.4278]"
     ]
    },
    {
     "name": "stdout",
     "output_type": "stream",
     "text": [
      "Epoch [116/200] Train Loss: 1.4278 | Val Loss: 0.0096 | Time: 0.07s\n"
     ]
    },
    {
     "name": "stderr",
     "output_type": "stream",
     "text": [
      "\n"
     ]
    },
    {
     "name": "stdout",
     "output_type": "stream",
     "text": [
      "OK Model terbaik disimpan.\n"
     ]
    },
    {
     "name": "stderr",
     "output_type": "stream",
     "text": [
      "Epoch 117/200 [Train]: 100%|██████████████████████████████████████████| 1/1 [00:00<00:00, 15.31it/s, Train Loss=1.4274]"
     ]
    },
    {
     "name": "stdout",
     "output_type": "stream",
     "text": [
      "Epoch [117/200] Train Loss: 1.4274 | Val Loss: 0.0092 | Time: 0.07s\n"
     ]
    },
    {
     "name": "stderr",
     "output_type": "stream",
     "text": [
      "\n"
     ]
    },
    {
     "name": "stdout",
     "output_type": "stream",
     "text": [
      "OK Model terbaik disimpan.\n"
     ]
    },
    {
     "name": "stderr",
     "output_type": "stream",
     "text": [
      "Epoch 118/200 [Train]: 100%|██████████████████████████████████████████| 1/1 [00:00<00:00, 15.11it/s, Train Loss=1.4271]"
     ]
    },
    {
     "name": "stdout",
     "output_type": "stream",
     "text": [
      "Epoch [118/200] Train Loss: 1.4271 | Val Loss: 0.0090 | Time: 0.08s\n"
     ]
    },
    {
     "name": "stderr",
     "output_type": "stream",
     "text": [
      "\n"
     ]
    },
    {
     "name": "stdout",
     "output_type": "stream",
     "text": [
      "OK Model terbaik disimpan.\n"
     ]
    },
    {
     "name": "stderr",
     "output_type": "stream",
     "text": [
      "Epoch 119/200 [Train]: 100%|██████████████████████████████████████████| 1/1 [00:00<00:00, 17.74it/s, Train Loss=1.4268]"
     ]
    },
    {
     "name": "stdout",
     "output_type": "stream",
     "text": [
      "Epoch [119/200] Train Loss: 1.4268 | Val Loss: 0.0087 | Time: 0.06s\n"
     ]
    },
    {
     "name": "stderr",
     "output_type": "stream",
     "text": [
      "\n"
     ]
    },
    {
     "name": "stdout",
     "output_type": "stream",
     "text": [
      "OK Model terbaik disimpan.\n"
     ]
    },
    {
     "name": "stderr",
     "output_type": "stream",
     "text": [
      "Epoch 120/200 [Train]: 100%|██████████████████████████████████████████| 1/1 [00:00<00:00, 16.34it/s, Train Loss=1.4265]"
     ]
    },
    {
     "name": "stdout",
     "output_type": "stream",
     "text": [
      "Epoch [120/200] Train Loss: 1.4265 | Val Loss: 0.0084 | Time: 0.07s\n"
     ]
    },
    {
     "name": "stderr",
     "output_type": "stream",
     "text": [
      "\n"
     ]
    },
    {
     "name": "stdout",
     "output_type": "stream",
     "text": [
      "OK Model terbaik disimpan.\n"
     ]
    },
    {
     "name": "stderr",
     "output_type": "stream",
     "text": [
      "Epoch 121/200 [Train]: 100%|██████████████████████████████████████████| 1/1 [00:00<00:00, 15.00it/s, Train Loss=1.4262]"
     ]
    },
    {
     "name": "stdout",
     "output_type": "stream",
     "text": [
      "Epoch [121/200] Train Loss: 1.4262 | Val Loss: 0.0081 | Time: 0.07s\n"
     ]
    },
    {
     "name": "stderr",
     "output_type": "stream",
     "text": [
      "\n"
     ]
    },
    {
     "name": "stdout",
     "output_type": "stream",
     "text": [
      "OK Model terbaik disimpan.\n"
     ]
    },
    {
     "name": "stderr",
     "output_type": "stream",
     "text": [
      "Epoch 122/200 [Train]: 100%|██████████████████████████████████████████| 1/1 [00:00<00:00, 15.86it/s, Train Loss=1.4260]"
     ]
    },
    {
     "name": "stdout",
     "output_type": "stream",
     "text": [
      "Epoch [122/200] Train Loss: 1.4260 | Val Loss: 0.0078 | Time: 0.07s\n"
     ]
    },
    {
     "name": "stderr",
     "output_type": "stream",
     "text": [
      "\n"
     ]
    },
    {
     "name": "stdout",
     "output_type": "stream",
     "text": [
      "OK Model terbaik disimpan.\n"
     ]
    },
    {
     "name": "stderr",
     "output_type": "stream",
     "text": [
      "Epoch 123/200 [Train]: 100%|██████████████████████████████████████████| 1/1 [00:00<00:00, 15.56it/s, Train Loss=1.4257]"
     ]
    },
    {
     "name": "stdout",
     "output_type": "stream",
     "text": [
      "Epoch [123/200] Train Loss: 1.4257 | Val Loss: 0.0076 | Time: 0.07s\n"
     ]
    },
    {
     "name": "stderr",
     "output_type": "stream",
     "text": [
      "\n"
     ]
    },
    {
     "name": "stdout",
     "output_type": "stream",
     "text": [
      "OK Model terbaik disimpan.\n"
     ]
    },
    {
     "name": "stderr",
     "output_type": "stream",
     "text": [
      "Epoch 124/200 [Train]: 100%|██████████████████████████████████████████| 1/1 [00:00<00:00, 16.54it/s, Train Loss=1.4255]\n"
     ]
    },
    {
     "name": "stdout",
     "output_type": "stream",
     "text": [
      "Epoch [124/200] Train Loss: 1.4255 | Val Loss: 0.0073 | Time: 0.07s\n",
      "OK Model terbaik disimpan.\n"
     ]
    },
    {
     "name": "stderr",
     "output_type": "stream",
     "text": [
      "Epoch 125/200 [Train]: 100%|██████████████████████████████████████████| 1/1 [00:00<00:00, 16.20it/s, Train Loss=1.4253]"
     ]
    },
    {
     "name": "stdout",
     "output_type": "stream",
     "text": [
      "Epoch [125/200] Train Loss: 1.4253 | Val Loss: 0.0071 | Time: 0.07s\n"
     ]
    },
    {
     "name": "stderr",
     "output_type": "stream",
     "text": [
      "\n"
     ]
    },
    {
     "name": "stdout",
     "output_type": "stream",
     "text": [
      "OK Model terbaik disimpan.\n"
     ]
    },
    {
     "name": "stderr",
     "output_type": "stream",
     "text": [
      "Epoch 126/200 [Train]: 100%|██████████████████████████████████████████| 1/1 [00:00<00:00, 15.84it/s, Train Loss=1.4251]"
     ]
    },
    {
     "name": "stdout",
     "output_type": "stream",
     "text": [
      "Epoch [126/200] Train Loss: 1.4251 | Val Loss: 0.0070 | Time: 0.07s\n"
     ]
    },
    {
     "name": "stderr",
     "output_type": "stream",
     "text": [
      "\n"
     ]
    },
    {
     "name": "stdout",
     "output_type": "stream",
     "text": [
      "OK Model terbaik disimpan.\n"
     ]
    },
    {
     "name": "stderr",
     "output_type": "stream",
     "text": [
      "Epoch 127/200 [Train]: 100%|██████████████████████████████████████████| 1/1 [00:00<00:00, 17.58it/s, Train Loss=1.4249]"
     ]
    },
    {
     "name": "stdout",
     "output_type": "stream",
     "text": [
      "Epoch [127/200] Train Loss: 1.4249 | Val Loss: 0.0067 | Time: 0.07s\n"
     ]
    },
    {
     "name": "stderr",
     "output_type": "stream",
     "text": [
      "\n"
     ]
    },
    {
     "name": "stdout",
     "output_type": "stream",
     "text": [
      "OK Model terbaik disimpan.\n"
     ]
    },
    {
     "name": "stderr",
     "output_type": "stream",
     "text": [
      "Epoch 128/200 [Train]: 100%|██████████████████████████████████████████| 1/1 [00:00<00:00, 16.35it/s, Train Loss=1.4247]"
     ]
    },
    {
     "name": "stdout",
     "output_type": "stream",
     "text": [
      "Epoch [128/200] Train Loss: 1.4247 | Val Loss: 0.0066 | Time: 0.07s\n"
     ]
    },
    {
     "name": "stderr",
     "output_type": "stream",
     "text": [
      "\n"
     ]
    },
    {
     "name": "stdout",
     "output_type": "stream",
     "text": [
      "OK Model terbaik disimpan.\n"
     ]
    },
    {
     "name": "stderr",
     "output_type": "stream",
     "text": [
      "Epoch 129/200 [Train]: 100%|██████████████████████████████████████████| 1/1 [00:00<00:00, 16.41it/s, Train Loss=1.4246]"
     ]
    },
    {
     "name": "stdout",
     "output_type": "stream",
     "text": [
      "Epoch [129/200] Train Loss: 1.4246 | Val Loss: 0.0064 | Time: 0.09s\n"
     ]
    },
    {
     "name": "stderr",
     "output_type": "stream",
     "text": [
      "\n"
     ]
    },
    {
     "name": "stdout",
     "output_type": "stream",
     "text": [
      "OK Model terbaik disimpan.\n"
     ]
    },
    {
     "name": "stderr",
     "output_type": "stream",
     "text": [
      "Epoch 130/200 [Train]: 100%|██████████████████████████████████████████| 1/1 [00:00<00:00, 17.62it/s, Train Loss=1.4244]"
     ]
    },
    {
     "name": "stdout",
     "output_type": "stream",
     "text": [
      "Epoch [130/200] Train Loss: 1.4244 | Val Loss: 0.0063 | Time: 0.07s\n"
     ]
    },
    {
     "name": "stderr",
     "output_type": "stream",
     "text": [
      "\n"
     ]
    },
    {
     "name": "stdout",
     "output_type": "stream",
     "text": [
      "OK Model terbaik disimpan.\n"
     ]
    },
    {
     "name": "stderr",
     "output_type": "stream",
     "text": [
      "Epoch 131/200 [Train]: 100%|██████████████████████████████████████████| 1/1 [00:00<00:00, 18.36it/s, Train Loss=1.4243]"
     ]
    },
    {
     "name": "stdout",
     "output_type": "stream",
     "text": [
      "Epoch [131/200] Train Loss: 1.4243 | Val Loss: 0.0060 | Time: 0.06s\n"
     ]
    },
    {
     "name": "stderr",
     "output_type": "stream",
     "text": [
      "\n"
     ]
    },
    {
     "name": "stdout",
     "output_type": "stream",
     "text": [
      "OK Model terbaik disimpan.\n"
     ]
    },
    {
     "name": "stderr",
     "output_type": "stream",
     "text": [
      "Epoch 132/200 [Train]: 100%|██████████████████████████████████████████| 1/1 [00:00<00:00, 15.96it/s, Train Loss=1.4241]"
     ]
    },
    {
     "name": "stdout",
     "output_type": "stream",
     "text": [
      "Epoch [132/200] Train Loss: 1.4241 | Val Loss: 0.0060 | Time: 0.06s\n"
     ]
    },
    {
     "name": "stderr",
     "output_type": "stream",
     "text": [
      "\n"
     ]
    },
    {
     "name": "stdout",
     "output_type": "stream",
     "text": [
      "OK Model terbaik disimpan.\n"
     ]
    },
    {
     "name": "stderr",
     "output_type": "stream",
     "text": [
      "Epoch 133/200 [Train]: 100%|██████████████████████████████████████████| 1/1 [00:00<00:00, 16.21it/s, Train Loss=1.4240]\n"
     ]
    },
    {
     "name": "stdout",
     "output_type": "stream",
     "text": [
      "Epoch [133/200] Train Loss: 1.4240 | Val Loss: 0.0058 | Time: 0.07s\n",
      "OK Model terbaik disimpan.\n"
     ]
    },
    {
     "name": "stderr",
     "output_type": "stream",
     "text": [
      "Epoch 134/200 [Train]: 100%|██████████████████████████████████████████| 1/1 [00:00<00:00, 18.97it/s, Train Loss=1.4238]\n"
     ]
    },
    {
     "name": "stdout",
     "output_type": "stream",
     "text": [
      "Epoch [134/200] Train Loss: 1.4238 | Val Loss: 0.0057 | Time: 0.06s\n",
      "OK Model terbaik disimpan.\n"
     ]
    },
    {
     "name": "stderr",
     "output_type": "stream",
     "text": [
      "Epoch 135/200 [Train]: 100%|██████████████████████████████████████████| 1/1 [00:00<00:00, 15.85it/s, Train Loss=1.4237]\n"
     ]
    },
    {
     "name": "stdout",
     "output_type": "stream",
     "text": [
      "Epoch [135/200] Train Loss: 1.4237 | Val Loss: 0.0055 | Time: 0.07s\n",
      "OK Model terbaik disimpan.\n"
     ]
    },
    {
     "name": "stderr",
     "output_type": "stream",
     "text": [
      "Epoch 136/200 [Train]: 100%|██████████████████████████████████████████| 1/1 [00:00<00:00, 14.95it/s, Train Loss=1.4236]\n"
     ]
    },
    {
     "name": "stdout",
     "output_type": "stream",
     "text": [
      "Epoch [136/200] Train Loss: 1.4236 | Val Loss: 0.0055 | Time: 0.08s\n",
      "OK Model terbaik disimpan.\n"
     ]
    },
    {
     "name": "stderr",
     "output_type": "stream",
     "text": [
      "Epoch 137/200 [Train]: 100%|██████████████████████████████████████████| 1/1 [00:00<00:00, 15.25it/s, Train Loss=1.4235]\n"
     ]
    },
    {
     "name": "stdout",
     "output_type": "stream",
     "text": [
      "Epoch [137/200] Train Loss: 1.4235 | Val Loss: 0.0054 | Time: 0.07s\n",
      "OK Model terbaik disimpan.\n"
     ]
    },
    {
     "name": "stderr",
     "output_type": "stream",
     "text": [
      "Epoch 138/200 [Train]: 100%|██████████████████████████████████████████| 1/1 [00:00<00:00, 19.75it/s, Train Loss=1.4234]"
     ]
    },
    {
     "name": "stdout",
     "output_type": "stream",
     "text": [
      "Epoch [138/200] Train Loss: 1.4234 | Val Loss: 0.0052 | Time: 0.07s\n"
     ]
    },
    {
     "name": "stderr",
     "output_type": "stream",
     "text": [
      "\n"
     ]
    },
    {
     "name": "stdout",
     "output_type": "stream",
     "text": [
      "OK Model terbaik disimpan.\n"
     ]
    },
    {
     "name": "stderr",
     "output_type": "stream",
     "text": [
      "Epoch 139/200 [Train]: 100%|██████████████████████████████████████████| 1/1 [00:00<00:00, 21.26it/s, Train Loss=1.4233]"
     ]
    },
    {
     "name": "stdout",
     "output_type": "stream",
     "text": [
      "Epoch [139/200] Train Loss: 1.4233 | Val Loss: 0.0051 | Time: 0.06s\n"
     ]
    },
    {
     "name": "stderr",
     "output_type": "stream",
     "text": [
      "\n"
     ]
    },
    {
     "name": "stdout",
     "output_type": "stream",
     "text": [
      "OK Model terbaik disimpan.\n"
     ]
    },
    {
     "name": "stderr",
     "output_type": "stream",
     "text": [
      "Epoch 140/200 [Train]: 100%|██████████████████████████████████████████| 1/1 [00:00<00:00, 21.22it/s, Train Loss=1.4232]"
     ]
    },
    {
     "name": "stdout",
     "output_type": "stream",
     "text": [
      "Epoch [140/200] Train Loss: 1.4232 | Val Loss: 0.0050 | Time: 0.07s\n"
     ]
    },
    {
     "name": "stderr",
     "output_type": "stream",
     "text": [
      "\n"
     ]
    },
    {
     "name": "stdout",
     "output_type": "stream",
     "text": [
      "OK Model terbaik disimpan.\n"
     ]
    },
    {
     "name": "stderr",
     "output_type": "stream",
     "text": [
      "Epoch 141/200 [Train]: 100%|██████████████████████████████████████████| 1/1 [00:00<00:00, 15.95it/s, Train Loss=1.4231]"
     ]
    },
    {
     "name": "stdout",
     "output_type": "stream",
     "text": [
      "Epoch [141/200] Train Loss: 1.4231 | Val Loss: 0.0049 | Time: 0.08s\n"
     ]
    },
    {
     "name": "stderr",
     "output_type": "stream",
     "text": [
      "\n"
     ]
    },
    {
     "name": "stdout",
     "output_type": "stream",
     "text": [
      "OK Model terbaik disimpan.\n"
     ]
    },
    {
     "name": "stderr",
     "output_type": "stream",
     "text": [
      "Epoch 142/200 [Train]: 100%|██████████████████████████████████████████| 1/1 [00:00<00:00, 13.81it/s, Train Loss=1.4230]"
     ]
    },
    {
     "name": "stdout",
     "output_type": "stream",
     "text": [
      "Epoch [142/200] Train Loss: 1.4230 | Val Loss: 0.0049 | Time: 0.08s\n"
     ]
    },
    {
     "name": "stderr",
     "output_type": "stream",
     "text": [
      "\n"
     ]
    },
    {
     "name": "stdout",
     "output_type": "stream",
     "text": [
      "OK Model terbaik disimpan.\n"
     ]
    },
    {
     "name": "stderr",
     "output_type": "stream",
     "text": [
      "Epoch 143/200 [Train]: 100%|██████████████████████████████████████████| 1/1 [00:00<00:00, 14.92it/s, Train Loss=1.4229]"
     ]
    },
    {
     "name": "stdout",
     "output_type": "stream",
     "text": [
      "Epoch [143/200] Train Loss: 1.4229 | Val Loss: 0.0048 | Time: 0.07s\n"
     ]
    },
    {
     "name": "stderr",
     "output_type": "stream",
     "text": [
      "\n"
     ]
    },
    {
     "name": "stdout",
     "output_type": "stream",
     "text": [
      "OK Model terbaik disimpan.\n"
     ]
    },
    {
     "name": "stderr",
     "output_type": "stream",
     "text": [
      "Epoch 144/200 [Train]: 100%|██████████████████████████████████████████| 1/1 [00:00<00:00, 16.59it/s, Train Loss=1.4228]"
     ]
    },
    {
     "name": "stdout",
     "output_type": "stream",
     "text": [
      "Epoch [144/200] Train Loss: 1.4228 | Val Loss: 0.0047 | Time: 0.08s\n"
     ]
    },
    {
     "name": "stderr",
     "output_type": "stream",
     "text": [
      "\n"
     ]
    },
    {
     "name": "stdout",
     "output_type": "stream",
     "text": [
      "OK Model terbaik disimpan.\n"
     ]
    },
    {
     "name": "stderr",
     "output_type": "stream",
     "text": [
      "Epoch 145/200 [Train]: 100%|██████████████████████████████████████████| 1/1 [00:00<00:00, 15.69it/s, Train Loss=1.4227]"
     ]
    },
    {
     "name": "stdout",
     "output_type": "stream",
     "text": [
      "Epoch [145/200] Train Loss: 1.4227 | Val Loss: 0.0046 | Time: 0.07s\n"
     ]
    },
    {
     "name": "stderr",
     "output_type": "stream",
     "text": [
      "\n"
     ]
    },
    {
     "name": "stdout",
     "output_type": "stream",
     "text": [
      "OK Model terbaik disimpan.\n"
     ]
    },
    {
     "name": "stderr",
     "output_type": "stream",
     "text": [
      "Epoch 146/200 [Train]: 100%|██████████████████████████████████████████| 1/1 [00:00<00:00, 21.09it/s, Train Loss=1.4226]\n"
     ]
    },
    {
     "name": "stdout",
     "output_type": "stream",
     "text": [
      "Epoch [146/200] Train Loss: 1.4226 | Val Loss: 0.0046 | Time: 0.08s\n",
      "OK Model terbaik disimpan.\n"
     ]
    },
    {
     "name": "stderr",
     "output_type": "stream",
     "text": [
      "Epoch 147/200 [Train]: 100%|██████████████████████████████████████████| 1/1 [00:00<00:00, 20.69it/s, Train Loss=1.4226]"
     ]
    },
    {
     "name": "stdout",
     "output_type": "stream",
     "text": [
      "Epoch [147/200] Train Loss: 1.4226 | Val Loss: 0.0045 | Time: 0.08s\n"
     ]
    },
    {
     "name": "stderr",
     "output_type": "stream",
     "text": [
      "\n"
     ]
    },
    {
     "name": "stdout",
     "output_type": "stream",
     "text": [
      "OK Model terbaik disimpan.\n"
     ]
    },
    {
     "name": "stderr",
     "output_type": "stream",
     "text": [
      "Epoch 148/200 [Train]: 100%|██████████████████████████████████████████| 1/1 [00:00<00:00, 16.37it/s, Train Loss=1.4225]"
     ]
    },
    {
     "name": "stdout",
     "output_type": "stream",
     "text": [
      "Epoch [148/200] Train Loss: 1.4225 | Val Loss: 0.0044 | Time: 0.07s\n"
     ]
    },
    {
     "name": "stderr",
     "output_type": "stream",
     "text": [
      "\n"
     ]
    },
    {
     "name": "stdout",
     "output_type": "stream",
     "text": [
      "OK Model terbaik disimpan.\n"
     ]
    },
    {
     "name": "stderr",
     "output_type": "stream",
     "text": [
      "Epoch 149/200 [Train]: 100%|██████████████████████████████████████████| 1/1 [00:00<00:00, 16.21it/s, Train Loss=1.4224]"
     ]
    },
    {
     "name": "stdout",
     "output_type": "stream",
     "text": [
      "Epoch [149/200] Train Loss: 1.4224 | Val Loss: 0.0043 | Time: 0.07s\n"
     ]
    },
    {
     "name": "stderr",
     "output_type": "stream",
     "text": [
      "\n"
     ]
    },
    {
     "name": "stdout",
     "output_type": "stream",
     "text": [
      "OK Model terbaik disimpan.\n"
     ]
    },
    {
     "name": "stderr",
     "output_type": "stream",
     "text": [
      "Epoch 150/200 [Train]: 100%|██████████████████████████████████████████| 1/1 [00:00<00:00, 16.36it/s, Train Loss=1.4223]"
     ]
    },
    {
     "name": "stdout",
     "output_type": "stream",
     "text": [
      "Epoch [150/200] Train Loss: 1.4223 | Val Loss: 0.0042 | Time: 0.06s\n"
     ]
    },
    {
     "name": "stderr",
     "output_type": "stream",
     "text": [
      "\n"
     ]
    },
    {
     "name": "stdout",
     "output_type": "stream",
     "text": [
      "OK Model terbaik disimpan.\n"
     ]
    },
    {
     "name": "stderr",
     "output_type": "stream",
     "text": [
      "Epoch 151/200 [Train]: 100%|██████████████████████████████████████████| 1/1 [00:00<00:00, 14.83it/s, Train Loss=1.4223]"
     ]
    },
    {
     "name": "stdout",
     "output_type": "stream",
     "text": [
      "Epoch [151/200] Train Loss: 1.4223 | Val Loss: 0.0042 | Time: 0.08s\n"
     ]
    },
    {
     "name": "stderr",
     "output_type": "stream",
     "text": [
      "\n"
     ]
    },
    {
     "name": "stdout",
     "output_type": "stream",
     "text": [
      "OK Model terbaik disimpan.\n"
     ]
    },
    {
     "name": "stderr",
     "output_type": "stream",
     "text": [
      "Epoch 152/200 [Train]: 100%|██████████████████████████████████████████| 1/1 [00:00<00:00, 17.46it/s, Train Loss=1.4222]"
     ]
    },
    {
     "name": "stdout",
     "output_type": "stream",
     "text": [
      "Epoch [152/200] Train Loss: 1.4222 | Val Loss: 0.0041 | Time: 0.06s\n"
     ]
    },
    {
     "name": "stderr",
     "output_type": "stream",
     "text": [
      "\n"
     ]
    },
    {
     "name": "stdout",
     "output_type": "stream",
     "text": [
      "OK Model terbaik disimpan.\n"
     ]
    },
    {
     "name": "stderr",
     "output_type": "stream",
     "text": [
      "Epoch 153/200 [Train]: 100%|██████████████████████████████████████████| 1/1 [00:00<00:00, 19.59it/s, Train Loss=1.4221]"
     ]
    },
    {
     "name": "stdout",
     "output_type": "stream",
     "text": [
      "Epoch [153/200] Train Loss: 1.4221 | Val Loss: 0.0041 | Time: 0.07s\n"
     ]
    },
    {
     "name": "stderr",
     "output_type": "stream",
     "text": [
      "\n"
     ]
    },
    {
     "name": "stdout",
     "output_type": "stream",
     "text": [
      "OK Model terbaik disimpan.\n"
     ]
    },
    {
     "name": "stderr",
     "output_type": "stream",
     "text": [
      "Epoch 154/200 [Train]: 100%|██████████████████████████████████████████| 1/1 [00:00<00:00, 15.94it/s, Train Loss=1.4221]"
     ]
    },
    {
     "name": "stdout",
     "output_type": "stream",
     "text": [
      "Epoch [154/200] Train Loss: 1.4221 | Val Loss: 0.0040 | Time: 0.07s\n"
     ]
    },
    {
     "name": "stderr",
     "output_type": "stream",
     "text": [
      "\n"
     ]
    },
    {
     "name": "stdout",
     "output_type": "stream",
     "text": [
      "OK Model terbaik disimpan.\n"
     ]
    },
    {
     "name": "stderr",
     "output_type": "stream",
     "text": [
      "Epoch 155/200 [Train]: 100%|██████████████████████████████████████████| 1/1 [00:00<00:00, 16.05it/s, Train Loss=1.4220]"
     ]
    },
    {
     "name": "stdout",
     "output_type": "stream",
     "text": [
      "Epoch [155/200] Train Loss: 1.4220 | Val Loss: 0.0039 | Time: 0.06s\n"
     ]
    },
    {
     "name": "stderr",
     "output_type": "stream",
     "text": [
      "\n"
     ]
    },
    {
     "name": "stdout",
     "output_type": "stream",
     "text": [
      "OK Model terbaik disimpan.\n"
     ]
    },
    {
     "name": "stderr",
     "output_type": "stream",
     "text": [
      "Epoch 156/200 [Train]: 100%|██████████████████████████████████████████| 1/1 [00:00<00:00, 17.57it/s, Train Loss=1.4219]"
     ]
    },
    {
     "name": "stdout",
     "output_type": "stream",
     "text": [
      "Epoch [156/200] Train Loss: 1.4219 | Val Loss: 0.0039 | Time: 0.07s\n"
     ]
    },
    {
     "name": "stderr",
     "output_type": "stream",
     "text": [
      "\n"
     ]
    },
    {
     "name": "stdout",
     "output_type": "stream",
     "text": [
      "OK Model terbaik disimpan.\n"
     ]
    },
    {
     "name": "stderr",
     "output_type": "stream",
     "text": [
      "Epoch 157/200 [Train]: 100%|██████████████████████████████████████████| 1/1 [00:00<00:00, 16.55it/s, Train Loss=1.4219]"
     ]
    },
    {
     "name": "stdout",
     "output_type": "stream",
     "text": [
      "Epoch [157/200] Train Loss: 1.4219 | Val Loss: 0.0038 | Time: 0.06s\n"
     ]
    },
    {
     "name": "stderr",
     "output_type": "stream",
     "text": [
      "\n"
     ]
    },
    {
     "name": "stdout",
     "output_type": "stream",
     "text": [
      "OK Model terbaik disimpan.\n"
     ]
    },
    {
     "name": "stderr",
     "output_type": "stream",
     "text": [
      "Epoch 158/200 [Train]: 100%|██████████████████████████████████████████| 1/1 [00:00<00:00, 17.90it/s, Train Loss=1.4218]"
     ]
    },
    {
     "name": "stdout",
     "output_type": "stream",
     "text": [
      "Epoch [158/200] Train Loss: 1.4218 | Val Loss: 0.0038 | Time: 0.07s\n"
     ]
    },
    {
     "name": "stderr",
     "output_type": "stream",
     "text": [
      "\n"
     ]
    },
    {
     "name": "stdout",
     "output_type": "stream",
     "text": [
      "OK Model terbaik disimpan.\n"
     ]
    },
    {
     "name": "stderr",
     "output_type": "stream",
     "text": [
      "Epoch 159/200 [Train]: 100%|██████████████████████████████████████████| 1/1 [00:00<00:00, 19.96it/s, Train Loss=1.4218]"
     ]
    },
    {
     "name": "stdout",
     "output_type": "stream",
     "text": [
      "Epoch [159/200] Train Loss: 1.4218 | Val Loss: 0.0037 | Time: 0.06s\n"
     ]
    },
    {
     "name": "stderr",
     "output_type": "stream",
     "text": [
      "\n"
     ]
    },
    {
     "name": "stdout",
     "output_type": "stream",
     "text": [
      "OK Model terbaik disimpan.\n"
     ]
    },
    {
     "name": "stderr",
     "output_type": "stream",
     "text": [
      "Epoch 160/200 [Train]: 100%|██████████████████████████████████████████| 1/1 [00:00<00:00, 26.13it/s, Train Loss=1.4217]"
     ]
    },
    {
     "name": "stdout",
     "output_type": "stream",
     "text": [
      "Epoch [160/200] Train Loss: 1.4217 | Val Loss: 0.0037 | Time: 0.06s\n"
     ]
    },
    {
     "name": "stderr",
     "output_type": "stream",
     "text": [
      "\n"
     ]
    },
    {
     "name": "stdout",
     "output_type": "stream",
     "text": [
      "OK Model terbaik disimpan.\n"
     ]
    },
    {
     "name": "stderr",
     "output_type": "stream",
     "text": [
      "Epoch 161/200 [Train]: 100%|██████████████████████████████████████████| 1/1 [00:00<00:00, 17.05it/s, Train Loss=1.4217]"
     ]
    },
    {
     "name": "stdout",
     "output_type": "stream",
     "text": [
      "Epoch [161/200] Train Loss: 1.4217 | Val Loss: 0.0036 | Time: 0.06s\n"
     ]
    },
    {
     "name": "stderr",
     "output_type": "stream",
     "text": [
      "\n"
     ]
    },
    {
     "name": "stdout",
     "output_type": "stream",
     "text": [
      "OK Model terbaik disimpan.\n"
     ]
    },
    {
     "name": "stderr",
     "output_type": "stream",
     "text": [
      "Epoch 162/200 [Train]: 100%|██████████████████████████████████████████| 1/1 [00:00<00:00, 19.54it/s, Train Loss=1.4216]"
     ]
    },
    {
     "name": "stdout",
     "output_type": "stream",
     "text": [
      "Epoch [162/200] Train Loss: 1.4216 | Val Loss: 0.0036 | Time: 0.09s\n"
     ]
    },
    {
     "name": "stderr",
     "output_type": "stream",
     "text": [
      "\n"
     ]
    },
    {
     "name": "stdout",
     "output_type": "stream",
     "text": [
      "OK Model terbaik disimpan.\n"
     ]
    },
    {
     "name": "stderr",
     "output_type": "stream",
     "text": [
      "Epoch 163/200 [Train]: 100%|██████████████████████████████████████████| 1/1 [00:00<00:00, 19.51it/s, Train Loss=1.4216]"
     ]
    },
    {
     "name": "stdout",
     "output_type": "stream",
     "text": [
      "Epoch [163/200] Train Loss: 1.4216 | Val Loss: 0.0035 | Time: 0.06s\n"
     ]
    },
    {
     "name": "stderr",
     "output_type": "stream",
     "text": [
      "\n"
     ]
    },
    {
     "name": "stdout",
     "output_type": "stream",
     "text": [
      "OK Model terbaik disimpan.\n"
     ]
    },
    {
     "name": "stderr",
     "output_type": "stream",
     "text": [
      "Epoch 164/200 [Train]: 100%|██████████████████████████████████████████| 1/1 [00:00<00:00, 16.48it/s, Train Loss=1.4215]"
     ]
    },
    {
     "name": "stdout",
     "output_type": "stream",
     "text": [
      "Epoch [164/200] Train Loss: 1.4215 | Val Loss: 0.0034 | Time: 0.08s\n"
     ]
    },
    {
     "name": "stderr",
     "output_type": "stream",
     "text": [
      "\n"
     ]
    },
    {
     "name": "stdout",
     "output_type": "stream",
     "text": [
      "OK Model terbaik disimpan.\n"
     ]
    },
    {
     "name": "stderr",
     "output_type": "stream",
     "text": [
      "Epoch 165/200 [Train]: 100%|██████████████████████████████████████████| 1/1 [00:00<00:00, 21.29it/s, Train Loss=1.4215]"
     ]
    },
    {
     "name": "stdout",
     "output_type": "stream",
     "text": [
      "Epoch [165/200] Train Loss: 1.4215 | Val Loss: 0.0034 | Time: 0.07s\n"
     ]
    },
    {
     "name": "stderr",
     "output_type": "stream",
     "text": [
      "\n"
     ]
    },
    {
     "name": "stdout",
     "output_type": "stream",
     "text": [
      "OK Model terbaik disimpan.\n"
     ]
    },
    {
     "name": "stderr",
     "output_type": "stream",
     "text": [
      "Epoch 166/200 [Train]: 100%|██████████████████████████████████████████| 1/1 [00:00<00:00, 15.25it/s, Train Loss=1.4214]"
     ]
    },
    {
     "name": "stdout",
     "output_type": "stream",
     "text": [
      "Epoch [166/200] Train Loss: 1.4214 | Val Loss: 0.0034 | Time: 0.08s\n"
     ]
    },
    {
     "name": "stderr",
     "output_type": "stream",
     "text": [
      "\n"
     ]
    },
    {
     "name": "stdout",
     "output_type": "stream",
     "text": [
      "OK Model terbaik disimpan.\n"
     ]
    },
    {
     "name": "stderr",
     "output_type": "stream",
     "text": [
      "Epoch 167/200 [Train]: 100%|██████████████████████████████████████████| 1/1 [00:00<00:00, 17.50it/s, Train Loss=1.4214]"
     ]
    },
    {
     "name": "stdout",
     "output_type": "stream",
     "text": [
      "Epoch [167/200] Train Loss: 1.4214 | Val Loss: 0.0033 | Time: 0.07s\n"
     ]
    },
    {
     "name": "stderr",
     "output_type": "stream",
     "text": [
      "\n"
     ]
    },
    {
     "name": "stdout",
     "output_type": "stream",
     "text": [
      "OK Model terbaik disimpan.\n"
     ]
    },
    {
     "name": "stderr",
     "output_type": "stream",
     "text": [
      "Epoch 168/200 [Train]: 100%|██████████████████████████████████████████| 1/1 [00:00<00:00, 15.95it/s, Train Loss=1.4213]"
     ]
    },
    {
     "name": "stdout",
     "output_type": "stream",
     "text": [
      "Epoch [168/200] Train Loss: 1.4213 | Val Loss: 0.0033 | Time: 0.07s\n"
     ]
    },
    {
     "name": "stderr",
     "output_type": "stream",
     "text": [
      "\n"
     ]
    },
    {
     "name": "stdout",
     "output_type": "stream",
     "text": [
      "OK Model terbaik disimpan.\n"
     ]
    },
    {
     "name": "stderr",
     "output_type": "stream",
     "text": [
      "Epoch 169/200 [Train]: 100%|██████████████████████████████████████████| 1/1 [00:00<00:00, 18.37it/s, Train Loss=1.4213]"
     ]
    },
    {
     "name": "stdout",
     "output_type": "stream",
     "text": [
      "Epoch [169/200] Train Loss: 1.4213 | Val Loss: 0.0033 | Time: 0.06s\n"
     ]
    },
    {
     "name": "stderr",
     "output_type": "stream",
     "text": [
      "\n"
     ]
    },
    {
     "name": "stdout",
     "output_type": "stream",
     "text": [
      "OK Model terbaik disimpan.\n"
     ]
    },
    {
     "name": "stderr",
     "output_type": "stream",
     "text": [
      "Epoch 170/200 [Train]: 100%|██████████████████████████████████████████| 1/1 [00:00<00:00, 20.35it/s, Train Loss=1.4213]"
     ]
    },
    {
     "name": "stdout",
     "output_type": "stream",
     "text": [
      "Epoch [170/200] Train Loss: 1.4213 | Val Loss: 0.0032 | Time: 0.07s\n"
     ]
    },
    {
     "name": "stderr",
     "output_type": "stream",
     "text": [
      "\n"
     ]
    },
    {
     "name": "stdout",
     "output_type": "stream",
     "text": [
      "OK Model terbaik disimpan.\n"
     ]
    },
    {
     "name": "stderr",
     "output_type": "stream",
     "text": [
      "Epoch 171/200 [Train]: 100%|██████████████████████████████████████████| 1/1 [00:00<00:00, 16.24it/s, Train Loss=1.4212]"
     ]
    },
    {
     "name": "stdout",
     "output_type": "stream",
     "text": [
      "Epoch [171/200] Train Loss: 1.4212 | Val Loss: 0.0032 | Time: 0.08s\n"
     ]
    },
    {
     "name": "stderr",
     "output_type": "stream",
     "text": [
      "\n"
     ]
    },
    {
     "name": "stdout",
     "output_type": "stream",
     "text": [
      "OK Model terbaik disimpan.\n"
     ]
    },
    {
     "name": "stderr",
     "output_type": "stream",
     "text": [
      "Epoch 172/200 [Train]: 100%|██████████████████████████████████████████| 1/1 [00:00<00:00, 18.09it/s, Train Loss=1.4212]"
     ]
    },
    {
     "name": "stdout",
     "output_type": "stream",
     "text": [
      "Epoch [172/200] Train Loss: 1.4212 | Val Loss: 0.0031 | Time: 0.07s\n"
     ]
    },
    {
     "name": "stderr",
     "output_type": "stream",
     "text": [
      "\n"
     ]
    },
    {
     "name": "stdout",
     "output_type": "stream",
     "text": [
      "OK Model terbaik disimpan.\n"
     ]
    },
    {
     "name": "stderr",
     "output_type": "stream",
     "text": [
      "Epoch 173/200 [Train]: 100%|██████████████████████████████████████████| 1/1 [00:00<00:00, 15.90it/s, Train Loss=1.4211]"
     ]
    },
    {
     "name": "stdout",
     "output_type": "stream",
     "text": [
      "Epoch [173/200] Train Loss: 1.4211 | Val Loss: 0.0031 | Time: 0.07s\n"
     ]
    },
    {
     "name": "stderr",
     "output_type": "stream",
     "text": [
      "\n"
     ]
    },
    {
     "name": "stdout",
     "output_type": "stream",
     "text": [
      "OK Model terbaik disimpan.\n"
     ]
    },
    {
     "name": "stderr",
     "output_type": "stream",
     "text": [
      "Epoch 174/200 [Train]: 100%|██████████████████████████████████████████| 1/1 [00:00<00:00, 15.97it/s, Train Loss=1.4211]"
     ]
    },
    {
     "name": "stdout",
     "output_type": "stream",
     "text": [
      "Epoch [174/200] Train Loss: 1.4211 | Val Loss: 0.0031 | Time: 0.08s\n"
     ]
    },
    {
     "name": "stderr",
     "output_type": "stream",
     "text": [
      "\n"
     ]
    },
    {
     "name": "stdout",
     "output_type": "stream",
     "text": [
      "OK Model terbaik disimpan.\n"
     ]
    },
    {
     "name": "stderr",
     "output_type": "stream",
     "text": [
      "Epoch 175/200 [Train]: 100%|██████████████████████████████████████████| 1/1 [00:00<00:00, 17.98it/s, Train Loss=1.4211]"
     ]
    },
    {
     "name": "stdout",
     "output_type": "stream",
     "text": [
      "Epoch [175/200] Train Loss: 1.4211 | Val Loss: 0.0030 | Time: 0.07s\n"
     ]
    },
    {
     "name": "stderr",
     "output_type": "stream",
     "text": [
      "\n"
     ]
    },
    {
     "name": "stdout",
     "output_type": "stream",
     "text": [
      "OK Model terbaik disimpan.\n"
     ]
    },
    {
     "name": "stderr",
     "output_type": "stream",
     "text": [
      "Epoch 176/200 [Train]: 100%|██████████████████████████████████████████| 1/1 [00:00<00:00, 18.20it/s, Train Loss=1.4210]"
     ]
    },
    {
     "name": "stdout",
     "output_type": "stream",
     "text": [
      "Epoch [176/200] Train Loss: 1.4210 | Val Loss: 0.0030 | Time: 0.06s\n"
     ]
    },
    {
     "name": "stderr",
     "output_type": "stream",
     "text": [
      "\n"
     ]
    },
    {
     "name": "stdout",
     "output_type": "stream",
     "text": [
      "OK Model terbaik disimpan.\n"
     ]
    },
    {
     "name": "stderr",
     "output_type": "stream",
     "text": [
      "Epoch 177/200 [Train]: 100%|██████████████████████████████████████████| 1/1 [00:00<00:00, 15.99it/s, Train Loss=1.4210]\n"
     ]
    },
    {
     "name": "stdout",
     "output_type": "stream",
     "text": [
      "Epoch [177/200] Train Loss: 1.4210 | Val Loss: 0.0029 | Time: 0.06s\n",
      "OK Model terbaik disimpan.\n"
     ]
    },
    {
     "name": "stderr",
     "output_type": "stream",
     "text": [
      "Epoch 178/200 [Train]: 100%|██████████████████████████████████████████| 1/1 [00:00<00:00, 17.76it/s, Train Loss=1.4209]"
     ]
    },
    {
     "name": "stdout",
     "output_type": "stream",
     "text": [
      "Epoch [178/200] Train Loss: 1.4209 | Val Loss: 0.0029 | Time: 0.07s\n"
     ]
    },
    {
     "name": "stderr",
     "output_type": "stream",
     "text": [
      "\n"
     ]
    },
    {
     "name": "stdout",
     "output_type": "stream",
     "text": [
      "OK Model terbaik disimpan.\n"
     ]
    },
    {
     "name": "stderr",
     "output_type": "stream",
     "text": [
      "Epoch 179/200 [Train]: 100%|██████████████████████████████████████████| 1/1 [00:00<00:00, 21.71it/s, Train Loss=1.4209]"
     ]
    },
    {
     "name": "stdout",
     "output_type": "stream",
     "text": [
      "Epoch [179/200] Train Loss: 1.4209 | Val Loss: 0.0029 | Time: 0.06s\n"
     ]
    },
    {
     "name": "stderr",
     "output_type": "stream",
     "text": [
      "\n"
     ]
    },
    {
     "name": "stdout",
     "output_type": "stream",
     "text": [
      "OK Model terbaik disimpan.\n"
     ]
    },
    {
     "name": "stderr",
     "output_type": "stream",
     "text": [
      "Epoch 180/200 [Train]: 100%|██████████████████████████████████████████| 1/1 [00:00<00:00, 21.33it/s, Train Loss=1.4209]"
     ]
    },
    {
     "name": "stdout",
     "output_type": "stream",
     "text": [
      "Epoch [180/200] Train Loss: 1.4209 | Val Loss: 0.0028 | Time: 0.05s\n"
     ]
    },
    {
     "name": "stderr",
     "output_type": "stream",
     "text": [
      "\n"
     ]
    },
    {
     "name": "stdout",
     "output_type": "stream",
     "text": [
      "OK Model terbaik disimpan.\n"
     ]
    },
    {
     "name": "stderr",
     "output_type": "stream",
     "text": [
      "Epoch 181/200 [Train]: 100%|██████████████████████████████████████████| 1/1 [00:00<00:00, 15.26it/s, Train Loss=1.4208]"
     ]
    },
    {
     "name": "stdout",
     "output_type": "stream",
     "text": [
      "Epoch [181/200] Train Loss: 1.4208 | Val Loss: 0.0028 | Time: 0.07s\n"
     ]
    },
    {
     "name": "stderr",
     "output_type": "stream",
     "text": [
      "\n"
     ]
    },
    {
     "name": "stdout",
     "output_type": "stream",
     "text": [
      "OK Model terbaik disimpan.\n"
     ]
    },
    {
     "name": "stderr",
     "output_type": "stream",
     "text": [
      "Epoch 182/200 [Train]: 100%|██████████████████████████████████████████| 1/1 [00:00<00:00, 15.95it/s, Train Loss=1.4208]"
     ]
    },
    {
     "name": "stdout",
     "output_type": "stream",
     "text": [
      "Epoch [182/200] Train Loss: 1.4208 | Val Loss: 0.0028 | Time: 0.06s\n"
     ]
    },
    {
     "name": "stderr",
     "output_type": "stream",
     "text": [
      "\n"
     ]
    },
    {
     "name": "stdout",
     "output_type": "stream",
     "text": [
      "OK Model terbaik disimpan.\n"
     ]
    },
    {
     "name": "stderr",
     "output_type": "stream",
     "text": [
      "Epoch 183/200 [Train]: 100%|██████████████████████████████████████████| 1/1 [00:00<00:00, 18.53it/s, Train Loss=1.4208]"
     ]
    },
    {
     "name": "stdout",
     "output_type": "stream",
     "text": [
      "Epoch [183/200] Train Loss: 1.4208 | Val Loss: 0.0027 | Time: 0.06s\n"
     ]
    },
    {
     "name": "stderr",
     "output_type": "stream",
     "text": [
      "\n"
     ]
    },
    {
     "name": "stdout",
     "output_type": "stream",
     "text": [
      "OK Model terbaik disimpan.\n"
     ]
    },
    {
     "name": "stderr",
     "output_type": "stream",
     "text": [
      "Epoch 184/200 [Train]: 100%|██████████████████████████████████████████| 1/1 [00:00<00:00, 16.48it/s, Train Loss=1.4207]"
     ]
    },
    {
     "name": "stdout",
     "output_type": "stream",
     "text": [
      "Epoch [184/200] Train Loss: 1.4207 | Val Loss: 0.0027 | Time: 0.07s\n"
     ]
    },
    {
     "name": "stderr",
     "output_type": "stream",
     "text": [
      "\n"
     ]
    },
    {
     "name": "stdout",
     "output_type": "stream",
     "text": [
      "OK Model terbaik disimpan.\n"
     ]
    },
    {
     "name": "stderr",
     "output_type": "stream",
     "text": [
      "Epoch 185/200 [Train]: 100%|██████████████████████████████████████████| 1/1 [00:00<00:00, 21.90it/s, Train Loss=1.4207]"
     ]
    },
    {
     "name": "stdout",
     "output_type": "stream",
     "text": [
      "Epoch [185/200] Train Loss: 1.4207 | Val Loss: 0.0027 | Time: 0.07s\n"
     ]
    },
    {
     "name": "stderr",
     "output_type": "stream",
     "text": [
      "\n"
     ]
    },
    {
     "name": "stdout",
     "output_type": "stream",
     "text": [
      "OK Model terbaik disimpan.\n"
     ]
    },
    {
     "name": "stderr",
     "output_type": "stream",
     "text": [
      "Epoch 186/200 [Train]: 100%|██████████████████████████████████████████| 1/1 [00:00<00:00, 15.26it/s, Train Loss=1.4207]"
     ]
    },
    {
     "name": "stdout",
     "output_type": "stream",
     "text": [
      "Epoch [186/200] Train Loss: 1.4207 | Val Loss: 0.0027 | Time: 0.07s\n"
     ]
    },
    {
     "name": "stderr",
     "output_type": "stream",
     "text": [
      "\n"
     ]
    },
    {
     "name": "stdout",
     "output_type": "stream",
     "text": [
      "OK Model terbaik disimpan.\n"
     ]
    },
    {
     "name": "stderr",
     "output_type": "stream",
     "text": [
      "Epoch 187/200 [Train]: 100%|██████████████████████████████████████████| 1/1 [00:00<00:00, 16.56it/s, Train Loss=1.4207]"
     ]
    },
    {
     "name": "stdout",
     "output_type": "stream",
     "text": [
      "Epoch [187/200] Train Loss: 1.4207 | Val Loss: 0.0026 | Time: 0.08s\n"
     ]
    },
    {
     "name": "stderr",
     "output_type": "stream",
     "text": [
      "\n"
     ]
    },
    {
     "name": "stdout",
     "output_type": "stream",
     "text": [
      "OK Model terbaik disimpan.\n"
     ]
    },
    {
     "name": "stderr",
     "output_type": "stream",
     "text": [
      "Epoch 188/200 [Train]: 100%|██████████████████████████████████████████| 1/1 [00:00<00:00, 16.26it/s, Train Loss=1.4206]"
     ]
    },
    {
     "name": "stdout",
     "output_type": "stream",
     "text": [
      "Epoch [188/200] Train Loss: 1.4206 | Val Loss: 0.0026 | Time: 0.07s\n"
     ]
    },
    {
     "name": "stderr",
     "output_type": "stream",
     "text": [
      "\n"
     ]
    },
    {
     "name": "stdout",
     "output_type": "stream",
     "text": [
      "OK Model terbaik disimpan.\n"
     ]
    },
    {
     "name": "stderr",
     "output_type": "stream",
     "text": [
      "Epoch 189/200 [Train]: 100%|██████████████████████████████████████████| 1/1 [00:00<00:00, 14.11it/s, Train Loss=1.4206]"
     ]
    },
    {
     "name": "stdout",
     "output_type": "stream",
     "text": [
      "Epoch [189/200] Train Loss: 1.4206 | Val Loss: 0.0026 | Time: 0.08s\n"
     ]
    },
    {
     "name": "stderr",
     "output_type": "stream",
     "text": [
      "\n"
     ]
    },
    {
     "name": "stdout",
     "output_type": "stream",
     "text": [
      "OK Model terbaik disimpan.\n"
     ]
    },
    {
     "name": "stderr",
     "output_type": "stream",
     "text": [
      "Epoch 190/200 [Train]: 100%|██████████████████████████████████████████| 1/1 [00:00<00:00, 20.70it/s, Train Loss=1.4206]"
     ]
    },
    {
     "name": "stdout",
     "output_type": "stream",
     "text": [
      "Epoch [190/200] Train Loss: 1.4206 | Val Loss: 0.0025 | Time: 0.07s\n"
     ]
    },
    {
     "name": "stderr",
     "output_type": "stream",
     "text": [
      "\n"
     ]
    },
    {
     "name": "stdout",
     "output_type": "stream",
     "text": [
      "OK Model terbaik disimpan.\n"
     ]
    },
    {
     "name": "stderr",
     "output_type": "stream",
     "text": [
      "Epoch 191/200 [Train]: 100%|██████████████████████████████████████████| 1/1 [00:00<00:00, 17.42it/s, Train Loss=1.4205]"
     ]
    },
    {
     "name": "stdout",
     "output_type": "stream",
     "text": [
      "Epoch [191/200] Train Loss: 1.4205 | Val Loss: 0.0025 | Time: 0.07s\n"
     ]
    },
    {
     "name": "stderr",
     "output_type": "stream",
     "text": [
      "\n"
     ]
    },
    {
     "name": "stdout",
     "output_type": "stream",
     "text": [
      "OK Model terbaik disimpan.\n"
     ]
    },
    {
     "name": "stderr",
     "output_type": "stream",
     "text": [
      "Epoch 192/200 [Train]: 100%|██████████████████████████████████████████| 1/1 [00:00<00:00, 17.66it/s, Train Loss=1.4205]"
     ]
    },
    {
     "name": "stdout",
     "output_type": "stream",
     "text": [
      "Epoch [192/200] Train Loss: 1.4205 | Val Loss: 0.0025 | Time: 0.07s\n"
     ]
    },
    {
     "name": "stderr",
     "output_type": "stream",
     "text": [
      "\n"
     ]
    },
    {
     "name": "stdout",
     "output_type": "stream",
     "text": [
      "OK Model terbaik disimpan.\n"
     ]
    },
    {
     "name": "stderr",
     "output_type": "stream",
     "text": [
      "Epoch 193/200 [Train]: 100%|██████████████████████████████████████████| 1/1 [00:00<00:00, 17.69it/s, Train Loss=1.4205]"
     ]
    },
    {
     "name": "stdout",
     "output_type": "stream",
     "text": [
      "Epoch [193/200] Train Loss: 1.4205 | Val Loss: 0.0025 | Time: 0.06s\n"
     ]
    },
    {
     "name": "stderr",
     "output_type": "stream",
     "text": [
      "\n"
     ]
    },
    {
     "name": "stdout",
     "output_type": "stream",
     "text": [
      "OK Model terbaik disimpan.\n"
     ]
    },
    {
     "name": "stderr",
     "output_type": "stream",
     "text": [
      "Epoch 194/200 [Train]: 100%|██████████████████████████████████████████| 1/1 [00:00<00:00, 15.24it/s, Train Loss=1.4205]"
     ]
    },
    {
     "name": "stdout",
     "output_type": "stream",
     "text": [
      "Epoch [194/200] Train Loss: 1.4205 | Val Loss: 0.0024 | Time: 0.07s\n"
     ]
    },
    {
     "name": "stderr",
     "output_type": "stream",
     "text": [
      "\n"
     ]
    },
    {
     "name": "stdout",
     "output_type": "stream",
     "text": [
      "OK Model terbaik disimpan.\n"
     ]
    },
    {
     "name": "stderr",
     "output_type": "stream",
     "text": [
      "Epoch 195/200 [Train]: 100%|██████████████████████████████████████████| 1/1 [00:00<00:00, 15.27it/s, Train Loss=1.4204]"
     ]
    },
    {
     "name": "stdout",
     "output_type": "stream",
     "text": [
      "Epoch [195/200] Train Loss: 1.4204 | Val Loss: 0.0024 | Time: 0.07s\n"
     ]
    },
    {
     "name": "stderr",
     "output_type": "stream",
     "text": [
      "\n"
     ]
    },
    {
     "name": "stdout",
     "output_type": "stream",
     "text": [
      "OK Model terbaik disimpan.\n"
     ]
    },
    {
     "name": "stderr",
     "output_type": "stream",
     "text": [
      "Epoch 196/200 [Train]: 100%|██████████████████████████████████████████| 1/1 [00:00<00:00, 21.46it/s, Train Loss=1.4204]"
     ]
    },
    {
     "name": "stdout",
     "output_type": "stream",
     "text": [
      "Epoch [196/200] Train Loss: 1.4204 | Val Loss: 0.0024 | Time: 0.07s\n"
     ]
    },
    {
     "name": "stderr",
     "output_type": "stream",
     "text": [
      "\n"
     ]
    },
    {
     "name": "stdout",
     "output_type": "stream",
     "text": [
      "OK Model terbaik disimpan.\n"
     ]
    },
    {
     "name": "stderr",
     "output_type": "stream",
     "text": [
      "Epoch 197/200 [Train]: 100%|██████████████████████████████████████████| 1/1 [00:00<00:00, 18.69it/s, Train Loss=1.4204]"
     ]
    },
    {
     "name": "stdout",
     "output_type": "stream",
     "text": [
      "Epoch [197/200] Train Loss: 1.4204 | Val Loss: 0.0024 | Time: 0.06s\n"
     ]
    },
    {
     "name": "stderr",
     "output_type": "stream",
     "text": [
      "\n"
     ]
    },
    {
     "name": "stdout",
     "output_type": "stream",
     "text": [
      "OK Model terbaik disimpan.\n"
     ]
    },
    {
     "name": "stderr",
     "output_type": "stream",
     "text": [
      "Epoch 198/200 [Train]: 100%|██████████████████████████████████████████| 1/1 [00:00<00:00, 18.33it/s, Train Loss=1.4204]"
     ]
    },
    {
     "name": "stdout",
     "output_type": "stream",
     "text": [
      "Epoch [198/200] Train Loss: 1.4204 | Val Loss: 0.0023 | Time: 0.06s\n"
     ]
    },
    {
     "name": "stderr",
     "output_type": "stream",
     "text": [
      "\n"
     ]
    },
    {
     "name": "stdout",
     "output_type": "stream",
     "text": [
      "OK Model terbaik disimpan.\n"
     ]
    },
    {
     "name": "stderr",
     "output_type": "stream",
     "text": [
      "Epoch 199/200 [Train]: 100%|██████████████████████████████████████████| 1/1 [00:00<00:00, 14.53it/s, Train Loss=1.4203]"
     ]
    },
    {
     "name": "stdout",
     "output_type": "stream",
     "text": [
      "Epoch [199/200] Train Loss: 1.4203 | Val Loss: 0.0023 | Time: 0.08s\n"
     ]
    },
    {
     "name": "stderr",
     "output_type": "stream",
     "text": [
      "\n"
     ]
    },
    {
     "name": "stdout",
     "output_type": "stream",
     "text": [
      "OK Model terbaik disimpan.\n"
     ]
    },
    {
     "name": "stderr",
     "output_type": "stream",
     "text": [
      "Epoch 200/200 [Train]: 100%|██████████████████████████████████████████| 1/1 [00:00<00:00, 15.59it/s, Train Loss=1.4203]"
     ]
    },
    {
     "name": "stdout",
     "output_type": "stream",
     "text": [
      "Epoch [200/200] Train Loss: 1.4203 | Val Loss: 0.0023 | Time: 0.06s\n"
     ]
    },
    {
     "name": "stderr",
     "output_type": "stream",
     "text": [
      "\n"
     ]
    },
    {
     "name": "stdout",
     "output_type": "stream",
     "text": [
      "OK Model terbaik disimpan.\n",
      "Alhamdulillah, Training selesai.\n"
     ]
    }
   ],
   "source": [
    "# Cell 12\n",
    "# Training loop dengan validasi per epoch (dengan checkpoint & resume)\n",
    "\n",
    "import os\n",
    "import time\n",
    "from tqdm import tqdm\n",
    "\n",
    "# ==== PARAMETER ====\n",
    "START_EPOCH = 1          # default, akan ditimpa otomatis jika ada checkpoint\n",
    "NUM_EPOCHS = 200         # epoch di-set 200\n",
    "\n",
    "patience = 50           # Keperluan early stopping\n",
    "no_improve = 0          # Keperluan early stopping\n",
    "\n",
    "temperature = 0.1\n",
    "best_val_loss = float('inf')\n",
    "checkpoint_path = \"checkpoint_sst_ver3C.pt\" # nama file checkpoint diperjelas ver3C\n",
    "\n",
    "# ==== Jika checkpoint ada, lanjutkan dari sana ====\n",
    "if os.path.exists(checkpoint_path):\n",
    "    checkpoint = torch.load(checkpoint_path, map_location=device)\n",
    "    encoder.load_state_dict(checkpoint[\"encoder_state\"])\n",
    "    transformer.load_state_dict(checkpoint[\"transformer_state\"])\n",
    "    proj_head.load_state_dict(checkpoint[\"proj_head_state\"])\n",
    "    optimizer.load_state_dict(checkpoint[\"optimizer_state\"])\n",
    "    START_EPOCH = checkpoint[\"epoch\"] + 1\n",
    "    best_val_loss = checkpoint[\"best_val_loss\"]\n",
    "    print(f\"[OK] Checkpoint ditemukan. Melanjutkan dari epoch {START_EPOCH}.\")\n",
    "else:\n",
    "    print(\"[MAAF] Tidak ditemukan checkpoint. Memulai training dari awal.\")\n",
    "\n",
    "# ==== Mulai Training ====\n",
    "for epoch in range(START_EPOCH, NUM_EPOCHS+1):  # Start awal di 1, hingga nanti di 201 - 1\n",
    "    start_time = time.time()\n",
    "\n",
    "    # ------------------------\n",
    "    # MODE TRAIN\n",
    "    # ------------------------\n",
    "    encoder.train()\n",
    "    transformer.train()\n",
    "    proj_head.train()\n",
    "\n",
    "    total_train_loss = 0.0\n",
    "\n",
    "    pbar = tqdm(train_loader, desc=f\"Epoch {epoch}/{NUM_EPOCHS} [Train]\", leave=True)\n",
    "    for batch_X, _ in pbar:\n",
    "        batch_X = batch_X.to(device)\n",
    "\n",
    "        # 1. Encode patch untuk dapatkan token embedding (B, 99, 256)\n",
    "        featoken = encoder(batch_X)\n",
    "\n",
    "        # 2. Latent augmentation (Gaussian Noise)\n",
    "        aug_featoken = augmentor(featoken)\n",
    "\n",
    "        # 3️. Proses lewat transformer (attention antar token), output transformer shape (B, 99, 256) / (B, T, D)\n",
    "        z_orig = transformer(featoken)\n",
    "        z_aug  = transformer(aug_featoken)\n",
    "\n",
    "\n",
    "        # 4️. Proyeksikan ke ruang latent (untuk InfoNCE), output proj_head shape (B, 128) / (B, proj_dim)\n",
    "        q = proj_head(z_orig)\n",
    "        k = proj_head(z_aug)\n",
    "\n",
    "        # 5. Hitung loss contrastive\n",
    "        loss = info_nce_loss(q, k, temperature=temperature)\n",
    "\n",
    "        optimizer.zero_grad()\n",
    "        loss.backward()\n",
    "        optimizer.step()\n",
    "\n",
    "        total_train_loss += loss.item()\n",
    "        pbar.set_postfix({\"Train Loss\": f\"{loss.item():.4f}\"})\n",
    "\n",
    "    avg_train_loss = total_train_loss / len(train_loader)\n",
    "\n",
    "    # ------------------------\n",
    "    # MODE VALIDASI\n",
    "    # ------------------------\n",
    "    encoder.eval()\n",
    "    transformer.eval()\n",
    "    proj_head.eval()\n",
    "    total_val_loss = 0.0\n",
    "\n",
    "    with torch.no_grad():\n",
    "        for batch_X, _ in val_loader:\n",
    "            batch_X = batch_X.to(device)\n",
    "            featoken = encoder(batch_X)\n",
    "            aug_featoken = augmentor(featoken)\n",
    "            z_orig = transformer(featoken)\n",
    "            z_aug  = transformer(aug_featoken)\n",
    "            q = proj_head(z_orig)\n",
    "            k = proj_head(z_aug)\n",
    "            val_loss = info_nce_loss(q, k, temperature)\n",
    "            total_val_loss += val_loss.item()\n",
    "\n",
    "    avg_val_loss = total_val_loss / len(val_loader)\n",
    "    \n",
    "    # Waktu per epoch\n",
    "    epoch_time = time.time() - start_time\n",
    "\n",
    "    print(f\"Epoch [{epoch}/{NUM_EPOCHS}] \"\n",
    "          f\"Train Loss: {avg_train_loss:.4f} | \"\n",
    "          f\"Val Loss: {avg_val_loss:.4f} | \"\n",
    "          f\"Time: {epoch_time:.2f}s\")\n",
    "\n",
    "    # ------------------------\n",
    "    # SIMPAN CHECKPOINT (checkpoint memiliki file-nya sendiri)\n",
    "    # ------------------------\n",
    "    checkpoint = {\n",
    "        \"epoch\": epoch,\n",
    "        \"encoder_state\": encoder.state_dict(),\n",
    "        \"transformer_state\": transformer.state_dict(),\n",
    "        \"proj_head_state\": proj_head.state_dict(),\n",
    "        \"optimizer_state\": optimizer.state_dict(),\n",
    "        \"best_val_loss\": best_val_loss\n",
    "    }\n",
    "    torch.save(checkpoint, checkpoint_path)\n",
    "\n",
    "    # Simpan model terbaik (model terbaik memiliki file-nya sendiri)\n",
    "    if avg_val_loss < best_val_loss:\n",
    "        best_val_loss = avg_val_loss\n",
    "        no_improve = 0\n",
    "        torch.save(checkpoint, \"best_sst_ver3C.pt\")  # nama file best model diperjelas ver3C\n",
    "        print(\"OK Model terbaik disimpan.\")\n",
    "    else:\n",
    "        no_improve += 1\n",
    "        print(f\"[Epoch {epoch}] No improvement {no_improve}/{patience}.\")\n",
    "\n",
    "    if no_improve >= patience:\n",
    "        print(\"Early stopping triggered.\")\n",
    "        break\n",
    "\n",
    "print(\"Alhamdulillah, Training selesai.\")\n"
   ]
  }
 ],
 "metadata": {
  "kernelspec": {
   "display_name": "Python 3 (ipykernel)",
   "language": "python",
   "name": "python3"
  },
  "language_info": {
   "codemirror_mode": {
    "name": "ipython",
    "version": 3
   },
   "file_extension": ".py",
   "mimetype": "text/x-python",
   "name": "python",
   "nbconvert_exporter": "python",
   "pygments_lexer": "ipython3",
   "version": "3.10.18"
  }
 },
 "nbformat": 4,
 "nbformat_minor": 5
}
